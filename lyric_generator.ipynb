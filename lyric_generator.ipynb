{
 "cells": [
  {
   "cell_type": "code",
   "execution_count": null,
   "metadata": {
    "id": "nml_1eYVqHik"
   },
   "outputs": [],
   "source": [
    "import tensorflow as tf\n",
    "import regex as re\n",
    "import numpy as np\n",
    "from tensorflow.keras.preprocessing.text import Tokenizer\n",
    "from tensorflow.keras.preprocessing.sequence import pad_sequences"
   ]
  },
  {
   "cell_type": "code",
   "execution_count": null,
   "metadata": {
    "colab": {
     "base_uri": "https://localhost:8080/"
    },
    "id": "U12JYZRjFNBn",
    "outputId": "33179c3f-b174-4546-be85-0b21e312b351"
   },
   "outputs": [
    {
     "name": "stdout",
     "output_type": "stream",
     "text":[]
    },
    {
     "data": {
      "text/plain": [
       "9182"
      ]
     },
     "execution_count": 20,
     "metadata": {},
     "output_type": "execute_result"
    }
   ],
   "source": [
    "data = open('./kanye.txt').read()\n",
    "corpus = data.lower().split(\"\\n\")\n",
    "\n",
    "cleaned_corpus = [re.sub('[!\"#$%&()*+,-./:;<=>?@[\\\\]^_`{|}~\\t\\n]', '', lyric) for lyric in corpus]\n",
    "corpus = cleaned_corpus\n",
    "\n",
    "print(corpus)\n",
    "len(corpus)"
   ]
  },
  {
   "cell_type": "code",
   "execution_count": null,
   "metadata": {
    "colab": {
     "base_uri": "https://localhost:8080/"
    },
    "id": "LzcO_o60quUe",
    "outputId": "0ea143b4-cf46-4a77-cb61-17f4d9f53113"
   },
   "outputs": [
    {
     "name": "stdout",
     "output_type": "stream",
     "text":[]
    }
   ],
   "source": [
    "tokenizer = Tokenizer()\n",
    "\n",
    "tokenizer.fit_on_texts(corpus)\n",
    "\n",
    "total_words = len(tokenizer.word_index)+1\n",
    "\n",
    "print(f'Word index dictionart: {tokenizer.word_index}')\n",
    "print(f'total Words: {total_words}')"
   ]
  },
  {
   "cell_type": "code",
   "execution_count": null,
   "metadata": {
    "colab": {
     "base_uri": "https://localhost:8080/"
    },
    "id": "3odu7SMy9a0q",
    "outputId": "9e18cea0-125a-426f-ef0b-3629018ed300"
   },
   "outputs": [
    {
     "name": "stdout",
     "output_type": "stream",
     "text": [
      "139\n"
     ]
    }
   ],
   "source": [
    "print(tokenizer.word_index['look'])"
   ]
  },
  {
   "cell_type": "code",
   "execution_count": null,
   "metadata": {
    "id": "pCIOnleLwJbY"
   },
   "outputs": [],
   "source": [
    "input_sequences = []\n",
    "\n",
    "for line in corpus:\n",
    "  token_list = tokenizer.texts_to_sequences([line])[0]\n",
    "\n",
    "  for i in range(len(token_list)):\n",
    "    n_gram=token_list[:i+1]\n",
    "\n",
    "    input_sequences.append(n_gram)\n",
    "\n",
    "max_length = max([len(j) for j in input_sequences])\n",
    "\n",
    "input_sequences = np.array(pad_sequences(input_sequences, padding='pre', maxlen=max_length))\n",
    "\n",
    "xs, labels = input_sequences[:,:-1],input_sequences[:,-1]\n",
    "\n",
    "ys = tf.keras.utils.to_categorical(labels, num_classes=total_words)"
   ]
  },
  {
   "cell_type": "code",
   "execution_count": null,
   "metadata": {
    "colab": {
     "base_uri": "https://localhost:8080/"
    },
    "id": "O-NFbCVpEfX9",
    "outputId": "7cecec16-ed05-41f6-c287-f9e6f4d13f93"
   },
   "outputs": [
    {
     "name": "stdout",
     "output_type": "stream",
     "text": [
      "235\n"
     ]
    }
   ],
   "source": [
    "print(max_length)"
   ]
  },
  {
   "cell_type": "code",
   "execution_count": null,
   "metadata": {
    "colab": {
     "base_uri": "https://localhost:8080/"
    },
    "id": "Ophodv5p0P9z",
    "outputId": "902f3e90-5b66-4dfa-81f2-6af371ce82fc"
   },
   "outputs": [
    {
     "name": "stdout",
     "output_type": "stream",
     "text": [
      "sample sentence: \n",
      "['kanye', 'can', 'i', 'talk', 'to', 'you', 'for', 'a', 'minute', 'me', 'and', 'the', 'other', 'faculty', 'members', 'was', \"wonderin'\", 'could', 'you', 'do', 'a', 'lil', 'som', \"somethin'\", 'beautiful', \"somethin'\", 'that', 'the', 'kids', 'is', \"gon'\", 'love', 'when', 'they', 'hear', 'it', \"tha's\", 'gon', 'make', 'them', 'start', \"jumpin'\", 'up', 'and', 'down', 'and', \"sharin'\", 'candy', \"an'\", 'stuff', 'think', 'you', 'could', 'probably', 'do', \"somethin'\", 'for', 'the', 'kids', 'for', 'graduation', 'to', 'singintro']\n",
      "[33, 52, 1, 187, 4, 3, 21, 6, 889, 9, 5, 2, 303, 2819, 1992, 36, 890, 100, 3, 53, 6, 585, 2820, 375, 632, 375, 11, 2, 244, 25, 121, 55, 42, 29, 234, 8, 2821, 376, 78, 101, 287, 2822, 16, 5, 41, 5, 1993, 985, 1113, 986, 156, 3, 100, 800, 53, 375, 21, 2, 244, 21, 1540, 4, 2823]\n"
     ]
    }
   ],
   "source": [
    "sentence = corpus[0].lower().split()\n",
    "print(f'sample sentence: \\n{sentence}')\n",
    "\n",
    "token_list = []\n",
    "\n",
    "for word in sentence: \n",
    "  token_list.append(tokenizer.word_index[word])\n",
    "\n",
    "print(token_list)"
   ]
  },
  {
   "cell_type": "code",
   "execution_count": null,
   "metadata": {
    "colab": {
     "base_uri": "https://localhost:8080/"
    },
    "id": "XgZWtm4O1FhN",
    "outputId": "328c90c2-41d6-4178-add9-8b27b1a4f3ab"
   },
   "outputs": [
    {
     "name": "stdout",
     "output_type": "stream",
     "text": [
      "token list: [  0   0   0   0   0   0   0   0   0   0   0   0   0   0   0   0   0   0\n",
      "   0   0   0   0   0   0   0   0   0   0   0   0   0   0   0   0   0   0\n",
      "   0   0   0   0   0   0   0   0   0   0   0   0   0   0   0   0   0   0\n",
      "   0   0   0   0   0   0   0   0   0   0   0   0   0   0   0   0   0   0\n",
      "   0   0   0   0   0   0   0   0   0   0   0   0   0   0   0   0   0   0\n",
      "   0   0   0   0   0   0   0   0   0   0   0   0   0   0   0   0   0   0\n",
      "   0   0   0   0   0   0   0   0   0   0   0   0   0   0   0   0   0   0\n",
      "   0   0   0   0   0   0   0   0   0   0   0   0   0   0   0   0   0   0\n",
      "   0   0   0   0   0   0   0   0   0   0   0   0   0   0   0   0   0   0\n",
      "   0   0   0   0   0   0   0   0   0   0   0   0   0   0   0   0   0   0\n",
      "   0   0   0   0   0   0   0   0   0   0   0   0   0   0   0   0   0   0\n",
      "   0   0   0   0   0   0   0   0   0   0   0   0   0   0   0   0   0   0\n",
      "   0   0   0   0   0   0   0   0   0   0   0   0  33  52   1 187   4   3]\n",
      "decoded to text: ['kanye can i talk to you']\n"
     ]
    }
   ],
   "source": [
    "elem_number = 6\n",
    "\n",
    "print(f'token list: {xs[elem_number]}')\n",
    "print(f'decoded to text: {tokenizer.sequences_to_texts([xs[elem_number]])}')\n"
   ]
  },
  {
   "cell_type": "code",
   "execution_count": null,
   "metadata": {
    "colab": {
     "base_uri": "https://localhost:8080/"
    },
    "id": "YVYmDEVF27Qh",
    "outputId": "f8da67f6-aba5-4bc8-b1d6-8950d0c58245"
   },
   "outputs": [
    {
     "name": "stdout",
     "output_type": "stream",
     "text": [
      "one-hot label: [0. 0. 0. ... 0. 0. 0.]\n",
      "index of label: 21\n"
     ]
    }
   ],
   "source": [
    "print(f'one-hot label: {ys[elem_number]}')\n",
    "print(f'index of label: {np.argmax(ys[elem_number])}')"
   ]
  },
  {
   "cell_type": "code",
   "execution_count": null,
   "metadata": {
    "colab": {
     "base_uri": "https://localhost:8080/"
    },
    "id": "dn6vC71V3BhJ",
    "outputId": "fb2a43c3-7954-47c7-f0b8-32323d865cc8"
   },
   "outputs": [
    {
     "name": "stdout",
     "output_type": "stream",
     "text": [
      "token list: [  0   0   0   0   0   0   0   0   0   0   0   0   0   0   0   0   0   0\n",
      "   0   0   0   0   0   0   0   0   0   0   0   0   0   0   0   0   0   0\n",
      "   0   0   0   0   0   0   0   0   0   0   0   0   0   0   0   0   0   0\n",
      "   0   0   0   0   0   0   0   0   0   0   0   0   0   0   0   0   0   0\n",
      "   0   0   0   0   0   0   0   0   0   0   0   0   0   0   0   0   0   0\n",
      "   0   0   0   0   0   0   0   0   0   0   0   0   0   0   0   0   0   0\n",
      "   0   0   0   0   0   0   0   0   0   0   0   0   0   0   0   0   0   0\n",
      "   0   0   0   0   0   0   0   0   0   0   0   0   0   0   0   0   0   0\n",
      "   0   0   0   0   0   0   0   0   0   0   0   0   0   0   0   0   0   0\n",
      "   0   0   0   0   0   0   0   0   0   0   0   0   0   0   0   0   0   0\n",
      "   0   0   0   0   0   0   0   0   0   0   0   0   0   0   0   0   0   0\n",
      "   0   0   0   0   0   0   0   0   0   0   0   0   0   0   0   0   0   0\n",
      "   0   0   0   0   0   0   0   0   0   0   0   0   0  33  52   1 187   4]\n",
      "decoded to text: ['kanye can i talk to']\n",
      "one-hot label: [0. 0. 0. ... 0. 0. 0.]\n",
      "index of label: 3\n"
     ]
    }
   ],
   "source": [
    "elem_number = 5\n",
    "\n",
    "print(f'token list: {xs[elem_number]}')\n",
    "print(f'decoded to text: {tokenizer.sequences_to_texts([xs[elem_number]])}')\n",
    "\n",
    "print(f'one-hot label: {ys[elem_number]}')\n",
    "print(f'index of label: {np.argmax(ys[elem_number])}')"
   ]
  },
  {
   "cell_type": "code",
   "execution_count": null,
   "metadata": {
    "colab": {
     "base_uri": "https://localhost:8080/"
    },
    "id": "ly4kqD0XyKKw",
    "outputId": "e4d7cd60-d99e-4247-809a-cce9deab6e63"
   },
   "outputs": [
    {
     "name": "stdout",
     "output_type": "stream",
     "text": [
      "6190\n",
      "235\n",
      "62860\n"
     ]
    }
   ],
   "source": [
    "print(total_words)\n",
    "print(max_length)\n",
    "print(len(xs))"
   ]
  },
  {
   "cell_type": "code",
   "execution_count": null,
   "metadata": {
    "colab": {
     "base_uri": "https://localhost:8080/"
    },
    "id": "aEKrqh0U3Ygx",
    "outputId": "9e8813fb-4a02-4c82-a418-0c1e3a29a31f"
   },
   "outputs": [
    {
     "name": "stdout",
     "output_type": "stream",
     "text": [
      "Model: \"sequential_1\"\n",
      "_________________________________________________________________\n",
      " Layer (type)                Output Shape              Param #   \n",
      "=================================================================\n",
      " embedding_1 (Embedding)     (None, 234, 100)          619000    \n",
      "                                                                 \n",
      " bidirectional_1 (Bidirectio  (None, 300)              301200    \n",
      " nal)                                                            \n",
      "                                                                 \n",
      " dense_1 (Dense)             (None, 6190)              1863190   \n",
      "                                                                 \n",
      "=================================================================\n",
      "Total params: 2,783,390\n",
      "Trainable params: 2,783,390\n",
      "Non-trainable params: 0\n",
      "_________________________________________________________________\n"
     ]
    }
   ],
   "source": [
    "embedding_dim = 100\n",
    "lstm_units = 150\n",
    "learning_rate = 0.01\n",
    "\n",
    "model = tf.keras.models.Sequential([\n",
    "    tf.keras.layers.Embedding(total_words, embedding_dim, input_length=max_length-1),\n",
    "    tf.keras.layers.Bidirectional(tf.keras.layers.LSTM(lstm_units)),\n",
    "    tf.keras.layers.Dense(total_words, activation='softmax')\n",
    "])\n",
    "\n",
    "\n",
    "model.compile(loss='categorical_crossentropy', optimizer=tf.keras.optimizers.Adam(learning_rate=learning_rate), metrics=['accuracy'])\n",
    "\n",
    "model.summary()"
   ]
  },
  {
   "cell_type": "code",
   "execution_count": null,
   "metadata": {
    "colab": {
     "base_uri": "https://localhost:8080/"
    },
    "id": "IajKJziw4JF8",
    "outputId": "53d5c84f-22f6-4d37-8de5-61b1c8f92357"
   },
   "outputs": [
    {
     "name": "stdout",
     "output_type": "stream",
     "text": [
      "Epoch 1/100\n",
      "1965/1965 [==============================] - 60s 28ms/step - loss: 6.0767 - accuracy: 0.1060\n",
      "Epoch 2/100\n",
      "1965/1965 [==============================] - 55s 28ms/step - loss: 5.0892 - accuracy: 0.1785\n",
      "Epoch 3/100\n",
      "1965/1965 [==============================] - 56s 28ms/step - loss: 4.5033 - accuracy: 0.2144\n",
      "Epoch 4/100\n",
      "1965/1965 [==============================] - 55s 28ms/step - loss: 4.0744 - accuracy: 0.2461\n",
      "Epoch 5/100\n",
      "1965/1965 [==============================] - 56s 29ms/step - loss: 3.7768 - accuracy: 0.2723\n",
      "Epoch 6/100\n",
      "1965/1965 [==============================] - 55s 28ms/step - loss: 3.5878 - accuracy: 0.2934\n",
      "Epoch 7/100\n",
      "1965/1965 [==============================] - 55s 28ms/step - loss: 3.4479 - accuracy: 0.3091\n",
      "Epoch 8/100\n",
      "1965/1965 [==============================] - 55s 28ms/step - loss: 3.3610 - accuracy: 0.3212\n",
      "Epoch 9/100\n",
      "1965/1965 [==============================] - 55s 28ms/step - loss: 3.2877 - accuracy: 0.3307\n",
      "Epoch 10/100\n",
      "1965/1965 [==============================] - 55s 28ms/step - loss: 3.2468 - accuracy: 0.3369\n",
      "Epoch 11/100\n",
      "1965/1965 [==============================] - 55s 28ms/step - loss: 3.1862 - accuracy: 0.3444\n",
      "Epoch 12/100\n",
      "1965/1965 [==============================] - 55s 28ms/step - loss: 3.1529 - accuracy: 0.3504\n",
      "Epoch 13/100\n",
      "1965/1965 [==============================] - 56s 29ms/step - loss: 3.1468 - accuracy: 0.3503\n",
      "Epoch 14/100\n",
      "1965/1965 [==============================] - 56s 29ms/step - loss: 3.1248 - accuracy: 0.3580\n",
      "Epoch 15/100\n",
      "1965/1965 [==============================] - 56s 29ms/step - loss: 3.0942 - accuracy: 0.3602\n",
      "Epoch 16/100\n",
      "1965/1965 [==============================] - 56s 28ms/step - loss: 3.0796 - accuracy: 0.3644\n",
      "Epoch 17/100\n",
      "1965/1965 [==============================] - 55s 28ms/step - loss: 3.0820 - accuracy: 0.3635\n",
      "Epoch 18/100\n",
      "1965/1965 [==============================] - 56s 29ms/step - loss: 3.0585 - accuracy: 0.3658\n",
      "Epoch 19/100\n",
      "1965/1965 [==============================] - 57s 29ms/step - loss: 3.0223 - accuracy: 0.3720\n",
      "Epoch 20/100\n",
      "1965/1965 [==============================] - 56s 29ms/step - loss: 3.0191 - accuracy: 0.3737\n",
      "Epoch 21/100\n",
      "1965/1965 [==============================] - 56s 28ms/step - loss: 3.0264 - accuracy: 0.3730\n",
      "Epoch 22/100\n",
      "1965/1965 [==============================] - 56s 28ms/step - loss: 3.0264 - accuracy: 0.3733\n",
      "Epoch 23/100\n",
      "1965/1965 [==============================] - 56s 29ms/step - loss: 3.0142 - accuracy: 0.3744\n",
      "Epoch 24/100\n",
      "1965/1965 [==============================] - 57s 29ms/step - loss: 3.0467 - accuracy: 0.3701\n",
      "Epoch 25/100\n",
      "1965/1965 [==============================] - 56s 28ms/step - loss: 3.0201 - accuracy: 0.3742\n",
      "Epoch 26/100\n",
      "1965/1965 [==============================] - 55s 28ms/step - loss: 2.9915 - accuracy: 0.3781\n",
      "Epoch 27/100\n",
      "1965/1965 [==============================] - 55s 28ms/step - loss: 2.9785 - accuracy: 0.3810\n",
      "Epoch 28/100\n",
      "1965/1965 [==============================] - 55s 28ms/step - loss: 3.0416 - accuracy: 0.3767\n",
      "Epoch 29/100\n",
      "1965/1965 [==============================] - 55s 28ms/step - loss: 3.0112 - accuracy: 0.3794\n",
      "Epoch 30/100\n",
      "1965/1965 [==============================] - 55s 28ms/step - loss: 2.9910 - accuracy: 0.3812\n",
      "Epoch 31/100\n",
      "1965/1965 [==============================] - 55s 28ms/step - loss: 3.0117 - accuracy: 0.3785\n",
      "Epoch 32/100\n",
      "1965/1965 [==============================] - 55s 28ms/step - loss: 2.9857 - accuracy: 0.3830\n",
      "Epoch 33/100\n",
      "1965/1965 [==============================] - 55s 28ms/step - loss: 2.9600 - accuracy: 0.3864\n",
      "Epoch 34/100\n",
      "1965/1965 [==============================] - 54s 28ms/step - loss: 2.9708 - accuracy: 0.3860\n",
      "Epoch 35/100\n",
      "1965/1965 [==============================] - 55s 28ms/step - loss: 2.9525 - accuracy: 0.3902\n",
      "Epoch 36/100\n",
      "1965/1965 [==============================] - 56s 28ms/step - loss: 2.9479 - accuracy: 0.3904\n",
      "Epoch 37/100\n",
      "1965/1965 [==============================] - 54s 28ms/step - loss: 2.9385 - accuracy: 0.3914\n",
      "Epoch 38/100\n",
      "1965/1965 [==============================] - 55s 28ms/step - loss: 2.9346 - accuracy: 0.3916\n",
      "Epoch 39/100\n",
      "1965/1965 [==============================] - 55s 28ms/step - loss: 3.0601 - accuracy: 0.3818\n",
      "Epoch 40/100\n",
      "1965/1965 [==============================] - 55s 28ms/step - loss: 3.0149 - accuracy: 0.3884\n",
      "Epoch 41/100\n",
      "1965/1965 [==============================] - 56s 29ms/step - loss: 2.9913 - accuracy: 0.3895\n",
      "Epoch 42/100\n",
      "1965/1965 [==============================] - 55s 28ms/step - loss: 2.9851 - accuracy: 0.3884\n",
      "Epoch 43/100\n",
      "1965/1965 [==============================] - 55s 28ms/step - loss: 2.9417 - accuracy: 0.3914\n",
      "Epoch 44/100\n",
      "1965/1965 [==============================] - 56s 28ms/step - loss: 2.9311 - accuracy: 0.3960\n",
      "Epoch 45/100\n",
      "1965/1965 [==============================] - 55s 28ms/step - loss: 2.9340 - accuracy: 0.3946\n",
      "Epoch 46/100\n",
      "1965/1965 [==============================] - 55s 28ms/step - loss: 2.9221 - accuracy: 0.3971\n",
      "Epoch 47/100\n",
      "1965/1965 [==============================] - 55s 28ms/step - loss: 2.9108 - accuracy: 0.3989\n",
      "Epoch 48/100\n",
      "1965/1965 [==============================] - 55s 28ms/step - loss: 2.9290 - accuracy: 0.3957\n",
      "Epoch 49/100\n",
      "1965/1965 [==============================] - 55s 28ms/step - loss: 2.9607 - accuracy: 0.3991\n",
      "Epoch 50/100\n",
      "1965/1965 [==============================] - 56s 29ms/step - loss: 3.0028 - accuracy: 0.3964\n",
      "Epoch 51/100\n",
      "1965/1965 [==============================] - 56s 28ms/step - loss: 2.9913 - accuracy: 0.3960\n",
      "Epoch 52/100\n",
      "1965/1965 [==============================] - 56s 28ms/step - loss: 2.9467 - accuracy: 0.3982\n",
      "Epoch 53/100\n",
      "1965/1965 [==============================] - 55s 28ms/step - loss: 2.9221 - accuracy: 0.3983\n",
      "Epoch 54/100\n",
      "1965/1965 [==============================] - 55s 28ms/step - loss: 2.9469 - accuracy: 0.3988\n",
      "Epoch 55/100\n",
      "1965/1965 [==============================] - 55s 28ms/step - loss: 2.9558 - accuracy: 0.3975\n",
      "Epoch 56/100\n",
      "1965/1965 [==============================] - 54s 28ms/step - loss: 2.9035 - accuracy: 0.4042\n",
      "Epoch 57/100\n",
      "1965/1965 [==============================] - 55s 28ms/step - loss: 2.9093 - accuracy: 0.4019\n",
      "Epoch 58/100\n",
      "1965/1965 [==============================] - 54s 28ms/step - loss: 2.8930 - accuracy: 0.4040\n",
      "Epoch 59/100\n",
      "1965/1965 [==============================] - 56s 29ms/step - loss: 2.9102 - accuracy: 0.4037\n",
      "Epoch 60/100\n",
      "1965/1965 [==============================] - 56s 28ms/step - loss: 2.8804 - accuracy: 0.4065\n",
      "Epoch 61/100\n",
      "1965/1965 [==============================] - 56s 28ms/step - loss: 2.8996 - accuracy: 0.4054\n",
      "Epoch 62/100\n",
      "1965/1965 [==============================] - 55s 28ms/step - loss: 2.8738 - accuracy: 0.4092\n",
      "Epoch 63/100\n",
      "1965/1965 [==============================] - 56s 28ms/step - loss: 2.8966 - accuracy: 0.4059\n",
      "Epoch 64/100\n",
      "1965/1965 [==============================] - 57s 29ms/step - loss: 2.8581 - accuracy: 0.4116\n",
      "Epoch 65/100\n",
      "1965/1965 [==============================] - 56s 28ms/step - loss: 2.8556 - accuracy: 0.4126\n",
      "Epoch 66/100\n",
      "1965/1965 [==============================] - 55s 28ms/step - loss: 2.8648 - accuracy: 0.4114\n",
      "Epoch 67/100\n",
      "1965/1965 [==============================] - 55s 28ms/step - loss: 2.8618 - accuracy: 0.4121\n",
      "Epoch 68/100\n",
      "1965/1965 [==============================] - 56s 28ms/step - loss: 2.8641 - accuracy: 0.4140\n",
      "Epoch 69/100\n",
      "1965/1965 [==============================] - 56s 29ms/step - loss: 2.8414 - accuracy: 0.4166\n",
      "Epoch 70/100\n",
      "1965/1965 [==============================] - 56s 28ms/step - loss: 2.8325 - accuracy: 0.4188\n",
      "Epoch 71/100\n",
      "1965/1965 [==============================] - 56s 28ms/step - loss: 2.9276 - accuracy: 0.4102\n",
      "Epoch 72/100\n",
      "1965/1965 [==============================] - 56s 29ms/step - loss: 2.8762 - accuracy: 0.4146\n",
      "Epoch 73/100\n",
      "1965/1965 [==============================] - 57s 29ms/step - loss: 2.8415 - accuracy: 0.4191\n",
      "Epoch 74/100\n",
      "1965/1965 [==============================] - 56s 28ms/step - loss: 2.8270 - accuracy: 0.4199\n",
      "Epoch 75/100\n",
      "1965/1965 [==============================] - 56s 28ms/step - loss: 2.8789 - accuracy: 0.4149\n",
      "Epoch 76/100\n",
      "1965/1965 [==============================] - 55s 28ms/step - loss: 2.8374 - accuracy: 0.4186\n",
      "Epoch 77/100\n",
      "1965/1965 [==============================] - 56s 28ms/step - loss: 2.8149 - accuracy: 0.4210\n",
      "Epoch 78/100\n",
      "1965/1965 [==============================] - 56s 28ms/step - loss: 2.8208 - accuracy: 0.4219\n",
      "Epoch 79/100\n",
      "1965/1965 [==============================] - 55s 28ms/step - loss: 2.8168 - accuracy: 0.4240\n",
      "Epoch 80/100\n",
      "1965/1965 [==============================] - 55s 28ms/step - loss: 2.8068 - accuracy: 0.4247\n",
      "Epoch 81/100\n",
      "1965/1965 [==============================] - 57s 29ms/step - loss: 2.8585 - accuracy: 0.4185\n",
      "Epoch 82/100\n",
      "1965/1965 [==============================] - 55s 28ms/step - loss: 2.8837 - accuracy: 0.4172\n",
      "Epoch 83/100\n",
      "1965/1965 [==============================] - 55s 28ms/step - loss: 2.8672 - accuracy: 0.4181\n",
      "Epoch 84/100\n",
      "1965/1965 [==============================] - 55s 28ms/step - loss: 2.9243 - accuracy: 0.4165\n",
      "Epoch 85/100\n",
      "1965/1965 [==============================] - 54s 28ms/step - loss: 2.9066 - accuracy: 0.4174\n",
      "Epoch 86/100\n",
      "1965/1965 [==============================] - 56s 29ms/step - loss: 2.9202 - accuracy: 0.4144\n",
      "Epoch 87/100\n",
      "1965/1965 [==============================] - 54s 28ms/step - loss: 2.8981 - accuracy: 0.4156\n",
      "Epoch 88/100\n",
      "1965/1965 [==============================] - 54s 28ms/step - loss: 2.8981 - accuracy: 0.4157\n",
      "Epoch 89/100\n",
      "1965/1965 [==============================] - 55s 28ms/step - loss: 2.9464 - accuracy: 0.4127\n",
      "Epoch 90/100\n",
      "1965/1965 [==============================] - 55s 28ms/step - loss: 2.9052 - accuracy: 0.4159\n",
      "Epoch 91/100\n",
      "1965/1965 [==============================] - 54s 28ms/step - loss: 2.9061 - accuracy: 0.4171\n",
      "Epoch 92/100\n",
      "1965/1965 [==============================] - 54s 27ms/step - loss: 2.8728 - accuracy: 0.4203\n",
      "Epoch 93/100\n",
      "1965/1965 [==============================] - 54s 27ms/step - loss: 2.8567 - accuracy: 0.4216\n",
      "Epoch 94/100\n",
      "1965/1965 [==============================] - 53s 27ms/step - loss: 2.8562 - accuracy: 0.4217\n",
      "Epoch 95/100\n",
      "1965/1965 [==============================] - 55s 28ms/step - loss: 2.8614 - accuracy: 0.4217\n",
      "Epoch 96/100\n",
      "1965/1965 [==============================] - 54s 27ms/step - loss: 2.9733 - accuracy: 0.4142\n",
      "Epoch 97/100\n",
      "1965/1965 [==============================] - 54s 27ms/step - loss: 3.0100 - accuracy: 0.4057\n",
      "Epoch 98/100\n",
      "1965/1965 [==============================] - 54s 27ms/step - loss: 3.0642 - accuracy: 0.4049\n",
      "Epoch 99/100\n",
      "1965/1965 [==============================] - 55s 28ms/step - loss: 2.9213 - accuracy: 0.4150\n",
      "Epoch 100/100\n",
      "1965/1965 [==============================] - 54s 27ms/step - loss: 2.8940 - accuracy: 0.4185\n"
     ]
    }
   ],
   "source": [
    "history = model.fit(xs, ys, epochs=100)"
   ]
  },
  {
   "cell_type": "code",
   "execution_count": null,
   "metadata": {
    "id": "KlfHmAyGeaYv"
   },
   "outputs": [],
   "source": [
    "# path='saved_models/model_lyrics_gen_eminem'\n",
    "# model.save(path)"
   ]
  },
  {
   "cell_type": "code",
   "execution_count": null,
   "metadata": {
    "colab": {
     "base_uri": "https://localhost:8080/",
     "height": 279
    },
    "id": "f1Jma0St4XnK",
    "outputId": "ea264ff6-a6f8-42df-99c0-191de8c238ab"
   },
   "outputs": [
    {
     "data": {
      "image/png": "[encoded data removed]",
      "text/plain": [
       "<Figure size 432x288 with 1 Axes>"
      ]
     },
     "metadata": {
      "needs_background": "light"
     },
     "output_type": "display_data"
    }
   ],
   "source": [
    "import matplotlib.pyplot as plt\n",
    "\n",
    "# Plot utility\n",
    "def plot_graphs(history, string):\n",
    "  plt.plot(history.history[string])\n",
    "  plt.xlabel(\"Epochs\")\n",
    "  plt.ylabel(string)\n",
    "  plt.show()\n",
    "\n",
    "# Visualize the accuracy\n",
    "plot_graphs(history, 'accuracy')"
   ]
  },
  {
   "cell_type": "code",
   "execution_count": null,
   "metadata": {
    "colab": {
     "base_uri": "https://localhost:8080/"
    },
    "id": "MOTWlInSyPP3",
    "outputId": "7b9cf738-13cc-474b-924e-0df68d5f5b28"
   },
   "outputs": [
    {
     "name": "stdout",
     "output_type": "stream",
     "text": [
      "  adding: content/saved_models/model_lyrics_gen_eminem/ (stored 0%)\n",
      "  adding: content/saved_models/model_lyrics_gen_eminem/assets/ (stored 0%)\n",
      "  adding: content/saved_models/model_lyrics_gen_eminem/variables/ (stored 0%)\n",
      "  adding: content/saved_models/model_lyrics_gen_eminem/variables/variables.index (deflated 64%)\n",
      "  adding: content/saved_models/model_lyrics_gen_eminem/variables/variables.data-00000-of-00001 (deflated 23%)\n",
      "  adding: content/saved_models/model_lyrics_gen_eminem/keras_metadata.pb (deflated 89%)\n",
      "  adding: content/saved_models/model_lyrics_gen_eminem/saved_model.pb (deflated 90%)\n"
     ]
    }
   ],
   "source": [
    "# !zip -r /content/saved_models/model_eminem.zip /content/saved_models/model_lyrics_gen_eminem"
   ]
  },
  {
   "cell_type": "code",
   "execution_count": null,
   "metadata": {
    "id": "Ur0UF5i-ysri"
   },
   "outputs": [],
   "source": [
    "# from google.colab import files\n",
    "# files.download('/content/saved_models/model_eminem.zip')"
   ]
  },
  {
   "cell_type": "code",
   "execution_count": null,
   "metadata": {
    "id": "8DOmv-pL1lDs"
   },
   "outputs": [],
   "source": [
    "# from zipfile import ZipFile\n",
    "\n",
    "# with ZipFile(\"/content/model_kanye.zip\", 'r') as zObject:\n",
    "#   zObject.extractall(path=\"/\")"
   ]
  },
  {
   "cell_type": "code",
   "execution_count": null,
   "metadata": {
    "id": "ThRHoXCrzLrz"
   },
   "outputs": [],
   "source": [
    "model2 = tf.keras.models.load_model('saved_models/model_lyrics_gen_kanye')"
   ]
  },
  {
   "cell_type": "code",
   "execution_count": null,
   "metadata": {
    "colab": {
     "base_uri": "https://localhost:8080/"
    },
    "id": "siTVyJqv0zH0",
    "outputId": "7b93a70b-4569-43da-b80b-bc0d75ab9924"
   },
   "outputs": [
    {
     "name": "stdout",
     "output_type": "stream",
     "text": [
      "Model: \"sequential\"\n",
      "_________________________________________________________________\n",
      " Layer (type)                Output Shape              Param #   \n",
      "=================================================================\n",
      " embedding (Embedding)       (None, 234, 100)          619000    \n",
      "                                                                 \n",
      " bidirectional (Bidirectiona  (None, 300)              301200    \n",
      " l)                                                              \n",
      "                                                                 \n",
      " dense (Dense)               (None, 6190)              1863190   \n",
      "                                                                 \n",
      "=================================================================\n",
      "Total params: 2,783,390\n",
      "Trainable params: 2,783,390\n",
      "Non-trainable params: 0\n",
      "_________________________________________________________________\n"
     ]
    }
   ],
   "source": [
    "model2.summary()"
   ]
  },
  {
   "cell_type": "code",
   "execution_count": null,
   "metadata": {
    "colab": {
     "base_uri": "https://localhost:8080/"
    },
    "id": "37s_sye4418D",
    "outputId": "4a5f4a6d-f6d7-4858-bce1-6acd641b1e39"
   },
   "outputs": [
    {
     "name": "stdout",
     "output_type": "stream",
     "text": [
      "1/1 [==============================] - 2s 2s/step\n",
      "1/1 [==============================] - 0s 28ms/step\n",
      "1/1 [==============================] - 0s 29ms/step\n",
      "1/1 [==============================] - 0s 26ms/step\n",
      "1/1 [==============================] - 0s 26ms/step\n",
      "1/1 [==============================] - 0s 26ms/step\n",
      "1/1 [==============================] - 0s 25ms/step\n",
      "1/1 [==============================] - 0s 28ms/step\n",
      "1/1 [==============================] - 0s 27ms/step\n",
      "1/1 [==============================] - 0s 28ms/step\n",
      "1/1 [==============================] - 0s 28ms/step\n",
      "1/1 [==============================] - 0s 25ms/step\n",
      "1/1 [==============================] - 0s 27ms/step\n",
      "1/1 [==============================] - 0s 25ms/step\n",
      "1/1 [==============================] - 0s 28ms/step\n",
      "1/1 [==============================] - 0s 31ms/step\n",
      "1/1 [==============================] - 0s 31ms/step\n",
      "1/1 [==============================] - 0s 33ms/step\n",
      "1/1 [==============================] - 0s 27ms/step\n",
      "1/1 [==============================] - 0s 27ms/step\n",
      "1/1 [==============================] - 0s 28ms/step\n",
      "1/1 [==============================] - 0s 27ms/step\n",
      "1/1 [==============================] - 0s 28ms/step\n",
      "1/1 [==============================] - 0s 31ms/step\n",
      "1/1 [==============================] - 0s 27ms/step\n",
      "1/1 [==============================] - 0s 27ms/step\n",
      "1/1 [==============================] - 0s 27ms/step\n",
      "1/1 [==============================] - 0s 29ms/step\n",
      "1/1 [==============================] - 0s 30ms/step\n",
      "1/1 [==============================] - 0s 29ms/step\n",
      "1/1 [==============================] - 0s 28ms/step\n",
      "1/1 [==============================] - 0s 29ms/step\n",
      "1/1 [==============================] - 0s 29ms/step\n",
      "1/1 [==============================] - 0s 40ms/step\n",
      "1/1 [==============================] - 0s 32ms/step\n",
      "1/1 [==============================] - 0s 30ms/step\n",
      "1/1 [==============================] - 0s 26ms/step\n",
      "1/1 [==============================] - 0s 28ms/step\n",
      "1/1 [==============================] - 0s 26ms/step\n",
      "1/1 [==============================] - 0s 28ms/step\n",
      "1/1 [==============================] - 0s 29ms/step\n",
      "1/1 [==============================] - 0s 26ms/step\n",
      "1/1 [==============================] - 0s 28ms/step\n",
      "1/1 [==============================] - 0s 30ms/step\n",
      "1/1 [==============================] - 0s 27ms/step\n",
      "1/1 [==============================] - 0s 27ms/step\n",
      "1/1 [==============================] - 0s 27ms/step\n",
      "1/1 [==============================] - 0s 27ms/step\n",
      "1/1 [==============================] - 0s 32ms/step\n",
      "1/1 [==============================] - 0s 29ms/step\n",
      "1/1 [==============================] - 0s 30ms/step\n",
      "1/1 [==============================] - 0s 26ms/step\n",
      "1/1 [==============================] - 0s 35ms/step\n",
      "1/1 [==============================] - 0s 28ms/step\n",
      "1/1 [==============================] - 0s 27ms/step\n",
      "1/1 [==============================] - 0s 27ms/step\n",
      "1/1 [==============================] - 0s 32ms/step\n",
      "1/1 [==============================] - 0s 33ms/step\n",
      "1/1 [==============================] - 0s 29ms/step\n",
      "1/1 [==============================] - 0s 27ms/step\n",
      "1/1 [==============================] - 0s 28ms/step\n",
      "1/1 [==============================] - 0s 28ms/step\n",
      "1/1 [==============================] - 0s 32ms/step\n",
      "1/1 [==============================] - 0s 33ms/step\n",
      "1/1 [==============================] - 0s 28ms/step\n",
      "1/1 [==============================] - 0s 26ms/step\n",
      "1/1 [==============================] - 0s 28ms/step\n",
      "1/1 [==============================] - 0s 26ms/step\n",
      "1/1 [==============================] - 0s 30ms/step\n",
      "1/1 [==============================] - 0s 27ms/step\n",
      "1/1 [==============================] - 0s 93ms/step\n",
      "1/1 [==============================] - 0s 72ms/step\n",
      "1/1 [==============================] - 0s 30ms/step\n",
      "1/1 [==============================] - 0s 26ms/step\n",
      "1/1 [==============================] - 0s 28ms/step\n",
      "1/1 [==============================] - 0s 26ms/step\n",
      "1/1 [==============================] - 0s 28ms/step\n",
      "1/1 [==============================] - 0s 28ms/step\n",
      "1/1 [==============================] - 0s 36ms/step\n",
      "1/1 [==============================] - 0s 30ms/step\n",
      "1/1 [==============================] - 0s 28ms/step\n",
      "1/1 [==============================] - 0s 28ms/step\n",
      "1/1 [==============================] - 0s 33ms/step\n",
      "1/1 [==============================] - 0s 32ms/step\n",
      "1/1 [==============================] - 0s 29ms/step\n",
      "1/1 [==============================] - 0s 29ms/step\n",
      "1/1 [==============================] - 0s 29ms/step\n",
      "1/1 [==============================] - 0s 26ms/step\n",
      "1/1 [==============================] - 0s 43ms/step\n",
      "1/1 [==============================] - 0s 50ms/step\n",
      "1/1 [==============================] - 0s 73ms/step\n",
      "1/1 [==============================] - 0s 53ms/step\n",
      "1/1 [==============================] - 0s 51ms/step\n",
      "1/1 [==============================] - 0s 26ms/step\n",
      "1/1 [==============================] - 0s 25ms/step\n",
      "1/1 [==============================] - 0s 30ms/step\n",
      "1/1 [==============================] - 0s 28ms/step\n",
      "1/1 [==============================] - 0s 39ms/step\n",
      "1/1 [==============================] - 0s 46ms/step\n",
      "1/1 [==============================] - 0s 47ms/step\n"
     ]
    }
   ],
   "source": [
    "seed_text = \"i am\"\n",
    "\n",
    "next_words = 100\n",
    "\n",
    "for _ in range(next_words):\n",
    "  token_list = tokenizer.texts_to_sequences([seed_text])[0]\n",
    "\n",
    "  token_list = pad_sequences([token_list], padding='pre', maxlen=max_length-1)\n",
    "\n",
    "  probabilities = model2.predict(token_list)\n",
    "\n",
    "  predicted = np.argmax(probabilities, axis=-1)[0]\n",
    "\n",
    "  if predicted != 0:\n",
    "\n",
    "    predicted_word = tokenizer.index_word[predicted]\n",
    "\n",
    "    seed_text = seed_text+\" \"+predicted_word"
   ]
  },
  {
   "cell_type": "code",
   "execution_count": null,
   "metadata": {
    "colab": {
     "base_uri": "https://localhost:8080/"
    },
    "id": "cAud9T-J5xS4",
    "outputId": "93ae6854-0469-4afa-8e78-fcfcc4f4b8ab"
   },
   "outputs": [
    {
     "name": "stdout",
     "output_type": "stream",
     "text": [
      "i am a god dream 'round children zip it real makes the call now throw yo' hands up in the sky and baby do it faster makes us stronger harder better faster stronger big face control for the stars or wrong i been me 2 mr west your cares away we left off the wall and comes to being true at least true to me down who will shield your level mine will be with no visa destroy us then flop dreams of y'all gon' leave get down free a pretty girl energy bam'ey from black on black though oh he's if\n"
     ]
    }
   ],
   "source": [
    "print(seed_text)"
   ]
  },
  {
   "cell_type": "code",
   "execution_count": null,
   "metadata": {
    "id": "cmmdpBvT3IU9"
   },
   "outputs": [],
   "source": []
  },
  {
   "cell_type": "code",
   "execution_count": null,
   "metadata": {
    "id": "6nFK5hSc3IX8"
   },
   "outputs": [],
   "source": []
  },
  {
   "cell_type": "code",
   "execution_count": null,
   "metadata": {
    "id": "QO7Km-wN3Iai"
   },
   "outputs": [],
   "source": []
  },
  {
   "cell_type": "code",
   "execution_count": null,
   "metadata": {
    "id": "HlB61GCK3IeQ"
   },
   "outputs": [],
   "source": []
  },
  {
   "cell_type": "code",
   "execution_count": null,
   "metadata": {
    "id": "gcsnKiMQ3Ip6"
   },
   "outputs": [],
   "source": []
  },
  {
   "cell_type": "code",
   "execution_count": null,
   "metadata": {
    "colab": {
     "base_uri": "https://localhost:8080/"
    },
    "id": "BVE6dN5n6Vkm",
    "outputId": "9dafb655-f36d-440d-fba8-34b692aace27"
   },
   "outputs": [
    {
     "name": "stdout",
     "output_type": "stream",
     "text": [
      "40/40 [==============================] - 1s 16ms/step\n",
      "[[0.00016247 0.00016251 0.00016118 ... 0.00016166 0.00016114 0.00016162]\n",
      " [0.00016262 0.00016221 0.00016125 ... 0.00016181 0.00016117 0.00016186]\n",
      " [0.00016258 0.00016231 0.00016139 ... 0.00016179 0.00016122 0.00016169]\n",
      " ...\n",
      " [0.00016262 0.00016221 0.00016125 ... 0.00016181 0.00016117 0.00016186]\n",
      " [0.00016204 0.00016238 0.00016132 ... 0.00016169 0.00016119 0.00016156]\n",
      " [0.00016164 0.00016248 0.00016144 ... 0.00016163 0.00016123 0.00016131]]\n"
     ]
    }
   ],
   "source": [
    "test_x = np.array(xs[-1280:])\n",
    "test_y = np.array(ys[-1280:])\n",
    "predictions_probabilities = model.predict(test_x) \n",
    "print(predictions_probabilities)"
   ]
  },
  {
   "cell_type": "code",
   "execution_count": null,
   "metadata": {
    "id": "4motcrqb1cdu"
   },
   "outputs": [],
   "source": [
    "log_p = np.log(predictions_probabilities)"
   ]
  },
  {
   "cell_type": "code",
   "execution_count": null,
   "metadata": {
    "colab": {
     "base_uri": "https://localhost:8080/"
    },
    "id": "15M3OdBIs2YI",
    "outputId": "c0c99444-ea1f-40c8-c308-076754004b99"
   },
   "outputs": [
    {
     "data": {
      "text/plain": [
       "(1280, 6190)"
      ]
     },
     "execution_count": 74,
     "metadata": {},
     "output_type": "execute_result"
    }
   ],
   "source": [
    "log_p.shape"
   ]
  },
  {
   "cell_type": "code",
   "execution_count": null,
   "metadata": {
    "colab": {
     "base_uri": "https://localhost:8080/"
    },
    "id": "Zbn22Xuk1klf",
    "outputId": "b21de885-7d1e-4715-b827-b3592b7b1662"
   },
   "outputs": [
    {
     "data": {
      "text/plain": [
       "(1280, 6190)"
      ]
     },
     "execution_count": 75,
     "metadata": {},
     "output_type": "execute_result"
    }
   ],
   "source": [
    "test_y.shape"
   ]
  },
  {
   "cell_type": "code",
   "execution_count": null,
   "metadata": {
    "id": "pP9nyqFq1k-T"
   },
   "outputs": [],
   "source": [
    "log_ppx = np.sum(log_p * test_y, axis=-1)"
   ]
  },
  {
   "cell_type": "code",
   "execution_count": null,
   "metadata": {
    "colab": {
     "base_uri": "https://localhost:8080/"
    },
    "id": "8YmhMtYa1lF6",
    "outputId": "b94cf571-99dc-44b1-eda1-6a5591315a55"
   },
   "outputs": [
    {
     "data": {
      "text/plain": [
       "1.0001616"
      ]
     },
     "execution_count": 87,
     "metadata": {},
     "output_type": "execute_result"
    }
   ],
   "source": [
    "np.exp(log_ppx)"
   ]
  }
 ],
 "metadata": {
  "accelerator": "GPU",
  "colab": {
   "provenance": []
  },
  "gpuClass": "standard",
  "kernelspec": {
   "display_name": "Python 3 (ipykernel)",
   "language": "python",
   "name": "python3"
  },
  "language_info": {
   "codemirror_mode": {
    "name": "ipython",
    "version": 3
   },
   "file_extension": ".py",
   "mimetype": "text/x-python",
   "name": "python",
   "nbconvert_exporter": "python",
   "pygments_lexer": "ipython3",
   "version": "3.10.5"
  }
 },
 "nbformat": 4,
 "nbformat_minor": 1
}
