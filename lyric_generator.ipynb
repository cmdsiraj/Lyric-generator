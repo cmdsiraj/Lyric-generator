{
 "cells": [
  {
   "cell_type": "code",
   "execution_count": null,
   "metadata": {
    "id": "nml_1eYVqHik"
   },
   "outputs": [],
   "source": [
    "import tensorflow as tf\n",
    "import regex as re\n",
    "import numpy as np\n",
    "from tensorflow.keras.preprocessing.text import Tokenizer\n",
    "from tensorflow.keras.preprocessing.sequence import pad_sequences"
   ]
  },
  {
   "cell_type": "code",
   "execution_count": null,
   "metadata": {
    "colab": {
     "base_uri": "https://localhost:8080/"
    },
    "id": "U12JYZRjFNBn",
    "outputId": "33179c3f-b174-4546-be85-0b21e312b351"
   },
   "outputs": [
    {
     "name": "stdout",
     "output_type": "stream",
     "text":[]
    },
    {
     "data": {
      "text/plain": [
       "9182"
      ]
     },
     "execution_count": 20,
     "metadata": {},
     "output_type": "execute_result"
    }
   ],
   "source": [
    "data = open('./kanye.txt').read()\n",
    "corpus = data.lower().split(\"\\n\")\n",
    "\n",
    "cleaned_corpus = [re.sub('[!\"#$%&()*+,-./:;<=>?@[\\\\]^_`{|}~\\t\\n]', '', lyric) for lyric in corpus]\n",
    "corpus = cleaned_corpus\n",
    "\n",
    "print(corpus)\n",
    "len(corpus)"
   ]
  },
  {
   "cell_type": "code",
   "execution_count": null,
   "metadata": {
    "colab": {
     "base_uri": "https://localhost:8080/"
    },
    "id": "LzcO_o60quUe",
    "outputId": "0ea143b4-cf46-4a77-cb61-17f4d9f53113"
   },
   "outputs": [
    {
     "name": "stdout",
     "output_type": "stream",
     "text": [
      "Word index dictionart: {'i': 1, 'the': 2, 'you': 3, 'to': 4, 'and': 5, 'a': 6, 'my': 7, 'it': 8, 'me': 9, 'in': 10, 'that': 11, \"i'm\": 12, 'we': 13, 'on': 14, 'like': 15, 'up': 16, 'so': 17, 'know': 18, 'all': 19, 'your': 20, 'for': 21, 'this': 22, 'get': 23, 'of': 24, 'is': 25, 'now': 26, 'be': 27, 'with': 28, 'they': 29, 'but': 30, 'just': 31, \"don't\": 32, 'kanye': 33, 'got': 34, 'no': 35, 'was': 36, 'what': 37, 'west': 38, 'verse': 39, 'out': 40, 'down': 41, 'when': 42, 'she': 43, 'if': 44, 'oh': 45, \"can't\": 46, \"it's\": 47, 'hook': 48, 'go': 49, \"ain't\": 50, 'at': 51, 'can': 52, 'do': 53, 'la': 54, 'love': 55, 'say': 56, 'never': 57, 'shit': 58, 'need': 59, 'he': 60, 'how': 61, 'see': 62, 'right': 63, \"that's\": 64, 'yeah': 65, 'man': 66, 'not': 67, 'one': 68, 'let': 69, 'from': 70, 'back': 71, 'niggas': 72, 'life': 73, 'these': 74, 'take': 75, 'some': 76, 'feel': 77, 'make': 78, 'off': 79, 'nigga': 80, 'her': 81, 'want': 82, 'cause': 83, 'baby': 84, 'tell': 85, 'about': 86, 'have': 87, 'gonna': 88, 'good': 89, 'more': 90, 'been': 91, 'had': 92, 'im': 93, 'god': 94, 'still': 95, 'time': 96, 'are': 97, '2': 98, 'then': 99, 'could': 100, 'them': 101, 'black': 102, 'too': 103, '1': 104, 'way': 105, 'girl': 106, 'here': 107, 'who': 108, 'stop': 109, 'keep': 110, 'why': 111, 'fuck': 112, 'said': 113, 'will': 114, 'uh': 115, 'money': 116, 'well': 117, 'ever': 118, 'told': 119, 'only': 120, \"gon'\": 121, 'wanna': 122, 'ya': 123, 'real': 124, 'us': 125, \"y'all\": 126, \"you're\": 127, 'or': 128, 'hey': 129, 'high': 130, 'things': 131, 'where': 132, 'him': 133, 'new': 134, 'through': 135, 'much': 136, 'night': 137, 'as': 138, 'look': 139, 'even': 140, 'gotta': 141, 'day': 142, 'his': 143, 'come': 144, 'bam': 145, 'made': 146, 'lights': 147, 'did': 148, 'broke': 149, 'bitch': 150, 'people': 151, 'everything': 152, 'again': 153, 'sky': 154, 'thing': 155, 'think': 156, \"'em\": 157, 'whole': 158, 'over': 159, 'by': 160, 'everybody': 161, \"i'll\": 162, 'really': 163, 'there': 164, \"i've\": 165, 'hands': 166, 'home': 167, 'work': 168, 'give': 169, 'better': 170, 'every': 171, '3': 172, 'outro': 173, 'put': 174, 'call': 175, 'amazing': 176, 'away': 177, \"let's\": 178, 'an': 179, 'than': 180, 'ass': 181, 'always': 182, 'bridge': 183, 'yeezy': 184, \"'ey\": 185, 'turn': 186, 'talk': 187, 'before': 188, 'long': 189, 'damn': 190, 'am': 191, 'hit': 192, 'jesus': 193, 'play': 194, 'homie': 195, 'throw': 196, 'first': 197, 'hard': 198, 'live': 199, 'gone': 200, 'fly': 201, 'mama': 202, 'mean': 203, 'would': 204, 'bad': 205, 'far': 206, \"won't\": 207, 'leave': 208, \"'til\": 209, 'our': 210, 'yo': 211, 'fucking': 212, 'chorus': 213, 'guess': 214, 'big': 215, 'game': 216, 'something': 217, 'show': 218, 'beat': 219, 'yes': 220, 'jay': 221, 'wait': 222, \"what's\": 223, 'many': 224, \"i'ma\": 225, 'dem': 226, 'little': 227, 'morning': 228, 'die': 229, 'might': 230, \"'bout\": 231, 'brother': 232, 'heard': 233, 'hear': 234, 'tryna': 235, 'world': 236, 'nothing': 237, 'wrong': 238, 'own': 239, 'school': 240, 'hot': 241, 'please': 242, 'last': 243, 'kids': 244, 'act': 245, 'thought': 246, 'pull': 247, 'mind': 248, 'lost': 249, 'find': 250, 'going': 251, 'came': 252, 'okay': 253, 'two': 254, 'move': 255, 'sweet': 256, 'girls': 257, 'wanted': 258, 'ask': 259, 'seen': 260, 'huh': 261, 'music': 262, 'head': 263, 'eyes': 264, 'slow': 265, 'buy': 266, \"i'd\": 267, 'nobody': 268, 'drive': 269, 'hoes': 270, 'after': 271, 'remember': 272, 'bitches': 273, 'party': 274, 'soul': 275, 'around': 276, 'should': 277, 'care': 278, \"'cause\": 279, 'major': 280, 'went': 281, 'late': 282, 'step': 283, \"he's\": 284, 'best': 285, 'gwaan': 286, 'start': 287, 'same': 288, 'walk': 289, 'ball': 290, 'found': 291, \"lookin'\": 292, 'friends': 293, 'took': 294, 'since': 295, 'their': 296, 'try': 297, 'old': 298, 'used': 299, 'deep': 300, 'hours': 301, 'study': 302, 'other': 303, \"wasn't\": 304, 'knew': 305, 'kid': 306, 'mine': 307, 'somebody': 308, 'hell': 309, 'jayz': 310, 'heart': 311, 'roll': 312, \"i'mma\": 313, 'boy': 314, 'another': 315, 'maybe': 316, 'family': 317, 'aint': 318, 'past': 319, 'rap': 320, 'hate': 321, 'young': 322, 'bring': 323, 'breathe': 324, 'though': 325, 'run': 326, 'house': 327, 'falls': 328, 'done': 329, 'crazy': 330, 'end': 331, 'wish': 332, 'club': 333, \"you'll\": 334, 'father': 335, 'were': 336, 'name': 337, 'dick': 338, 'city': 339, 'blame': 340, 'murder': 341, 'forever': 342, \"couldn't\": 343, 'set': 344, 'dream': 345, 'watch': 346, 'while': 347, 'wild': 348, 'gold': 349, 'lose': 350, 'years': 351, 'hold': 352, 'white': 353, 'pray': 354, \"there's\": 355, 'church': 356, 'mr': 357, 'talking': 358, 'control': 359, 'news': 360, 'pussy': 361, 'crack': 362, 'enough': 363, 'car': 364, 'air': 365, 'believe': 366, \"c'mon\": 367, 'myself': 368, 'coming': 369, 'king': 370, 'plan': 371, 'harder': 372, 'lah': 373, '30': 374, \"somethin'\": 375, 'gon': 376, 'fast': 377, 'dont': 378, 'break': 379, 'inside': 380, 'streets': 381, 'face': 382, 'top': 383, 'nowhere': 384, 'free': 385, 'friend': 386, 'looking': 387, 'motherfucker': 388, 'outta': 389, 'tried': 390, 'wake': 391, \"'head\": 392, 'drunk': 393, 'stronger': 394, 'alive': 395, 'sometimes': 396, 'doing': 397, 'beats': 398, 'waiting': 399, 'trying': 400, 'getting': 401, 'left': 402, 'rock': 403, 'faster': 404, 'send': 405, 'story': 406, \"here's\": 407, 'grab': 408, 'z': 409, 'cold': 410, 'next': 411, 'job': 412, 'because': 413, 'most': 414, \"sayin'\": 415, 'cool': 416, 'ooh': 417, 'fire': 418, 'hand': 419, 'sure': 420, 'feeling': 421, 'power': 422, 'louis': 423, 'names': 424, 'monster': 425, 'today': 426, 'song': 427, 'hood': 428, 'least': 429, 'without': 430, 'paper': 431, 'benz': 432, 'room': 433, 'saying': 434, 'cars': 435, 'true': 436, 'words': 437, 'touch': 438, '4': 439, 'dame': 440, 'extra': 441, \"'fore\": 442, 'ridiculous': 443, 'lord': 444, \"nothin'\": 445, 'momma': 446, 'class': 447, 'kill': 448, 'clothes': 449, \"fuckin'\": 450, \"wouldn't\": 451, 'war': 452, 'into': 453, 'played': 454, 'blood': 455, 'met': 456, 'light': 457, 'phone': 458, 'whatever': 459, 'dreams': 460, 'toast': 461, 'stars': 462, 'pain': 463, \"comin'\": 464, 'paid': 465, 'stay': 466, 'welcome': 467, 'chi': 468, 'anything': 469, 'side': 470, 'called': 471, 'wonder': 472, 'tonight': 473, 'mess': 474, 'woo': 475, 'any': 476, 'worry': 477, 'deal': 478, 'glass': 479, 'already': 480, 'supposed': 481, 'zone': 482, 'gave': 483, 'cudi': 484, 'thats': 485, 'door': 486, 'america': 487, 'star': 488, 'ayy': 489, \"fadin'\": 490, \"tellin'\": 491, 'drop': 492, \"livin'\": 493, 'smoke': 494, 'thank': 495, 'line': 496, 'makes': 497, 'diamonds': 498, 'body': 499, 'place': 500, 'word': 501, 'fresh': 502, 'em': 503, 'flashing': 504, 'drug': 505, 'shine': 506, 'weed': 507, 'catch': 508, 'cant': 509, \"tryin'\": 510, \"she's\": 511, 'has': 512, 'three': 513, 'lot': 514, 'sign': 515, 'help': 516, 'different': 517, \"didn't\": 518, 'until': 519, \"'ye\": 520, 'piece': 521, 'eat': 522, 'means': 523, 'comes': 524, 'open': 525, 'roc': 526, 'crib': 527, 'keys': 528, 'workout': 529, 'ok': 530, 'woah': 531, 'fight': 532, 'motherfucking': 533, 'choir': 534, 'loving': 535, 'chicago': 536, 'mother': 537, 'sorry': 538, 'middle': 539, 'ride': 540, 'its': 541, 'winter': 542, 'summer': 543, \"workin'\": 544, '5': 545, \"'round\": 546, 'dude': 547, 'favorite': 548, 'legend': 549, 'pass': 550, 'low': 551, 'deserve': 552, 'fall': 553, 'tv': 554, 'days': 555, 'dog': 556, 'being': 557, 'number': 558, 'promised': 559, 'brought': 560, 'felt': 561, 'mouth': 562, 'living': 563, 'anyway': 564, 'read': 565, 'higher': 566, 'pop': 567, 'foxx': 568, 'definitely': 569, 'fine': 570, 'moment': 571, 'bullshit': 572, 'chain': 573, 'red': 574, 'ill': 575, 'turned': 576, 'sun': 577, 'truth': 578, 'under': 579, 'street': 580, 'justin': 581, 'vernon': 582, 'chill': 583, 'lie': 584, 'lil': 585, 'sing': 586, 'having': 587, 'straight': 588, 'blow': 589, 'cut': 590, 'john': 591, 'shoes': 592, 'daughter': 593, 'four': 594, 'store': 595, 'glory': 596, 'check': 597, 'half': 598, 'hope': 599, 'else': 600, 'year': 601, 'stacks': 602, 'rapper': 603, 'spit': 604, 'moon': 605, 'dead': 606, 'hop': 607, \"kanye's\": 608, 'plane': 609, 'jackson': 610, 'jamie': 611, \"talkin'\": 612, 'drink': 613, 'bout': 614, 'asked': 615, \"that'll\": 616, 'died': 617, 'wall': 618, 'chance': 619, \"they'd\": 620, 'track': 621, 'raise': 622, 'somewhere': 623, 'spot': 624, 'slaves': 625, 'smile': 626, 'hurt': 627, \"yo'\": 628, 'million': 629, 'taught': 630, 'parties': 631, 'beautiful': 632, 'finna': 633, 'south': 634, \"gettin'\": 635, 'chitown': 636, 'stand': 637, \"doin'\": 638, 'daddy': 639, 'diamond': 640, 'problem': 641, 'mall': 642, 'haters': 643, 'running': 644, 'finished': 645, 'id': 646, 'times': 647, 'very': 648, 'flow': 649, 'plus': 650, 'meet': 651, 'album': 652, 'pay': 653, 'interlude': 654, 'ready': 655, 'green': 656, 'b': 657, 'champagne': 658, 'matter': 659, 'mos': 660, 'cuz': 661, 'understand': 662, 'rich': 663, 'style': 664, 'sleep': 665, 'may': 666, 'children': 667, 'glasses': 668, 'vuitton': 669, 'soon': 670, 'heartless': 671, 'speak': 672, 'mad': 673, \"they'll\": 674, 'swizz': 675, 'town': 676, 'bag': 677, 'ah': 678, 'da': 679, 'goddamn': 680, 'babe': 681, 'feels': 682, 'phi': 683, 'ooooh': 684, '25': 685, 'looked': 686, 'second': 687, 'cop': 688, 'nice': 689, 'college': 690, 'road': 691, 'spaceship': 692, 'bet': 693, 'front': 694, 'grind': 695, 'alone': 696, 'use': 697, 'death': 698, 'hustlers': 699, \"feelin'\": 700, 'reason': 701, 'part': 702, 'started': 703, 'building': 704, 'follow': 705, 'picture': 706, \"lyin'\": 707, 'songs': 708, 'raw': 709, 'survive': 710, 'ay': 711, 'tired': 712, 'queen': 713, 'dawg': 714, 'week': 715, 'luther': 716, 'freak': 717, 'earth': 718, 'w': 719, 'laugh': 720, 'forget': 721, 'hurry': 722, 'rocafella': 723, 'those': 724, 'making': 725, 'def': 726, 'bed': 727, 'champion': 728, 'wear': 729, 'thinking': 730, 'happen': 731, 'cam': 732, 'become': 733, 'brown': 734, 'uhhuh': 735, 'question': 736, 'none': 737, 'dope': 738, 'sell': 739, 'push': 740, 'cash': 741, 'wave': 742, 'goodbye': 743, 'anybody': 744, 'promise': 745, 'funny': 746, 'hundred': 747, 'team': 748, 'safe': 749, 'feet': 750, 'g': 751, 'taking': 752, 'tony': 753, 'pick': 754, 'devil': 755, 'floor': 756, 'full': 757, 'together': 758, 'known': 759, 'six': 760, 'arm': 761, 'michael': 762, 'appreciate': 763, 'wit': 764, 'sip': 765, 'gas': 766, 'business': 767, 'learn': 768, 'realize': 769, 'mommy': 770, 'killed': 771, 'famous': 772, 'listen': 773, 'behind': 774, 'don': 775, 'uhh': 776, 'saw': 777, 'wack': 778, 'fucked': 779, 'coldest': 780, 'lockdownyour': 781, 'lockdown': 782, 'robocop': 783, 'memories': 784, 'ocean': 785, 'whether': 786, 'bound': 787, 'dance': 788, 'ago': 789, 'drugs': 790, 'ha': 791, 'ayyy': 792, 'whats': 793, 'concert': 794, 'mothafuckas': 795, 'whatwhat': 796, 'ty': 797, 'dolla': 798, 'ign': 799, 'probably': 800, \"lil'\": 801, 'hustle': 802, 'fool': 803, 'park': 804, 'smart': 805, 'longer': 806, 'seems': 807, 'picked': 808, 'hair': 809, 'afford': 810, 'drove': 811, 'spent': 812, \"we'll\": 813, 'couple': 814, 'graveshift': 815, 'stole': 816, 'mob': 817, 'reach': 818, 'folks': 819, 'cab': 820, 'goes': 821, 'actually': 822, \"nothing's\": 823, 'almost': 824, 'rappers': 825, 'needed': 826, 'hov': 827, '6': 828, 'bought': 829, 'tears': 830, \"god's\": 831, 'rhyme': 832, 'kind': 833, 'pastor': 834, 'stuck': 835, 'woods': 836, 'thousand': 837, 'honey': 838, 'ladies': 839, 'son': 840, 'yea': 841, 'hi': 842, 'pulled': 843, 'dessert': 844, 'action': 845, 'ice': 846, 'spend': 847, 'pretty': 848, 'both': 849, 'keeps': 850, 'lady': 851, 'change': 852, \"goin'\": 853, \"'pon\": 854, 'five': 855, 'arms': 856, \"makin'\": 857, 'ma': 858, 'hip': 859, 'sample': 860, 'woman': 861, 'lonely': 862, 'closed': 863, 'prehook': 864, 'glowing': 865, 'wayne': 866, 'fade': 867, 'wise': 868, 'beatz': 869, 'rather': 870, 'frank': 871, 'wah': 872, 'shot': 873, 'testify': 874, 'digger': 875, 'rosie': 876, 'uhuh': 877, 'puff': 878, 'pimpin': 879, 'proud': 880, 'alright': 881, 'rihanna': 882, 'whoa': 883, 'jungle': 884, 'lift': 885, 'blackonblack': 886, 'dilla': 887, 'rare': 888, 'minute': 889, \"wonderin'\": 890, 'perfect': 891, 'scream': 892, 'walked': 893, 'pressure': 894, 'ones': 895, 'treat': 896, 'caught': 897, 'signed': 898, 'peace': 899, 'takes': 900, 'williams': 901, 'save': 902, \"we're\": 903, 'sex': 904, 'lies': 905, 'must': 906, 'serious': 907, 'boys': 908, 'nnow': 909, \"who's\": 910, 'asking': 911, 'chick': 912, 'reality': 913, 'hiphop': 914, 'crash': 915, 'g1': 916, 'g3': 917, 'copped': 918, 'tight': 919, 'henny': 920, 'forgot': 921, 'gangstas': 922, 'smoking': 923, \"messin'\": 924, 'later': 925, 'boss': 926, 'k': 927, 'mom': 928, 'kiss': 929, 'level': 930, 'does': 931, 'nah': 932, \"you've\": 933, 'ghetto': 934, 'neck': 935, 'limelight': 936, 'intro': 937, 'blacks': 938, 'changed': 939, 'cook': 940, 'aunt': 941, 'rain': 942, 'letting': 943, 'dress': 944, 'tour': 945, 'card': 946, 'packed': 947, 'birthday': 948, 'gucci': 949, 'pictures': 950, 'spinning': 951, 'visions': 952, 'married': 953, 'figure': 954, 'jeezy': 955, 'refrain': 956, 'moving': 957, 'decide': 958, 'sight': 959, \"you'd\": 960, 'hah': 961, 'aaaaaaaaaaaaahhhhhhhhhhhh': 962, 'fur': 963, 'leaves': 964, 'liquor': 965, 'handle': 966, 'ohh': 967, \"lovin'\": 968, 'thirty': 969, 'tomorrow': 970, 'somethin': 971, 'profit': 972, 'killa': 973, 'bright': 974, 'driving': 975, 'chris': 976, 'finger': 977, 'corny': 978, 'religion': 979, 'faith': 980, 'satan': 981, 'cray': 982, 'mary': 983, 'ultralight': 984, 'candy': 985, 'stuff': 986, 'stack': 987, 'shorty': 988, 'outside': 989, '9': 990, 'tickets': 991, 'questions': 992, 'johnson': 993, 'idea': 994, 'weave': 995, 'seem': 996, 'rings': 997, 'jail': 998, 'cover': 999, 'dealer': 1000, 'thou': 1001, \"askin'\": 1002, 'lock': 1003, 'putting': 1004, 'sound': 1005, \"why'd\": 1006, 'finally': 1007, 'standing': 1008, 'easy': 1009, 'shows': 1010, 'kinda': 1011, 'coke': 1012, 'sit': 1013, 'passed': 1014, 'sent': 1015, 'heaven': 1016, 'watching': 1017, \"motherfuckin'\": 1018, 'problems': 1019, 'able': 1020, 'common': 1021, 'motherfuckers': 1022, 'g2': 1023, 'wussup': 1024, 'excuse': 1025, 'miss': 1026, 'twista': 1027, 'berserk': 1028, 'salad': 1029, 'ugh': 1030, 'marvin': 1031, 'whip': 1032, \"d's\": 1033, 'chains': 1034, 'along': 1035, 'guys': 1036, \"it'll\": 1037, 'classes': 1038, 'pimps': 1039, 'hecky': 1040, 'shirley': 1041, 'guy': 1042, 'raised': 1043, 'till': 1044, 'doctor': 1045, 'stupid': 1046, 'um': 1047, 'cousin': 1048, 'bread': 1049, 'eating': 1050, 'seconds': 1051, 'cards': 1052, 'local': 1053, 'rest': 1054, 'career': 1055, 'happened': 1056, 'capitol': 1057, 'ahead': 1058, 'knock': 1059, 'vibe': 1060, 'code': 1061, 'paranoid': 1062, 'movie': 1063, 'moments': 1064, 'hopped': 1065, 'skin': 1066, '300': 1067, 'talked': 1068, 'order': 1069, 'dark': 1070, 'block': 1071, 'nightlife': 1072, \"could've\": 1073, 'beyonc': 1074, 'prince': 1075, 'pink': 1076, 'write': 1077, 'child': 1078, 'magic': 1079, 'shoot': 1080, 'connect': 1081, 'gang': 1082, 'throwing': 1083, 'cares': 1084, 'fake': 1085, 'bar': 1086, 'asshole': 1087, 'sleeping': 1088, 'martin': 1089, 'ring': 1090, 'killing': 1091, 'loved': 1092, 'begin': 1093, 'slowly': 1094, 'tripping': 1095, 'gossip': 1096, 'feelings': 1097, 'crossed': 1098, 'burning': 1099, 'bang': 1100, 'wife': 1101, 'mars': 1102, 'na': 1103, 'throne': 1104, 'broads': 1105, 'joseph': 1106, 'beam': 1107, 'liberated': 1108, 'x6': 1109, 'highlights': 1110, 'equinox': 1111, 'lifted': 1112, \"an'\": 1113, \"dealin'\": 1114, \"s'posed\": 1115, 'claim': 1116, 'doe': 1117, 'figured': 1118, 'til': 1119, 'sad': 1120, 'across': 1121, 'syleena': 1122, 'southside': 1123, 'few': 1124, 'single': 1125, 'fault': 1126, 'hits': 1127, 'rhymes': 1128, 'maybach': 1129, 'count': 1130, \"should've\": 1131, 'video': 1132, 'fair': 1133, 'jack': 1134, 'fail': 1135, 'wrongs': 1136, 'walks': 1137, 'ye': 1138, 'guns': 1139, \"sippin'\": 1140, 'seat': 1141, 'dirt': 1142, 'swear': 1143, 'waves': 1144, 'accident': 1145, 'eye': 1146, 'j': 1147, 'pocket': 1148, 'weak': 1149, \"mo'\": 1150, 'telling': 1151, 'great': 1152, 'kweli': 1153, 'tracks': 1154, 'ayo': 1155, 'hater': 1156, 'filled': 1157, 'tape': 1158, 'exactly': 1159, 'unless': 1160, 'shop': 1161, 'pump': 1162, 'shut': 1163, 'water': 1164, 'vandross': 1165, 'edition': 1166, \"callin'\": 1167, 'brothers': 1168, 'rb': 1169, \"havin'\": 1170, 'sleeves': 1171, 'truck': 1172, 'desert': 1173, \"rappin'\": 1174, 'dropped': 1175, 'calm': 1176, 'degree': 1177, 'meant': 1178, 'says': 1179, 'graduated': 1180, 'everyone': 1181, 'dad': 1182, 'gun': 1183, 'hotel': 1184, 'freeway': 1185, 'blue': 1186, 'wire': 1187, 'scared': 1188, 'dynasty': 1189, 'jaw': 1190, 'angel': 1191, 'christmas': 1192, 'grow': 1193, 'tall': 1194, 'sunday': 1195, 'girlfriend': 1196, 'book': 1197, 'woke': 1198, 'lotta': 1199, 'pac': 1200, 'fame': 1201, 'helped': 1202, 'producer': 1203, 'chronic': 1204, 'type': 1205, 'nothin': 1206, 'ten': 1207, 'seven': 1208, 'hat': 1209, 'heads': 1210, 'kicked': 1211, 'table': 1212, 'price': 1213, 'less': 1214, 'showed': 1215, 'barely': 1216, 'feds': 1217, 'summertime': 1218, 'nights': 1219, 'looks': 1220, 'kidding': 1221, 'passing': 1222, 'fare': 1223, 'destination': 1224, 'quite': 1225, 'headed': 1226, 'clouds': 1227, 'miles': 1228, 'jeans': 1229, \"they're\": 1230, \"mornin'\": 1231, \"would've\": 1232, 'mi': 1233, 'worth': 1234, 'millions': 1235, 'close': 1236, 'hampton': 1237, 't': 1238, 'bogus': 1239, 'hour': 1240, 'spray': 1241, 'rose': 1242, 'popcaan': 1243, 'honest': 1244, 'doors': 1245, 'kick': 1246, 'porn': 1247, 'eighteen': 1248, 'stick': 1249, 'brakes': 1250, 'polo': 1251, \"muh'fuckers\": 1252, 'nuts': 1253, 'thinkin': 1254, 'feelin': 1255, 'nas': 1256, 'orientation': 1257, 'loud': 1258, 'cry': 1259, 'leader': 1260, 'crying': 1261, 'malcolm': 1262, 'dior': 1263, 'bow': 1264, 'each': 1265, \"drivin'\": 1266, 'taylor': 1267, 'window': 1268, 'paris': 1269, 'drifting': 1270, 'playing': 1271, 'rza': 1272, 'text': 1273, 'bathroom': 1274, \"bubblin'\": 1275, 'thedream': 1276, 'james': 1277, 'racks': 1278, 'steve': 1279, 'pablo': 1280, 'shout': 1281, 'whoo': 1282, 'rah': 1283, 'nike': 1284, 'sampha': 1285, \"ya'\": 1286, \"joke's\": 1287, \"sittin'\": 1288, \"he'd\": 1289, 'weight': 1290, '50': 1291, 'belong': 1292, 'wheels': 1293, 'stage': 1294, 'rules': 1295, 'westside': 1296, 'named': 1297, 'american': 1298, 'jordan': 1299, 'jacob': 1300, 'admit': 1301, 'land': 1302, 'shall': 1303, \"playin'\": 1304, 'yourself': 1305, 'holla': 1306, 'nope': 1307, 'dollar': 1308, 'snatched': 1309, 'suits': 1310, 'trunk': 1311, \"devil's\": 1312, 'afraid': 1313, 'spoke': 1314, 'role': 1315, 'models': 1316, 'ends': 1317, \"screamin'\": 1318, 'given': 1319, 'mixed': 1320, 'fit': 1321, 'born': 1322, 'praise': 1323, 'lyrical': 1324, 'built': 1325, 'paul': 1326, 'teacher': 1327, \"'dro\": 1328, 'assholes': 1329, 'screen': 1330, 'bougie': 1331, 'sexy': 1332, 'sick': 1333, 'dancing': 1334, 'pack': 1335, 'disrespect': 1336, 'scary': 1337, 'wet': 1338, 'bars': 1339, 'homies': 1340, 'trip': 1341, 'double': 1342, 'rode': 1343, \"wit'\": 1344, 'oooo': 1345, 'gaye': 1346, 'anita': 1347, 'minnie': 1348, 'riperton': 1349, 'al': 1350, 'heat': 1351, \"holdin'\": 1352, 'thug': 1353, 'ludacris': 1354, 'iced': 1355, \"e's\": 1356, 'charge': 1357, 'cocaine': 1358, 'secretary': 1359, 'satisfied': 1360, 'kappa': 1361, 'delta': 1362, 'became': 1363, 'woos': 1364, 'rolling': 1365, 'degrees': 1366, 'working': 1367, 'jimmy': 1368, 'kept': 1369, 'parents': 1370, 'super': 1371, 'either': 1372, 'busters': 1373, 'boosters': 1374, 'blueprint': 1375, 'grammy': 1376, 'limit': 1377, 'gladly': 1378, 'risk': 1379, 'ordered': 1380, 'support': 1381, 'history': 1382, 'mirror': 1383, 'locked': 1384, 'cousins': 1385, 'wine': 1386, 'alcohol': 1387, 'expect': 1388, 'talkin': 1389, 'mentor': 1390, 'also': 1391, 'drums': 1392, 'company': 1393, 'allowed': 1394, 'raps': 1395, 'brand': 1396, 'lake': 1397, \"leavin'\": 1398, 'fired': 1399, 'holding': 1400, 'knows': 1401, 'hudson': 1402, 'agree': 1403, 'spoiled': 1404, 'stone': 1405, \"life's\": 1406, \"how'd\": 1407, 'drinks': 1408, \"pinocchio's\": 1409, \"thinkin'\": 1410, 'sin': 1411, 'spouse': 1412, 'pardon': 1413, 'claiming': 1414, \"zonin'\": 1415, 'possessed': 1416, 'x': 1417, 'coat': 1418, 'tear': 1419, 'chief': 1420, 'doja': 1421, 'soft': 1422, 'legs': 1423, 'assassin': 1424, 'badman': 1425, 'oj': 1426, 'shed': 1427, 'fucker': 1428, \"ballin'\": 1429, 'instagram': 1430, 'clay': 1431, 'future': 1432, 'guts': 1433, 'bust': 1434, 'success': 1435, 'souls': 1436, \"dancin'\": 1437, \"'member\": 1438, 'reputation': 1439, 'seeing': 1440, 'adam': 1441, 'hurts': 1442, 'shoulda': 1443, 'switch': 1444, 'sitting': 1445, 'sold': 1446, 'vegas': 1447, 'fell': 1448, 'gil': 1449, 'such': 1450, 'hammer': 1451, 'hova': 1452, 'grammys': 1453, \"cryin'\": 1454, 'sunny': 1455, 'calling': 1456, \"'gnac\": 1457, 'amazin': 1458, \"blazin'\": 1459, 'towel': 1460, \"day's\": 1461, 'rotation': 1462, 'hpnotiq': 1463, 'chaser': 1464, 'nuttin': 1465, 'savior': 1466, 'ground': 1467, 'stair': 1468, 'skyscraper': 1469, 'vocals': 1470, 'goin': 1471, 'older': 1472, 'wrote': 1473, 'celebration': 1474, 'striving': 1475, 'chrome': 1476, 'ceiling': 1477, 'taste': 1478, 'teach': 1479, 'ththat': 1480, 'wronger': 1481, 'anymore': 1482, 'plans': 1483, 'yatold': 1484, 'tpain': 1485, 'gots': 1486, 'bottles': 1487, 'remind': 1488, 'teeth': 1489, 'dada': 1490, 'human': 1491, 'above': 1492, 'fan': 1493, 'laid': 1494, 'engines': 1495, 'award': 1496, 'messed': 1497, \"min'\": 1498, 'loyee': 1499, 'oyeee': 1500, \"big's\": 1501, 'worse': 1502, 'nicki': 1503, 'teyana': 1504, 'booty': 1505, 'edge': 1506, 'happy': 1507, 'nation': 1508, 'field': 1509, 'couldnt': 1510, '21stcentury': 1511, 'schizoid': 1512, 'gifted': 1513, 'elly': 1514, 'mention': 1515, 'advice': 1516, 'learned': 1517, 'screwed': 1518, 'shake': 1519, 'dirty': 1520, 'proof': 1521, 'preach': 1522, 'scars': 1523, 'hello': 1524, 'bachs': 1525, 'repeat': 1526, 'excellence': 1527, 'unwanted': 1528, 'worried': 1529, 'desiigner': 1530, 'phantom': 1531, 'snooze': 1532, 'cops': 1533, 'hoe': 1534, 'max': 1535, 'st': 1536, 'jumped': 1537, 'jumpman': 1538, 'couches': 1539, 'graduation': 1540, \"hearin'\": 1541, 'handed': 1542, 'grown': 1543, 'dogs': 1544, 'cake': 1545, 'layaway': 1546, 'ran': 1547, \"nigga's\": 1548, '12': 1549, 'rocks': 1550, 'teachers': 1551, 'wont': 1552, \"you's\": 1553, 'jokes': 1554, 'wants': 1555, 'selfconscious': 1556, 'issues': 1557, 'highest': 1558, 'floss': 1559, 'police': 1560, 'freedom': 1561, \"spendin'\": 1562, 'belt': 1563, 'hallelujah': 1564, 'manager': 1565, 'gap': 1566, 'blunt': 1567, 'quit': 1568, 'deserves': 1569, 'glc': 1570, 'thirsty': 1571, 'state': 1572, 'key': 1573, 'counting': 1574, 'service': 1575, 'racism': 1576, 'lexus': 1577, 'pieces': 1578, 'killers': 1579, 'argue': 1580, 'radio': 1581, 'needs': 1582, 'except': 1583, 'sins': 1584, 'charts': 1585, 'position': 1586, 'choose': 1587, 'marry': 1588, 'math': 1589, 'spirit': 1590, 'miracle': 1591, 'instrumental': 1592, 'self': 1593, 'ears': 1594, 'color': 1595, 'whenever': 1596, 'strong': 1597, 'special': 1598, 'mike': 1599, 'clear': 1600, 'lyrics': 1601, 'forgive': 1602, 'jigga': 1603, 'thththrow': 1604, \"losin'\": 1605, 'plaques': 1606, 'usually': 1607, 'forward': 1608, 'cd': 1609, 'twisted': 1610, 'charm': 1611, 'cigarettes': 1612, 'yet': 1613, 'sister': 1614, 'thugs': 1615, 'emcees': 1616, 'producers': 1617, 'twelve': 1618, 'heyy': 1619, \"watchin'\": 1620, \"rollin'\": 1621, 'free99': 1622, 'popped': 1623, 'nba': 1624, 'player': 1625, 'invited': 1626, 'harsh': 1627, 'bone': 1628, 'between': 1629, 'thanks': 1630, 'woooo': 1631, 'listening': 1632, 'bill': 1633, 'wide': 1634, \"that'd\": 1635, 'strip': 1636, 'biggie': 1637, 'lightskinned': 1638, 'prove': 1639, 'smokey': 1640, 'robinson': 1641, \"layin'\": 1642, \"rockin'\": 1643, 'kan': 1644, 'hennessy': 1645, 'rims': 1646, 'wind': 1647, 'sheets': 1648, 'sweat': 1649, 'finish': 1650, 'mali': 1651, 'backpack': 1652, 'hundreds': 1653, 'platinum': 1654, 'ripped': 1655, \"givin'\": 1656, 'mnage': 1657, 'drawers': 1658, 'balls': 1659, \"actin'\": 1660, 'worst': 1661, 'coulda': 1662, 'which': 1663, 'fix': 1664, 'add': 1665, 'purse': 1666, 'alpha': 1667, 'omega': 1668, 'sigma': 1669, 'aka': 1670, 'sg': 1671, 'rho': 1672, 'zeta': 1673, 'laura': 1674, 'early': 1675, \"one's\": 1676, 'pledge': 1677, 'mail': 1678, 'fat': 1679, 'cock': 1680, 'traffic': 1681, 'harlem': 1682, 'rep': 1683, 'twenty': 1684, 'twice': 1685, 'rained': 1686, 'roof': 1687, 'bottom': 1688, 'runners': 1689, 'beef': 1690, 'law': 1691, \"she'd\": 1692, \"throwin'\": 1693, 'jamaican': 1694, 'dunno': 1695, \"y'know\": 1696, 'mase': 1697, 'lawyer': 1698, 'missed': 1699, 'ghost': 1700, 'toys': 1701, 'jewelry': 1702, 'aight': 1703, 'glitters': 1704, 'photo': 1705, 'food': 1706, 'fancy': 1707, 'grandma': 1708, 'memory': 1709, 'auntie': 1710, 'george': 1711, 'ray': 1712, 'mercedes': 1713, 'fighting': 1714, 'rockefeller': 1715, '15': 1716, 'bigger': 1717, 'sir': 1718, 'fans': 1719, 'tribe': 1720, 'source': 1721, 'won': 1722, 'arrogant': 1723, 'demo': 1724, 'dealt': 1725, 'production': 1726, 'apartment': 1727, \"weren't\": 1728, 'bit': 1729, \"man's\": 1730, 'soulful': 1731, 'studio': 1732, 'jerk': 1733, 'baseline': 1734, 'fact': 1735, 'bucket': 1736, 'faces': 1737, 'bunch': 1738, 'relationships': 1739, 'relationship': 1740, 'mel': 1741, 'person': 1742, 'joe': 1743, '3h': 1744, 'brick': 1745, 'mrs': 1746, 'joke': 1747, 'enemies': 1748, 'reign': 1749, 'system': 1750, 'secret': 1751, 'keeping': 1752, 'lockdownyou': 1753, \"where's\": 1754, 'checking': 1755, 'attitude': 1756, 'once': 1757, 'tale': 1758, 'melt': 1759, 'mistakes': 1760, 'sacrifice': 1761, 'sees': 1762, 'camera': 1763, \"chasin'\": 1764, 'indian': 1765, 'men': 1766, 'judge': 1767, 'leather': 1768, 'omen': 1769, 'romans': 1770, 'trojans': 1771, 'menace': 1772, 'longest': 1773, 'devoted': 1774, 'afternoon': 1775, 'tek': 1776, 'massage': 1777, 'unlike': 1778, 'swag': 1779, 'saint': 1780, 'yeezus': 1781, \"chillin'\": 1782, 'country': 1783, 'blouse': 1784, 'cannot': 1785, 'sofa': 1786, \"hangin'\": 1787, 'lips': 1788, 'titties': 1789, 'ting': 1790, 'court': 1791, 'wars': 1792, 'rights': 1793, 'demons': 1794, 'priest': 1795, 'sofsofsofter': 1796, 'sofsofter': 1797, 'softer': 1798, 'blocka': 1799, 'pour': 1800, 'rise': 1801, 'louie': 1802, \"killin'\": 1803, 'tattoos': 1804, 'thursday': 1805, '21': 1806, \"complainin'\": 1807, 'mink': 1808, 'steps': 1809, 'verses': 1810, \"carryin'\": 1811, 'aids': 1812, 'ours': 1813, 'levine': 1814, 'footsteps': 1815, 'tease': 1816, 'posthook': 1817, 'van': 1818, 'due': 1819, 'rick': 1820, 'split': 1821, 'lupe': 1822, \"she'll\": 1823, \"walkin'\": 1824, 'dishes': 1825, '79th': 1826, 'jacket': 1827, 'circle': 1828, 'lit': 1829, 'mission': 1830, 'riding': 1831, 'sense': 1832, 'flip': 1833, 'custom': 1834, 'lean': 1835, 'remains': 1836, 'someone': 1837, 'corner': 1838, 'sale': 1839, 'fiends': 1840, 'soldiers': 1841, 'stove': 1842, \"bein'\": 1843, 'inspiration': 1844, 'daily': 1845, 'trade': 1846, 'flowers': 1847, 'confidence': 1848, 'doctors': 1849, 'instead': 1850, 'mmm': 1851, 'brandy': 1852, 'besides': 1853, \"frontin'\": 1854, 'catching': 1855, 'bassey': 1856, 'signs': 1857, 'agent': 1858, 'build': 1859, 'hmm': 1860, 'page': 1861, 'yall': 1862, 'jag': 1863, 'private': 1864, 'roots': 1865, 'l': 1866, 'airport': 1867, 'acting': 1868, 'pie': 1869, 'onnn': 1870, 'romance': 1871, 'model': 1872, 'mcs': 1873, 'list': 1874, 'minutes': 1875, 'test': 1876, 'mhm': 1877, 'crowd': 1878, 'hill': 1879, 'invisible': 1880, 'mark': 1881, 'christian': 1882, \"trippin'\": 1883, 'apollonia': 1884, 'isotoners': 1885, 'screams': 1886, 'd': 1887, 'atlanta': 1888, 'lived': 1889, 'message': 1890, 'buried': 1891, 'barry': 1892, 'sport': 1893, 'suck': 1894, 'crashed': 1895, 'paparazzi': 1896, 'dwele': 1897, 'recall': 1898, 'dj': 1899, 'backing': 1900, 'versace': 1901, 'ego': 1902, 'ross': 1903, 'downtown': 1904, 'fireworks': 1905, \"biggs'\": 1906, 'yell': 1907, 'smell': 1908, 'centuries': 1909, 'mercy': 1910, 'energy': 1911, 'bon': 1912, 'iver': 1913, 'ive': 1914, 'chances': 1915, 'ending': 1916, 'worlds': 1917, 'others': 1918, 'clocks': 1919, 'ticking': 1920, 'broken': 1921, 'thoughts': 1922, 'jumping': 1923, 'public': 1924, 'credit': 1925, 'present': 1926, 'women': 1927, 'wishes': 1928, 'lamar': 1929, 'matt': 1930, 'constellations': 1931, 'sinsation': 1932, 'lebron': 1933, 'finding': 1934, 'douchebags': 1935, 'scumbags': 1936, 'jerkoffs': 1937, 'imma': 1938, 'wildest': 1939, 'oscar': 1940, 'wouldnt': 1941, 'whose': 1942, 'resort': 1943, 'reupholstered': 1944, 'heyhey': 1945, 'beings': 1946, 'nonbeliever': 1947, 'rolls': 1948, 'seats': 1949, 'pious': 1950, 'holy': 1951, 'supercharged': 1952, 'dumb': 1953, 'luxury': 1954, 'dealing': 1955, 'larry': 1956, 'holocaust': 1957, 'strap': 1958, 'shift': 1959, 'throwed': 1960, 'shoutout': 1961, 'coretta': 1962, 'betty': 1963, 'deliver': 1964, 'faaaaaaaa': 1965, 'hollywood': 1966, 'wanting': 1967, 'kin': 1968, 'jet': 1969, 'jobs': 1970, \"wishin'\": 1971, 'layers': 1972, 'flesh': 1973, 'unfollow': 1974, 'unswallow': 1975, 'nori': 1976, 'surrounded': 1977, 'silver': 1978, 'surfer': 1979, 'skrrt': 1980, '90': 1981, 'whoop': 1982, 'bonus': 1983, 'media': 1984, 'junie': 1985, 'morrison': 1986, 'daa': 1987, \"jammin'\": 1988, \"dick'll\": 1989, 'boom': 1990, 'timbuck2': 1991, 'members': 1992, \"sharin'\": 1993, 'experience': 1994, 'dopeman': 1995, 'coats': 1996, 'community': 1997, 'ambition': 1998, 'loans': 1999, \"jacob's\": 2000, 'bootlegged': 2001, 'packs': 2002, 'lottery': 2003, 'homo': 2004, 'welfare': 2005, 'bus': 2006, 'space': 2007, 'hammers': 2008, 'understands': 2009, \"muthafuckin'\": 2010, 'slide': 2011, 'muthafucka': 2012, 'campus': 2013, 'confused': 2014, 'airs': 2015, 'precious': 2016, 'eve': 2017, 'female': 2018, 'addicted': 2019, 'watches': 2020, 'clean': 2021, 'selfesteem': 2022, 'coupe': 2023, 'wealth': 2024, \"shorty's\": 2025, \"pushin'\": 2026, 'bills': 2027, 'saved': 2028, 'glad': 2029, 'joy': 2030, 'bye': 2031, 'scratch': 2032, \"takin'\": 2033, 'writing': 2034, 'numbers': 2035, 'records': 2036, 'basement': 2037, 'represent': 2038, 'yours': 2039, 'respect': 2040, 'pants': 2041, \"ol'\": 2042, 'goatee': 2043, 'staying': 2044, 'freddie': 2045, 'yusef': 2046, 'niece': 2047, 'consequence': 2048, 'busta': 2049, 'broad': 2050, 'chariot': 2051, 'ourselves': 2052, 'restless': 2053, 'snatch': 2054, 'necklace': 2055, 'gasps': 2056, 'breakfast': 2057, 'basis': 2058, 'dealers': 2059, 'victims': 2060, 'features': 2061, 'record': 2062, 'spins': 2063, 'ear': 2064, 'watched': 2065, 'image': 2066, 'cristal': 2067, 'pole': 2068, 'grandfather': 2069, 'arrested': 2070, 'rainey': 2071, 'smiling': 2072, 'balled': 2073, 'complain': 2074, 'path': 2075, 'spiritual': 2076, 'notes': 2077, 'loot': 2078, 'rent': 2079, 'breath': 2080, 'bikes': 2081, 'falling': 2082, 'albums': 2083, 'eighth': 2084, 'religious': 2085, 'hail': 2086, \"hov's\": 2087, 'bounce': 2088, 'freshman': 2089, 'hella': 2090, \"'cuz\": 2091, 'tweet': 2092, 'talib': 2093, 'lines': 2094, 'picking': 2095, 'backs': 2096, 'conference': 2097, 'moms': 2098, 'bomb': 2099, 'playa': 2100, 'chicks': 2101, 'apologize': 2102, 'tune': 2103, 'clubs': 2104, 'tiger': 2105, 'affect': 2106, 'alicia': 2107, \"coppin'\": 2108, 'label': 2109, 'nut': 2110, 'medusa': 2111, 'pimp': 2112, 'cup': 2113, 'bred': 2114, 'bolder': 2115, 'fires': 2116, \"puttin'\": 2117, 'shitintro': 2118, 'stomach': 2119, 'ups': 2120, 'tuck': 2121, 'excited': 2122, 'halle': 2123, 'bless': 2124, 'freaking': 2125, 'brag': 2126, 'ballas': 2127, 'jill': 2128, 'rodeo': 2129, 'lasandra': 2130, 'sounds': 2131, 'ellamay': 2132, 'baller': 2133, 'allow': 2134, 'introduce': 2135, 'woooorrrrkkoouut': 2136, 'clap': 2137, 'wizzerk': 2138, 'yeahintro': 2139, 'emphasis': 2140, 'oooooo': 2141, \"grabbin'\": 2142, 'knight': 2143, 'wrist': 2144, 'twist': 2145, 'whispers': 2146, \"bumpin'\": 2147, \"listenin'\": 2148, 'jam': 2149, 'bend': 2150, 'teddy': 2151, 'pendergrass': 2152, 'rapped': 2153, 'strippers': 2154, 'quick': 2155, 'cost': 2156, 'grabbed': 2157, 'piss': 2158, 'weapon': 2159, 'messages': 2160, \"mother's\": 2161, 'tattooed': 2162, 'continue': 2163, 'decided': 2164, 'planned': 2165, 'cheesecake': 2166, 'breathing': 2167, 'wasyou': 2168, 'books': 2169, 'masters': 2170, 'doctorate': 2171, 'spending': 2172, 'buddy': 2173, 'warm': 2174, 'learning': 2175, 'saving': 2176, 'places': 2177, 'united': 2178, 'bk': 2179, 'ny': 2180, 'stuy': 2181, 'lane': 2182, 'waist': 2183, 'gimme': 2184, 'hosed': 2185, 'ar': 2186, 'pot': 2187, 'slightly': 2188, 'clip': 2189, 'almighty': 2190, 'chest': 2191, 'ensure': 2192, 'sane': 2193, 'console': 2194, 'millionaire': 2195, 'hospital': 2196, 'mtv': 2197, 'band': 2198, 'wired': 2199, 'hottest': 2200, 'spoken': 2201, 'blink': 2202, 'driver': 2203, 'case': 2204, 'geico': 2205, 'unbreakable': 2206, 'r': 2207, 'plate': 2208, 'manintro': 2209, 'thanksgiving': 2210, 'granny': 2211, 'naw': 2212, 'rude': 2213, 'heated': 2214, 'uncle': 2215, 'storm': 2216, 'communion': 2217, \"isn't\": 2218, \"muh'fucker\": 2219, 'underground': 2220, 'dropout': 2221, 'himself': 2222, 'jean': 2223, 'cologne': 2224, 'fill': 2225, '10': 2226, 'buzz': 2227, 'interested': 2228, 'banana': 2229, 'republic': 2230, 'awards': 2231, 'horse': 2232, 'steam': 2233, 'rocked': 2234, 'skies': 2235, 'brains': 2236, 'killin': 2237, 'whips': 2238, 'session': 2239, 'messin': 2240, 'solo': 2241, 'manage': 2242, 'poppin': 2243, 'doin': 2244, 'acts': 2245, 'pelle': 2246, 'wore': 2247, 'sped': 2248, 'tracked': 2249, 'personal': 2250, 'train': 2251, \"poppin'\": 2252, 'uhaul': 2253, 'jersey': 2254, 'beans': 2255, 'yesterday': 2256, 'classics': 2257, 'lookin': 2258, 'colored': 2259, \"ar's\": 2260, \"it'd\": 2261, 'jessica': 2262, 'wow': 2263, 'walls': 2264, 'bite': 2265, 'youverse': 2266, 'june': 2267, 'missing': 2268, 'waste': 2269, 'outroverse': 2270, 'report': 2271, 'sports': 2272, 'heartbreak': 2273, 'months': 2274, 'evening': 2275, 'goon': 2276, 'shes': 2277, 'cell': 2278, 'scene': 2279, 'drama': 2280, 'haha': 2281, 'nightmare': 2282, 'fairy': 2283, 'farewell': 2284, 'vision': 2285, \"love's\": 2286, 'spring': 2287, 'snow': 2288, 'againintro': 2289, 'doubt': 2290, 'vacation': 2291, 'lied': 2292, 'facade': 2293, 'cryin': 2294, 'oughta': 2295, 'guide': 2296, 'stays': 2297, 'moved': 2298, 'dough': 2299, \"he'll\": 2300, 'david': 2301, 'theme': 2302, 'kong': 2303, '500': 2304, 'blacked': 2305, 'coon': 2306, 'aware': 2307, 'tomb': 2308, \"breathin'\": 2309, 'godintro': 2310, 'blazin': 2311, 'har': 2312, 'bugah': 2313, 'skirt': 2314, 'rated': 2315, 'compared': 2316, 'polos': 2317, 'c': 2318, \"shinin'\": 2319, 'climate': 2320, 'restaurant': 2321, 'casa': 2322, 'woulda': 2323, 'cotton': 2324, 'leaders': 2325, 'followers': 2326, 'swallower': 2327, 'sleeve': 2328, 'bobby': 2329, \"dyin'\": 2330, 'keef': 2331, 'coma': 2332, \"wakin'\": 2333, 'range': 2334, 'rover': 2335, 'corolla': 2336, 'hangover': 2337, \"floatin'\": 2338, '2pac': 2339, 'manners': 2340, 'sober': 2341, 'loner': 2342, \"uncle's\": 2343, \"shit's\": 2344, 'ohhh': 2345, 'iphone': 2346, 'bittersweet': 2347, \"a'\": 2348, 'dat': 2349, 'nuh': 2350, 'badda': 2351, 'aerosol': 2352, 'lay': 2353, 'fist': 2354, 'flame': 2355, 'civil': 2356, 'bike': 2357, 'movement': 2358, 'led': 2359, 'nina': 2360, 'simone': 2361, 'strange': 2362, 'fruit': 2363, 'trees': 2364, 'molly': 2365, 'naked': 2366, 'tore': 2367, 'herself': 2368, 'wifey': 2369, 'matrimony': 2370, \"'nother\": 2371, 'trips': 2372, 'adopted': 2373, 'focus': 2374, 'crew': 2375, 'rocka': 2376, 'beenie': 2377, 'loss': 2378, 'selfish': 2379, 'jealous': 2380, 'twos': 2381, 'sucked': 2382, 'louboutin': 2383, 'drown': 2384, 'dutty': 2385, 'salon': 2386, 'charlie': 2387, 'wilson': 2388, 'romey': 2389, 'wished': 2390, \"jerome's\": 2391, '4th': 2392, 'tim': 2393, 'government': 2394, 'minister': 2395, 'pam': 2396, 'smokin': 2397, 'worthless': 2398, 'advance': 2399, 'loafers': 2400, 'nervous': 2401, 'cheated': 2402, 'pair': 2403, 'foreign': 2404, 'cutie': 2405, 'psychic': 2406, 'jennifer': 2407, 'usher': 2408, 'bowl': 2409, 'prenup': 2410, 'floors': 2411, 'cat': 2412, 'stones': 2413, 'shore': 2414, 'version': 2415, \"we'd\": 2416, 'lincolns': 2417, \"flirtin'\": 2418, 'rush': 2419, 'screens': 2420, 'fours': 2421, 'crawling': 2422, 'houston': 2423, \"car's\": 2424, 'tvs': 2425, 'wings': 2426, 'actin': 2427, 'quiet': 2428, \"o's\": 2429, 'jungles': 2430, 'makin': 2431, 'revolution': 2432, 'fightin': 2433, 'tyson': 2434, 'bail': 2435, 'scottheron': 2436, 'hatred': 2437, 'cooked': 2438, 'answer': 2439, 'scott': 2440, 'hooked': 2441, 'rate': 2442, 'dc': 2443, 'tree': 2444, 'medicine': 2445, 'tongue': 2446, 'pure': 2447, 'hardly': 2448, 'box': 2449, 'answers': 2450, 'president': 2451, 'addiction': 2452, 'worked': 2453, 'tryin': 2454, 'asleep': 2455, 'kim': 2456, 'brings': 2457, 'sunshine': 2458, 'mm': 2459, 'mmmm': 2460, 'spanish': 2461, 'hablo': 2462, 'feed': 2463, 'often': 2464, 'curious': 2465, \"time's\": 2466, 'co': 2467, 'closest': 2468, 'potion': 2469, 'strings': 2470, 'sierra': 2471, 'leone': 2472, 'conflict': 2473, 'boat': 2474, 'difficult': 2475, 'kilos': 2476, 'projects': 2477, 'shorties': 2478, 'weather': 2479, 'survived': 2480, 'sings': 2481, 'takin': 2482, 'cereal': 2483, 'milk': 2484, 'december': 2485, 'kitchen': 2486, 'mansion': 2487, 'livin': 2488, 'depends': 2489, 'benzo': 2490, 'shy': 2491, \"cris'\": 2492, 'floooooow': 2493, 'ounce': 2494, 'yep': 2495, 'louder': 2496, 'imposter': 2497, 'among': 2498, 'pretending': 2499, 'explain': 2500, 'march': 2501, \"smellin'\": 2502, 'coogi': 2503, 'numpsay': 2504, 'groupies': 2505, 'burn': 2506, 'poof': 2507, 'tough': 2508, 'dag': 2509, 'touched': 2510, 'disguise': 2511, 'pouring': 2512, 'rented': 2513, 'uhuhuh': 2514, 'powers': 2515, 'ideas': 2516, 'junior': 2517, 'student': 2518, 'lately': 2519, 'klondike': 2520, 'dykes': 2521, 'arrived': 2522, 'legendary': 2523, 'dreamed': 2524, 'cleaned': 2525, 'league': 2526, 'graduate': 2527, 'thang': 2528, 'lauryn': 2529, 'visit': 2530, 'pleasure': 2531, 'kate': 2532, 'awesome': 2533, 'presence': 2534, \"'specially\": 2535, 'gospel': 2536, 'overnever': 2537, 'smokescreens': 2538, 'lifetime': 2539, 'giving': 2540, 'husband': 2541, 'youll': 2542, 'v': 2543, 'ferrari': 2544, 'pile': 2545, 'philly': 2546, 'bay': 2547, 'brain': 2548, \"money's\": 2549, 'reckless': 2550, 'prada': 2551, 'fresher': 2552, 'mitchell': 2553, 'surprise': 2554, 'uhuhhum': 2555, 'bonds': 2556, 'knees': 2557, 'wha': 2558, 'weezy': 2559, 'shady': 2560, 'oops': 2561, 'rabbit': 2562, 'backwards': 2563, 'lack': 2564, 'seek': 2565, 'sippy': 2566, \"shootin'\": 2567, 'wood': 2568, 'couture': 2569, 'foul': 2570, 'aye': 2571, 'month': 2572, 'gina': 2573, 'mona': 2574, 'lisa': 2575, 'caesar': 2576, 'fakeass': 2577, 'boots': 2578, 'spaz': 2579, 'nyro': 2580, 'wade': 2581, 'barkley': 2582, 'bridesmaids': 2583, 'cameras': 2584, 'dressed': 2585, 'hero': 2586, 'empty': 2587, 'hermes': 2588, 'speed': 2589, 'boats': 2590, 'themselves': 2591, 'point': 2592, 'jump': 2593, 'lighters': 2594, 'michigan': 2595, 'idol': 2596, 'madison': 2597, 'square': 2598, 'focused': 2599, 'pride': 2600, 'inspired': 2601, 'slam': 2602, 'coldplay': 2603, 'minaj': 2604, 'havent': 2605, 'boring': 2606, 'djs': 2607, 'stopped': 2608, 'ignorance': 2609, 'eventually': 2610, 'century': 2611, 'based': 2612, 'inner': 2613, 'winning': 2614, 'beginning': 2615, 'chose': 2616, 'ho': 2617, 'blues': 2618, 'o': 2619, 'whoever': 2620, 'benzes': 2621, 'dice': 2622, 'soldier': 2623, 'dying': 2624, 'downverse': 2625, 'kelly': 2626, 'furs': 2627, 'vault': 2628, 'austin': 2629, 'hiding': 2630, 'mj': 2631, 'heading': 2632, 'university': 2633, 'flashlights': 2634, 'spotlights': 2635, 'strobe': 2636, 'hide': 2637, 'willing': 2638, 'arguing': 2639, 'owe': 2640, 'goose': 2641, 'gosh': 2642, 'conquer': 2643, 'nonsense': 2644, 'heel': 2645, 'fangs': 2646, 'gangsta': 2647, 'giuseppe': 2648, 'shoe': 2649, 'bank': 2650, 'rookie': 2651, 'pockets': 2652, 'friday': 2653, 'thick': 2654, 'appalled': 2655, 'hired': 2656, 'lovers': 2657, 'rubbers': 2658, 'videos': 2659, 'praises': 2660, 'highness': 2661, 'exotic': 2662, 'fishes': 2663, 'hated': 2664, 'mil': 2665, 'pusha': 2666, 'ace': 2667, 'truce': 2668, 'bird': 2669, 'guidance': 2670, 'dismiss': 2671, 'flaws': 2672, 'spill': 2673, 'bracelet': 2674, 'dummy': 2675, 'preaching': 2676, 'congregation': 2677, 'consummation': 2678, 'christians': 2679, 'rubbing': 2680, 'homme': 2681, 'phony': 2682, 'guitar': 2683, 'stretch': 2684, 'character': 2685, 'tux': 2686, 'appetite': 2687, 'waitress': 2688, 'tag': 2689, 'accept': 2690, 'plenty': 2691, 'p': 2692, 'advantage': 2693, 'divorced': 2694, 'short': 2695, 'surface': 2696, 'mogul': 2697, 'lying': 2698, 'mud': 2699, 'choos': 2700, 'stress': 2701, 'se': 2702, 'digging': 2703, 'liberty': 2704, 'justice': 2705, 'bleached': 2706, 'wondering': 2707, 'loves': 2708, 'permission': 2709, 'cheap': 2710, 'showing': 2711, '20': 2712, '0': 2713, 'skate': 2714, 'nets': 2715, 'losing': 2716, 'escaped': 2717, 'lets': 2718, 'french': 2719, 'gets': 2720, 'easier': 2721, 'invented': 2722, 'snap': 2723, 'holes': 2724, \"everything's\": 2725, 'curses': 2726, 'mexico': 2727, 'jets': 2728, 'lames': 2729, 'switched': 2730, 'base': 2731, 'puerto': 2732, 'maybachs': 2733, 'wherever': 2734, 'ruined': 2735, 'lesbians': 2736, 'licks': 2737, 'picasso': 2738, 'moma': 2739, 'andr': 2740, 'tits': 2741, 'squares': 2742, 'shots': 2743, 'fought': 2744, 'eight': 2745, 'purple': 2746, 'extend': 2747, 'wasnt': 2748, 'enemy': 2749, 'shade': 2750, 'capital': 2751, 'tie': 2752, 'domino': 2753, 'laughing': 2754, 'fashion': 2755, 'mothafucka': 2756, 'allegiance': 2757, 'apple': 2758, 'boiling': 2759, 'drawn': 2760, 'didnt': 2761, 'spoil': 2762, 'bussin': 2763, 'natalie': 2764, 'devils': 2765, 'hallej': 2766, 'sia': 2767, 'ex': 2768, 'barrett': 2769, 'ooooooo': 2770, 'trust': 2771, 'instigated': 2772, 'relate': 2773, 'fanta': 2774, 'scammers': 2775, 'panda': 2776, 'montana': 2777, 'debt': 2778, 'sider': 2779, 'paradigm': 2780, 'impregnate': 2781, 'chop': 2782, 'kanyes': 2783, 'revealing': 2784, 'weeknd': 2785, 'especially': 2786, 'section': 2787, 'veil': 2788, 'fam': 2789, 'spin': 2790, 'laptop': 2791, \"lambs'\": 2792, 'wool': 2793, 'wavey': 2794, 'loopy': 2795, \"checkin'\": 2796, 'ndale': 2797, 'ei': 2798, \"pretendin'\": 2799, 'union': 2800, 'barnes': 2801, 'beams': 2802, 'gabe': 2803, 'di': 2804, 'los': 2805, 'angeles': 2806, \"knowin'\": 2807, 'mulholland': 2808, \"textin'\": 2809, 'turbo': 2810, 'thots': 2811, 'adidas': 2812, 'aggressive': 2813, 'sonic': 2814, \"runnin'\": 2815, \"mama's\": 2816, \"po'\": 2817, 'overseas': 2818, 'faculty': 2819, 'som': 2820, \"tha's\": 2821, \"jumpin'\": 2822, 'singintro': 2823, 'granted': 2824, 'adult': 2825, \"flickin'\": 2826, 'starter': 2827, 'colleges': 2828, \"trey's\": 2829, 'scholarship': 2830, 'tuition': 2831, 'forced': 2832, '655': 2833, \"sellin'\": 2834, 'makeup': 2835, 'tapes': 2836, 'income': 2837, 'tax': 2838, \"scratchin'\": 2839, 'bulimic': 2840, \"bakin'\": 2841, 'programs': 2842, 'dcfs': 2843, 'dyslexic': 2844, 'cent': 2845, 'retards': 2846, 'wheelchair': 2847, 'chromie': 2848, 'fathers': 2849, 'abandoned': 2850, 'ambulance': 2851, 'saywhat': 2852, 'ticket': 2853, 'robe': 2854, 'senioritis': 2855, 'uplifting': 2856, 'mutha': 2857, 'everybodyhook': 2858, 'majored': 2859, \"parents'll\": 2860, 'insecurr': 2861, 'concept': 2862, 'securr': 2863, 'sophomore': 2864, 'yurrs': 2865, 'carurr': 2866, 'hurr': 2867, 'pairs': 2868, 'peer': 2869, 'alexis': 2870, 'retail': 2871, \"rollie's\": 2872, \"pasha's\": 2873, 'pronounce': 2874, 'versaysee': 2875, 'bucks': 2876, 'grocery': 2877, 'shirt': 2878, 'lowest': 2879, 'prettiest': 2880, 'ugliest': 2881, 'riches': 2882, 'degrade': 2883, '40': 2884, 'acres': 2885, 'stoop': 2886, 'ourself': 2887, \"hollerin'\": 2888, 'ballers': 2889, 'crackhead': 2890, 'holier': 2891, '106': 2892, 'ballerific': 2893, 'terrific': 2894, 'pastdue': 2895, 'specific': 2896, 'downone': 2897, 'awayhook': 2898, 'insults': 2899, 'assaulting': 2900, 'shorten': 2901, 'register': 2902, 'pat': 2903, 'khakis': 2904, 'token': 2905, 'blackie': 2906, \"smokin'\": 2907, \"writin'\": 2908, 'struggle': 2909, 'match': 2910, 'fathom': 2911, 'summers': 2912, 'cree': 2913, \"summer's\": 2914, 'tec9': 2915, 'prime': 2916, 'schedule': 2917, 'shelves': 2918, 'patiently': 2919, 'holler': 2920, 'rolly': 2921, \"g's\": 2922, 'blaw': 2923, 'coworkers': 2924, 'ars': 2925, 'faculties': 2926, 'naturally': 2927, 'factually': 2928, 'catastrophe': 2929, 'fridges': 2930, 'staring': 2931, 'rideintro': 2932, 'terrorism': 2933, 'midwest': 2934, 'valley': 2935, 'view': 2936, 'breathless': 2937, 'choked': 2938, 'detectives': 2939, 'method': 2940, 'harass': 2941, 'arrest': 2942, 'cases': 2943, 'rental': 2944, 'avis': 2945, 'november': 2946, 'murderers': 2947, 'scrippers': 2948, 'thee': 2949, 'clearly': 2950, 'weary': 2951, 'nearly': 2952, 'extinct': 2953, 'facial': 2954, 'convert': 2955, 'atheists': 2956, 'believers': 2957, 'kathie': 2958, 'lee': 2959, 'regis': 2960, 'videotape': 2961, \"which'll\": 2962, \"dreamin'\": 2963, 'nowhook': 2964, 'apart': 2965, 'rovers': 2966, 'ribbons': 2967, \"repo'd\": 2968, 'resold': 2969, 'redriven': 2970, 'reload': 2971, 'holds': 2972, 'mines': 2973, 'sizzling': 2974, 'plain': 2975, 'consistent': 2976, 'disc': 2977, \"visitin'\": 2978, 'tradition': 2979, 'jeff': 2980, 'gordon': 2981, 'tender': 2982, 'age': 2983, 'sitins': 2984, 'ballots': 2985, 'leadership': 2986, 'dealership': 2987, \"racism's\": 2988, \"concealin'\": 2989, \"sam's\": 2990, 'scrubbed': 2991, 'baptized': 2992, \"'least\": 2993, 'yukons': 2994, 'coupons': 2995, 'doo': 2996, 'rags': 2997, \"girl's\": 2998, 'aaliyah': 2999, 'romeo': 3000, 'angels': 3001, 'ivy': 3002, 'particular': 3003, 'curriculum': 3004, 'cats': 3005, 'delirious': 3006, 'expose': 3007, 'globe': 3008, 'individual': 3009, 'hymns': 3010, 'heavensent': 3011, 'instrument': 3012, 'rhythmatic': 3013, 'regiment': 3014, 'navigates': 3015, 'melodic': 3016, 'mental': 3017, 'vibrations': 3018, 'gives': 3019, 'kunta': 3020, 'kinte': 3021, 'cinque': 3022, 'determination': 3023, 'dedication': 3024, 'motivation': 3025, 'inspirations': 3026, 'cliff': 3027, 'riff': 3028, 'slipped': 3029, 'clinched': 3030, 'grip': 3031, 'penmanship': 3032, 'language': 3033, 'deaf': 3034, 'confined': 3035, 'blind': 3036, 'reigns': 3037, 'pebble': 3038, 'peddled': 3039, 'pedaled': 3040, 'nephews': 3041, 'pedal': 3042, 'wooooo': 3043, 'fourth': 3044, 'quarter': 3045, 'chitterchat': 3046, 'dissing': 3047, 'maced': 3048, 'spitting': 3049, 'marys': 3050, \"'please\": 3051, \"us'\": 3052, 'archbishop': 3053, 'pope': 3054, 'alivekanye': 3055, 'nnnnow': 3056, 'wallets': 3057, 'hydraulics': 3058, 'swerve': 3059, 'alcoholics': 3060, 'nerve': 3061, \"i'se\": 3062, 'loser': 3063, 'bashful': 3064, \"bastard's\": 3065, 'bash': 3066, 'skull': 3067, \"tro'\": 3068, 'sumeke': 3069, 'nnnnnnow': 3070, 'emailing': 3071, '1126': 3072, '3626': 3073, 'doubled': 3074, 'planet': 3075, 'bubbly': 3076, 'nyu': 3077, 'kansas': 3078, 'lamping': 3079, 'chilling': 3080, 'candice': 3081, 'francis': 3082, 'mami': 3083, 'saver': 3084, 'sticks': 3085, 'rib': 3086, 'kwe': 3087, 'dimes': 3088, 'assist': 3089, \"sister's\": 3090, 'behavior': 3091, 'internet': 3092, 'birth': 3093, 'nicorette': 3094, 'inconsiderate': 3095, 'bubba': 3096, 'kush': 3097, 'noon': 3098, 'hype': 3099, 'assumed': 3100, 'doomed': 3101, 'quotes': 3102, 'remote': 3103, 'abuse': 3104, 'survivor': 3105, 'liver': 3106, 'thicker': 3107, 'resurrect': 3108, \"marsha's\": 3109, 'featured': 3110, 'popular': 3111, 'garbage': 3112, \"year's\": 3113, 'snooped': 3114, 'souped': 3115, 'loose': 3116, 'booster': 3117, 'chimped': 3118, 'illiterate': 3119, 'infrared': 3120, 'simba': 3121, 'denver': 3122, 'madd': 3123, 'emcee': 3124, 'temper': 3125, 'industry': 3126, \"spittin'\": 3127, 'wires': 3128, \"retirin'\": 3129, 'highkey': 3130, 'u': 3131, 'gurl': 3132, 'shakur': 3133, '187': 3134, 'pager': 3135, 'hofesional': 3136, 'acuras': 3137, 'bootleg': 3138, 'instructions': 3139, 'tummy': 3140, 'crunches': 3141, 'seed': 3142, 'berry': 3143, 'silhouette': 3144, 'cigarette': 3145, 'sars': 3146, '16': 3147, 'sweating': 3148, 'oldies': 3149, 'juking': 3150, '4door': 3151, 'difference': 3152, '7': 3153, '8': 3154, 'mocha': 3155, 'lattes': 3156, 'pilates': 3157, 'dating': 3158, \"13's\": 3159, 'cavalier': 3160, 'cancun': 3161, 'importantly': 3162, \"rayray's\": 3163, 'juke': 3164, 'mobile': 3165, 'alabama': 3166, 'date': 3167, 'envy': 3168, 'lemme': 3169, 'gentlemen': 3170, 'ow': 3171, 'sometime': 3172, 'danced': 3173, 'ninetytwo': 3174, 'shyne': 3175, 'homes': 3176, 'rhinestones': 3177, 'darkskinned': 3178, 'gladys': 3179, 'ashford': 3180, 'simpson': 3181, 'ohhhhh': 3182, 'oooooooooooooo': 3183, 'whatcha': 3184, 'isley': 3185, 'aisha': 3186, 'tyler': 3187, 'glist': 3188, 'cannabis': 3189, 'rhythm': 3190, 'preferably': 3191, 'evelyn': 3192, 'stoplight': 3193, 'isleys': 3194, \"movin'\": 3195, 'bump': 3196, 'spinners': 3197, \"dippin'\": 3198, \"23's\": 3199, 'keith': 3200, 'daze': 3201, 'maze': 3202, 'fulfilling': 3203, 'temptation': 3204, 'controlling': 3205, 'jodeci': 3206, 'melody': 3207, 'adlibs': 3208, 'singer': 3209, 'wellhook': 3210, 'golly': 3211, \"'pologize\": 3212, 'ghana': 3213, 'carti': 3214, 'lens': 3215, 'knapsack': 3216, 'significant': 3217, 'benjamins': 3218, 'faced': 3219, 'synonyms': 3220, 'cinnamon': 3221, 'chips': 3222, 'pentium': 3223, \"what'cha\": 3224, 'trend': 3225, 'phd': 3226, 'huge': 3227, 'whale': 3228, \"usin'\": 3229, 'toothpick': 3230, 'limited': 3231, 'toss': 3232, 'caddy': 3233, 'golf': 3234, 'denamuhh': 3235, 'altima': 3236, 'fully': 3237, \"trickin'\": 3238, 'dot': 3239, 'popo': 3240, 'prepared': 3241, \"pullin'\": 3242, 'lexuses': 3243, 'gses': 3244, 'ambidextrous': 3245, 'sworn': 3246, 'breasteses': 3247, \"sendin'\": 3248, 'mammogram': 3249, 'handicam': 3250, 'legal': 3251, 'amsterdam': 3252, 'candyman': 3253, 'handyman': 3254, 'scratched': 3255, 'repeatedlyskit': 3256, 'deray': 3257, 'davis': 3258, 'wonderful': 3259, 'partying': 3260, 'craziness': 3261, 'habit': 3262, 'peers': 3263, '25thousand': 3264, 'borrowing': 3265, 'several': 3266, 'interviews': 3267, 'entrylevel': 3268, \"secretary's\": 3269, \"boss's\": 3270, 'listened': 3271, 'hall': 3272, 'monitor': 3273, 'fastschool': 3274, 'chasing': 3275, 'tanned': 3276, 'waiter': 3277, 'jones': 3278, 'norah': 3279, 'soror': 3280, 'aurora': 3281, 'tammy': 3282, 'becky': 3283, 'pootie': 3284, 'tang': 3285, 'tippy': 3286, 'tow': 3287, 'rosary': 3288, 'catholic': 3289, 'steering': 3290, 'wheel': 3291, \"associate's\": 3292, \"bachelor's\": 3293, \"masters'\": 3294, '52': 3295, 'ways': 3296, 'degreeshey': 3297, \"kids'\": 3298, 'greedy': 3299, 'regular': 3300, 'homeless': 3301, 'newspaper': 3302, 'documented': 3303, 'smartest': 3304, 'thatintro': 3305, 'states': 3306, 'breaks': 3307, 'brow': 3308, 'stakes': 3309, 'macs': 3310, 'ecstasy': 3311, 'capsules': 3312, 'presidential': 3313, 'scandals': 3314, 'hungry': 3315, 'heavy': 3316, 'worldwide': 3317, 'gats': 3318, 'dues': 3319, 'mics': 3320, 'getters': 3321, 'imitated': 3322, 'nominated': 3323, 'accommodated': 3324, 'cheerleader': 3325, 'promdated': 3326, 'barbershop': 3327, 'playahated': 3328, 'momandpop': 3329, 'caved': 3330, 'judgment': 3331, 'basically': 3332, 'racially': 3333, 'profiled': 3334, \"'cuffed\": 3335, 'pimped': 3336, \"ho'd\": 3337, \"top's\": 3338, 'letters': 3339, 'jackie': 3340, 'joyner': 3341, 'burner': 3342, 'skeet': 3343, 'reef': 3344, 'necks': 3345, 'steven': 3346, 'seagal': 3347, 'brawl': 3348, 'squad': 3349, 'fend': 3350, 'retarded': 3351, 'artist': 3352, 'north': 3353, 'east': 3354, 'contest': 3355, 'likemusic': 3356, 'produced': 3357, 'gee': 3358, 'lifeordeath': 3359, 'situation': 3360, 'boost': 3361, 'pancakes': 3362, 'sizzurp': 3363, \"htotheizzo's\": 3364, \"son's\": 3365, 'imagine': 3366, 'emmett': 3367, 'lifelines': 3368, 'smalls': 3369, 'clots': 3370, 'unclear': 3371, 'weeks': 3372, 'reconstructive': 3373, 'surgery': 3374, \"chi'\": 3375, 'birds': 3376, 'explained': 3377, 'sue': 3378, 'dawgs': 3379, 'tom': 3380, 'cruise': 3381, 'vanilla': 3382, 'televised': 3383, 'burnt': 3384, 'pepsi': 3385, 'grownass': 3386, 'tragedy': 3387, 'triumph': 3388, 'chin': 3389, \"how's\": 3390, 'lays': 3391, \"answer's\": 3392, \"granny's\": 3393, 'grace': 3394, 'monkey': 3395, 'guard': 3396, 'lease': 3397, 'abi': 3398, 'deny': 3399, 'rider': 3400, 'electric': 3401, \"slidin'\": 3402, 'shook': 3403, 'aw': 3404, 'ruth': 3405, \"polaroids'll\": 3406, 'holiday': 3407, 'roaches': 3408, 'bath': 3409, 'leg': 3410, 'pee': 3411, 'creative': 3412, 'using': 3413, 'knives': 3414, 'nose': 3415, \"risin'\": 3416, 'manly': 3417, \"warmin'\": 3418, \"grillin'\": 3419, 'foreman': 3420, 'shiela': 3421, \"performin'\": 3422, 'reunion': 3423, 'clk': 3424, 'stevie': 3425, 'jailintro': 3426, 'foremost': 3427, 'propose': 3428, 'digital': 3429, 'rudolph': 3430, 'rednosed': 3431, 'reindeer': 3432, 'expected': 3433, 'flop': 3434, \"savin'\": 3435, \"rocafella's\": 3436, 'thinner': 3437, 'sean': 3438, \"paul's\": 3439, 'gaultier': 3440, 'bigheaded': 3441, 'infectious': 3442, 'insects': 3443, 'texas': 3444, 'overlooked': 3445, 'overbooked': 3446, 'quest': 3447, 'kwali': 3448, 'navy': 3449, 'oooh': 3450, 'sweeter': 3451, 'sadie': 3452, 'bunb': 3453, 'raymond': 3454, 'embarrassing': 3455, 'shoppin': 3456, 'arrogance': 3457, 'gassed': 3458, 'ought': 3459, 'desk': 3460, '20000': 3461, 'prayed': 3462, 'malls': 3463, 'replied': 3464, 'prefer': 3465, 'term': 3466, 'african': 3467, 'express': 3468, 'muscle': 3469, 'puffy': 3470, 'russell': 3471, 'mayonnaisecolored': 3472, 'beanie': 3473, 'spittin': 3474, 'forth': 3475, 'askin': 3476, 'managing': 3477, 'blaze': 3478, 'saxophone': 3479, \"gassin'\": 3480, 'ddot': 3481, 'figuring': 3482, 'stayin': 3483, 'jordans': 3484, 'technomarine': 3485, 'harold': 3486, 'melvin': 3487, 'compilation': 3488, 'soundin': 3489, 'dre': 3490, '2001': 3491, 'timeand': 3492, 'xxplosive': 3493, 'sampled': 3494, 'resurgence': 3495, 'management': 3496, 'sayin': 3497, 'appreciated': 3498, 'simple': 3499, 'introspective': 3500, 'complicated': 3501, 'rhy': 3502, 'opinion': 3503, 'groups': 3504, 'artists': 3505, 'ended': 3506, 'evicted': 3507, 'landlord': 3508, 'newark': 3509, \"hadn't\": 3510, 'unpacked': 3511, 'ikea': 3512, 'loaded': 3513, 'equipment': 3514, \"beans'\": 3515, 'dmx': 3516, \"'ooooooooooh'\": 3517, 'starstruck': 3518, 'picturing': 3519, 'superstars': 3520, \"'can't\": 3521, \"life'\": 3522, 'lenny': 3523, 's': 3524, 'sneakers': 3525, 'tyty': 3526, 'meneilly': 3527, 'mayonnaise': 3528, 'response': 3529, 'hehe': 3530, 'h': 3531, 'izzo': 3532, 'proudly': 3533, 'course': 3534, 'appre': 3535, 'riders': 3536, 'postblueprint': 3537, \"'jesus\": 3538, \"walks'\": 3539, 'dave': 3540, 'lighty': 3541, 'labels': 3542, 'rivera': 3543, 'promotion': 3544, 'guru': 3545, \"'wow'\": 3546, 'eleven': 3547, \"'like\": 3548, 'office': 3549, 'umbrella': 3550, 'booking': 3551, 'sessions': 3552, 'arranging': 3553, 'marketing': 3554, 'schemes': 3555, 'calls': 3556, 'awake': 3557, 'crashlands': 3558, 'fantasize': 3559, 'cribs': 3560, 'cracked': 3561, 'laughed': 3562, 'chased': 3563, 'godsister': 3564, 'itchorus': 3565, 'breeze': 3566, 'dr': 3567, 'evil': 3568, 'bringing': 3569, 'groove': 3570, 'hating': 3571, 'heartlessverse': 3572, 'exhausted': 3573, 'killer': 3574, 'solved': 3575, 'maven': 3576, 'changing': 3577, 'victorious': 3578, 'warriors': 3579, 'strive': 3580, 'victory': 3581, 'podium': 3582, 'sodium': 3583, 'spoon': 3584, 'small': 3585, 'applause': 3586, 'amazingverse': 3587, 'haunted': 3588, 'overload': 3589, 'screaming': 3590, 'nnooo': 3591, 'escape': 3592, 'danger': 3593, 'wasting': 3594, 'racing': 3595, 'loseintro': 3596, 'gratitude': 3597, 'baddest': 3598, 'stephen': 3599, \"king's\": 3600, 'patrol': 3601, 'parole': 3602, 'misery': 3603, 'disagree': 3604, 'robot': 3605, 'joking': 3606, 'nowintro': 3607, 'fairverse': 3608, \"people'll\": 3609, 'channel': 3610, 'cruiseintro': 3611, 'return': 3612, 'committed': 3613, 'cemented': 3614, 'repent': 3615, 'resent': 3616, 'stank': 3617, 'peeyew': 3618, 'knowverse': 3619, 'crazycrazy': 3620, 'ysl': 3621, 'pinocchio': 3622, 'stamina': 3623, 'autograph': 3624, 'gepetto': 3625, 'beside': 3626, 'perspective': 3627, 'sayverse': 3628, 'season': 3629, \"approachin'\": 3630, \"wearin'\": 3631, 'shaking': 3632, 'parkinsons': 3633, 'moccasins': 3634, 'timbs': 3635, 'couch': 3636, 'chocolate': 3637, 'cochran': 3638, 'chopped': 3639, 'announcement': 3640, 'bra': 3641, \"bouncin'\": 3642, 'mountain': 3643, \"'bleau\": 3644, 'fountain': 3645, 'grutman': 3646, 'nowverse': 3647, 'byanymeans': 3648, 'enter': 3649, 'kingdom': 3650, 'catholics': 3651, 'conservative': 3652, 'baptists': 3653, \"overreactin'\": 3654, 'chiraq': 3655, 'cartoon': 3656, 'wolf': 3657, \"gaspin'\": 3658, 'readyready': 3659, 'capleton': 3660, 'suh': 3661, 'porsche': 3662, 'garage': 3663, \"kissin'\": 3664, \"hatin'ass\": 3665, 'snakeass': 3666, 'mentally': 3667, 'liked': 3668, 'pinkass': 3669, 'rat': 3670, 'virgil': 3671, 'pyrex': 3672, 'snapback': 3673, 'ibn': 3674, \"monop'\": 3675, 'garment': 3676, 'struck': 3677, 'lightning': 3678, 'frenchass': 3679, 'croissants': 3680, 'su': 3681, 'cosa': 3682, 'nostra': 3683, 'era': 3684, 'served': 3685, 'fairer': 3686, 'bentley': 3687, 'alexander': 3688, 'wang': 3689, 'ease': 3690, 'corporation': 3691, 'boucher': 3692, 'contracts': 3693, \"c'est\": 3694, 'vie': 3695, 'reporters': 3696, 'smash': 3697, 'recorders': 3698, 'confuse': 3699, 'meanwhile': 3700, 'dea': 3701, 'teamed': 3702, 'cca': 3703, 'privately': 3704, 'owned': 3705, 'prison': 3706, 'prolly': 3707, 'hamptons': 3708, \"braggin'\": 3709, 'kbor': 3710, 'jnos': 3711, 'egyszer': 3712, 'nap': 3713, 'gy': 3714, 'elfradt': 3715, 'elaludt': 3716, 'mly': 3717, 'zld': 3718, 'ln': 3719, 'az': 3720, 'embereknek': 3721, 'fjt': 3722, 'stt': 3723, 'megsajnlt': 3724, 'eljtt': 3725, 'kznkintro': 3726, 'indiana': 3727, 'smashed': 3728, 'october': 3729, 'deepak': 3730, 'chopra': 3731, \"yeezy's\": 3732, 'octobers': 3733, 'hungover': 3734, 'skinny': 3735, 'shoulders': 3736, 'latenight': 3737, 'organ': 3738, 'donor': 3739, 'disown': 3740, 'hopeless': 3741, 'mates': 3742, 'soulless': 3743, 'fad': 3744, \"'rents\": 3745, 'homeverse': 3746, 'blackberry': 3747, 'bathwater': 3748, 'careless': 3749, \"bitin'\": 3750, \"pussy's\": 3751, '7eleven': 3752, 'condoms': 3753, \"eatin'\": 3754, 'asian': 3755, 'sour': 3756, 'sauce': 3757, 'shower': 3758, 'jose': 3759, 'february': 3760, '30th': 3761, 'seh': 3762, \"agon'\": 3763, 'shouldve': 3764, \"steppin'\": 3765, 'cracks': 3766, 'jumps': 3767, 'reptile': 3768, 'textile': 3769, 'kinds': 3770, 'slight': 3771, 'held': 3772, 'aaaaahhh': 3773, 'douglas': 3774, 'kidsandthewife': 3775, 'nightlight': 3776, 'tron': 3777, 'wheelie': 3778, 'zeitgeist': 3779, 'raplic': 3780, 'nuns': 3781, 'dleague': 3782, \"speakin'\": 3783, 'swaghiliintro': 3784, 'poplar': 3785, \"racin'\": 3786, \"surroundin'\": 3787, \"'stead\": 3788, 'lobby': 3789, \"happenin'\": 3790, 'lawyers': 3791, 'destroy': 3792, \"'nolia\": 3793, 'string': 3794, 'lazy': 3795, 'badbitchalert': 3796, 'madrichalert': 3797, 'reverse': 3798, 'twothousanddollar': 3799, 'courtside': 3800, 'separated': 3801, 'apartheid': 3802, 'impregnated': 3803, 'main': 3804, 'abort': 3805, 'snort': 3806, \"owin'\": 3807, 'alimony': 3808, 'yeahyeah': 3809, 'unholy': 3810, \"'din\": 3811, 'liveintro': 3812, 'capricorn': 3813, 'lawn': 3814, 'likes': 3815, 'lives': 3816, 'leos': 3817, 'trios': 3818, 'rio': 3819, 'ski': 3820, \"peekin'\": 3821, 'keyhole': 3822, 'blockablocka': 3823, 'cranberry': 3824, 'vodka': 3825, 'feelins': 3826, 'zulu': 3827, 'shaka': 3828, 'shabba': 3829, 'poppa': 3830, 'saga': 3831, 'chewbacca': 3832, 'numberone': 3833, 'sk': 3834, 'skintro': 3835, \"relivin'\": 3836, 'rockstar': 3837, 'elvis': 3838, \"drillin'\": 3839, 'improve': 3840, 'crayist': 3841, \"bodyguard's\": 3842, \"evenin'\": 3843, 'colder': 3844, 'toes': 3845, 'haveintro': 3846, 'lame': 3847, 'walkingroundalwaysmad': 3848, 'leaveaprettygirlsad': 3849, 'brad': 3850, 'turnt': 3851, 'nightclub': 3852, 'wining': 3853, 'jamaicans': 3854, 'prom': 3855, \"whatwedodon'ttellyourmom\": 3856, 'redcupallonthelawn': 3857, 'paint': 3858, 'sink': 3859, 'spunk': 3860, 'jeromey': 3861, 'rome': 3862, \"admittin'\": 3863, 'backstroke': 3864, \"thanksgivin'\": 3865, 'wishlist': 3866, 'longass': 3867, 'wept': 3868, 'honeyskit': 3869, 'hohoho': 3870, 'grader': 3871, \"notin'\": 3872, 'niggais': 3873, \"snorin'\": 3874, 'westintro': 3875, 'robert': 3876, 'minimum': 3877, 'wage': 3878, 'administer': 3879, 'allhu': 3880, 'akbar': 3881, 'seasons': 3882, 'clapping': 3883, 'squeezing': 3884, 'gran': 3885, 'praying': 3886, 'believing': 3887, 'breathin': 3888, 'dreamin': 3889, 'niggerish': 3890, 'blacker': 3891, 'licorice': 3892, 'yeahook': 3893, \"boy's\": 3894, 'locks': 3895, 'pessimists': 3896, 'apartament': 3897, 'hiahighighighighhhh': 3898, 'alalalalahlalahhhhh': 3899, 'slick': 3900, 'kfc': 3901, 'breakdowns': 3902, 'aeroplane': 3903, 'skeeted': 3904, 'nia': 3905, 'fiasco': 3906, 'third': 3907, 'steal': 3908, 'lupin': 3909, '3rd': 3910, 'beer': 3911, 'curb': 3912, 'peachfuzz': 3913, 'beard': 3914, 'verge': 3915, 'syrup': 3916, 'bottleshaped': 3917, 'butterworth': 3918, 'mummra': 3919, 'en': 3920, 'garde': 3921, 'unthawed': 3922, 'correct': 3923, 'horns': 3924, 'homeintro': 3925, \"triflin'\": 3926, 'indeed': 3927, 'digs': 3928, 'beauty': 3929, 'underarm': 3930, 'flock': 3931, 'serena': 3932, 'trina': 3933, 'lopez': 3934, 'asses': 3935, 'showbiz': 3936, \"din'\": 3937, \"payin'\": 3938, 'win': 3939, 'hyundai': 3940, 'tyco': 3941, 'lipo': 3942, 'insured': 3943, 'punk': 3944, '18th': 3945, \"washin'\": 3946, 'datsun': 3947, \"moppin'\": 3948, 'fries': 3949, 'dudes': 3950, 'backi': 3951, 'fraternity': 3952, 'clothing': 3953, \"drivin'hook\": 3954, 'calumet': 3955, 'nicknamed': 3956, 'krock': 3957, 'bulls': 3958, 'spinner': 3959, 'daytons': 3960, 'ellesses': 3961, 'caprices': 3962, 'polices': 3963, 'sixteen': 3964, \"stuntin'\": 3965, 'wavy': 3966, 'eighty': 3967, 'boned': 3968, 'backback': 3969, 'thenthen': 3970, 'virgin': 3971, 'reasons': 3972, 'yanked': 3973, 'cranked': 3974, 'saturday': 3975, 'auroras': 3976, 'hurtin': 3977, 'involved': 3978, 'posted': 3979, 'parking': 3980, 'waving': 3981, 'gloss': 3982, 'immaculate': 3983, 'simply': 3984, 'elbows': 3985, \"pokin'\": 3986, \"'lac\": 3987, 'neons': 3988, 'fifth': 3989, 'relaxed': 3990, 'dimepieces': 3991, 'cl': 3992, 'starstudded': 3993, 'event': 3994, 'valet': 3995, 'sunlight': 3996, 'illuminates': 3997, 'disco': 3998, 'insinuates': 3999, 'leaning': 4000, 'crooked': 4001, 'slab': 4002, 'boppers': 4003, 'hardhitter': 4004, 'scrilla': 4005, \"ridin'\": 4006, 'coated': 4007, 'caterpillar': 4008, 'tipping': 4009, 'jamming': 4010, 'screw': 4011, 'hazard': 4012, 'grill': 4013, 'brabus': 4014, 'genetics': 4015, 'evident': 4016, 'flicking': 4017, 'convinced': 4018, 'kicks': 4019, 'canaries': 4020, \"gleamin'\": 4021, 'finest': 4022, 'cali': 4023, 'woodgrain': 4024, 'oak': 4025, 'ridin': 4026, 'vogues': 4027, 'cylinder': 4028, 'tiptoes': 4029, 'homieverse': 4030, 'dome': 4031, 'fate': 4032, 'stroll': 4033, 'rebel': 4034, 'masses': 4035, 'grass': 4036, 'grassless': 4037, 'rubber': 4038, 'cashless': 4039, 'bundles': 4040, 'strugglin': 4041, 'divided': 4042, 'hypes': 4043, 'heighten': 4044, 'becomes': 4045, 'unheld': 4046, 'behold': 4047, 'pale': 4048, 'trapped': 4049, \"kel'\": 4050, 'againhook': 4051, 'panthers': 4052, 'ronald': 4053, 'reagan': 4054, 'heroes': 4055, 'heroines': 4056, 'heroin': 4057, 'maryland': 4058, 'invested': 4059, 'merrill': 4060, 'lynched': 4061, 'measure': 4062, 'nowadays': 4063, \"father's\": 4064, 'mothers': 4065, \"madigan's\": 4066, 'audy': 4067, 'mexicans': 4068, 'holmes': 4069, 'styrofoam': 4070, 'saddam': 4071, 'anthrax': 4072, 'bush': 4073, 'chemical': 4074, 'baking': 4075, 'soda': 4076, 'quota': 4077, 'moes': 4078, \"overdosin'\": 4079, 'soundtrack': 4080, 'echoes': 4081, 'malik': 4082, 'atone': 4083, 'pulpit': 4084, 'measured': 4085, 'ooze': 4086, 'nooks': 4087, 'crannies': 4088, 'mommas': 4089, 'cooks': 4090, 'nannies': 4091, 'repo': 4092, 'former': 4093, 'hooks': 4094, 'diction': 4095, \"america's\": 4096, 'baggin': 4097, 'musicverse': 4098, 'visiting': 4099, 'procedures': 4100, 'anaesthesia': 4101, 'seizure': 4102, 'beepin': 4103, 'arguin': 4104, 'cure': 4105, \"grandma's\": 4106, '35': 4107, \"'sposed\": 4108, 'nurse': 4109, 'research': 4110, 'tshirts': 4111, 'reefer': 4112, 'emergency': 4113, 'heartbeat': 4114, 'xrays': 4115, 'expert': 4116, 'beverly': 4117, 'aunties': 4118, 'amerie': 4119, 'gleam': 4120, 'alltime': 4121, 'sending': 4122, 'roses': 4123, 'sung': 4124, 'patti': 4125, 'labelle': 4126, 'nohook': 4127, 'mass': 4128, \"there'd\": 4129, \"there'll\": 4130, 'leeway': 4131, 'gay': 4132, 'ingls': 4133, \"mil'\": 4134, 'crosswinds': 4135, 'forgetting': 4136, 'downhook': 4137, 'afflicted': 4138, 'peek': 4139, 'lover': 4140, 'lust': 4141, 'essence': 4142, 'spontaneous': 4143, 'cocacola': 4144, 'emotion': 4145, 'blown': 4146, 'lotion': 4147, 'thighs': 4148, 'exposed': 4149, 'turning': 4150, 'impose': 4151, 'undress': 4152, 'pose': 4153, 'coca': 4154, 'cola': 4155, 'hypothetically': 4156, 'seriously': 4157, 'credibly': 4158, 'incredibly': 4159, 'smilewe': 4160, 'buncha': 4161, 'brokeintro': 4162, 'stimulate': 4163, 'fear': 4164, 'vietnam': 4165, \"glowin'\": 4166, 'thousands': 4167, 'connects': 4168, 'bracelets': 4169, 'charmses': 4170, 'harmless': 4171, 'armless': 4172, 'rugby': 4173, 'ike': 4174, 'yup': 4175, 'intact': 4176, \"pressure's\": 4177, 'falter': 4178, 'gibraltar': 4179, 'impossible': 4180, \"guessin'\": 4181, \"cd's\": 4182, 'businessman': 4183, 'kanyeez': 4184, 'foxy': 4185, \"yg's\": 4186, 'teairra': 4187, 'mari': 4188, 'peedi': 4189, 'bleek': 4190, 'lifetimes': 4191, \"bassey's\": 4192, 'rear': 4193, 'practically': 4194, \"minin'\": 4195, \"don's\": 4196, \"timin'\": 4197, 'lined': 4198, 'titanic': 4199, \"sinkin'\": 4200, 'ash': 4201, 'phoenix': 4202, \"waitin'\": 4203, 'mighty': 4204, 'nighthook': 4205, 'karma': 4206, 'breasts': 4207, \"to'\": 4208, 'thrown': 4209, 'hats': 4210, 'irs': 4211, 'flickin': 4212, 'funeral': 4213, 'reverend': 4214, 'tips': 4215, 'winos': 4216, 'whiskey': 4217, 'klan': 4218, \"fofo's\": 4219, 'christ': 4220, \"flows'd\": 4221, 'plight': 4222, 'freestyle': 4223, 'illmatic': 4224, 'stillmatic': 4225, 'pad': 4226, 'pencil': 4227, 'jotted': 4228, 'motown': 4229, 'deprived': 4230, 'executive': 4231, \"5's\": 4232, 'companies': 4233, 'stealin': 4234, 'mic': 4235, \"lp's\": 4236, 'jesse': 4237, 'balcony': 4238, 'livest': 4239, 'lasted': 4240, 'clowns': 4241, 'sam': 4242, 'cooke': 4243, \"music's\": 4244, 'beautifully': 4245, 'jon': 4246, 'brion': 4247, 'warren': 4248, 'campbell': 4249, 'registration': 4250, 'yeahthis': 4251, 'founded': 4252, 'brothas': 4253, '20s': 4254, 'forks': 4255, 'christmases': 4256, 'pretended': 4257, 'thathook': 4258, 'fixed': 4259, 'homemade': 4260, 'chicken': 4261, 'soup': 4262, 'training': 4263, 'glove': 4264, 'curl': 4265, 'cheatin': 4266, 'knelt': 4267, 'unmistakable': 4268, 'highly': 4269, 'capable': 4270, 'forrest': 4271, 'gump': 4272, 'chocolates': 4273, 'supported': 4274, 'opposite': 4275, 'poetry': 4276, 'maya': 4277, 'angelou': 4278, 'nikki': 4279, 'giovanni': 4280, 'tint': 4281, 'windows': 4282, 'upper': 4283, 'echelon': 4284, 'stype': 4285, 'donda': 4286, 'mamahook': 4287, 'patron': 4288, 'mute': 4289, 'monologue': 4290, 'tylenol': 4291, 'signing': 4292, 'bloooooow': 4293, 'vow': 4294, 'endowed': 4295, 'fattie': 4296, 'praticing': 4297, 'packaging': 4298, 'newborn': 4299, 'bloooooowall': 4300, 'whispering': 4301, 'meeting': 4302, 'walking': 4303, 'amongst': 4304, 'closet': 4305, 'stammering': 4306, \"sticki'm\": 4307, 'showers': 4308, 'nextintro': 4309, 'choosy': 4310, 'movies': 4311, 'ruby': 4312, 'tuesdays': 4313, 'fridays': 4314, \"prob'\": 4315, 'intern': 4316, 'aaron': 4317, \"arguin'\": 4318, 'babysitters': 4319, 'diss': 4320, 'superficial': 4321, 'superofficial': 4322, 'rrrroc': 4323, 'pastelle': 4324, 'doobie': 4325, 'dookied': 4326, 'threw': 4327, \"cam'ron\": 4328, 'hustler': 4329, 'grinder': 4330, 'guerilla': 4331, 'chinchilla': 4332, 'concealing': 4333, 'luck': 4334, 'puffpuffpass': 4335, \"cam's\": 4336, 'cerebellum': 4337, 'react': 4338, 'demise': 4339, 'thief': 4340, 'size': 4341, 'greed': 4342, 'abby': 4343, 'weezie': 4344, 'regina': 4345, 'explore': 4346, 'bimmer': 4347, 'homeboy': 4348, \"why's\": 4349, \"cons'\": 4350, \"pal's\": 4351, 'bubble': 4352, 'tub': 4353, 'calgon': 4354, 'afoul': 4355, 'cons': 4356, 'dread': 4357, 'instincts': 4358, 'spots': 4359, \"i'da\": 4360, 'petty': 4361, 'crimes': 4362, 'oklahoma': 4363, \"aunt's\": 4364, 'leaving': 4365, 'lime': 4366, '1999': 4367, 'bending': 4368, 'dealerships': 4369, 'cheapass': 4370, 'offer': 4371, 'eighteenyearold': 4372, 'taco': 4373, 'bell': 4374, 'plural': 4375, 'churros': 4376, \"mirro'\": 4377, 'europe': 4378, 'euros': 4379, 'aspiring': 4380, 'sides': 4381, 'anakin': 4382, 'including': 4383, 'mannequin': 4384, 'aniston': 4385, \"panickin'\": 4386, 'goneintro': 4387, 'ahahahaha': 4388, 'clot': 4389, \"flyin'\": 4390, 'alarm': 4391, \"wan'\": 4392, 'thirtyone': 4393, 'fastest': 4394, 'electives': 4395, 'prerequisites': 4396, 'basket': 4397, \"weavin'\": 4398, \"underachievin'\": 4399, 'insult': 4400, 'tempo': 4401, \"pissin'\": 4402, 'guest': 4403, 'freshest': 4404, 'professors': 4405, 'unprofessional': 4406, 'eskimos': 4407, 'christina': 4408, 'milianlike': 4409, \"bullshittin'\": 4410, 'mister': 4411, 'impressed': 4412, 'perez': 4413, 'yer': 4414, 'dissertation': 4415, 'basic': 4416, 'necessary': 4417, 'detroit': 4418, 'valedictorian': 4419, 'delorean': 4420, 'complacent': 4421, 'peep': 4422, 'preachers': 4423, 'streetness': 4424, 'received': 4425, 'downrefrain': 4426, 'stylist': 4427, 'italian': 4428, 'deposit': 4429, \"dad'd\": 4430, 'eyelids': 4431, 'sort': 4432, 'smith': 4433, 'moviei': 4434, 'harebrained': 4435, 'scheme': 4436, 'wardrobe': 4437, \"living's\": 4438, \"up's\": 4439, 'zion': 4440, \"rhymin'\": 4441, 'institute': 4442, \"keepin'\": 4443, \"prince'd\": 4444, 'principle': 4445, 'gems': 4446, 'pe': 4447, 'invincible': 4448, 'eyesintro': 4449, 'moss': 4450, 'greatness': 4451, 'hast': 4452, 'forsaken': 4453, 'honored': 4454, 'lateness': 4455, 'apeshit': 4456, 'pastell': 4457, 'bape': 4458, 'likey': 4459, 'blonde': 4460, 'dyke': 4461, 'overhook': 4462, 'waking': 4463, 'nerves': 4464, 'issue': 4465, 'tissue': 4466, 'intuition': 4467, 'chokes': 4468, 'lifeline': 4469, 'skyline': 4470, \"o'clock\": 4471, 'primetime': 4472, \"heaven'll\": 4473, 'hotlines': 4474, 'aroused': 4475, 'independent': 4476, 'dreamshook': 4477, 'spree': 4478, 'miami': 4479, 'goods': 4480, 'seasoned': 4481, 'salty': 4482, \"lawry's\": 4483, 'booze': 4484, 'bombed': 4485, 'apollo': 4486, 'va': 4487, 'yay': 4488, 'homey': 4489, 'whipped': 4490, 'snakes': 4491, \"splurgin'\": 4492, 'tryst': 4493, 'activated': 4494, 'passion': 4495, \"flashin'\": 4496, \"befo'\": 4497, 'imagined': 4498, 'grandmomma': 4499, 'callin': 4500, 'goodintro': 4501, 'awoke': 4502, 'whom': 4503, 'tested': 4504, 'scrutiny': 4505, 'stupidly': 4506, 'suing': 4507, \"cosby's\": 4508, 'hillman': 4509, 'suicide': 4510, 'parallel': 4511, 'parked': 4512, 'sideways': 4513, 'sensitive': 4514, 'collagen': 4515, \"apolog'ing\": 4516, 'splash': 4517, 'rumors': 4518, 'fumes': 4519, \"no's\": 4520, 'faithful': 4521, 'pharaohs': 4522, 'treasure': 4523, 'depending': 4524, 'nada': 4525, 'effort': 4526, 'reminisce': 4527, 'connie': 4528, 'vocalizingintro': 4529, 'reacquainted': 4530, 'konnichiwa': 4531, 'passport': 4532, 'pivot': 4533, 'writers': 4534, 'underdog': 4535, \"haven't\": 4536, 'geniuses': 4537, 'lohead': 4538, 'insulted': 4539, 'forehead': 4540, 'rewind': 4541, \"head's\": 4542, 'refrigerated': 4543, 'meagan': 4544, 'franklins': 4545, 'reagans': 4546, 'hayve': 4547, 'daisies': 4548, 'hayvic': 4549, 'havoc': 4550, \"drink's\": 4551, 'pinker': 4552, 'easter': 4553, 'cole': 4554, \"keyshia's\": 4555, 'patties': 4556, 'ate': 4557, 'avid': 4558, 'practice': 4559, 'bat': 4560, \"climbin'\": 4561, 'hahahum': 4562, 'bondsintro': 4563, 'ladada': 4564, 'blap': 4565, 'boyfriend': 4566, 'tab': 4567, 'drivethru': 4568, 'dangerous': 4569, 'necessity': 4570, 'regard': 4571, 'plays': 4572, 'delight': 4573, 'howwwwww': 4574, 'brewski': 4575, 'girlsintro': 4576, \"store's\": 4577, 'departments': 4578, 'florida': 4579, 'hors': 4580, \"d'oeuvres\": 4581, 'views': 4582, 'author': 4583, 'breezy': 4584, 'sleazy': 4585, 'olwuwopte': 4586, 'flashed': 4587, 'nazi': 4588, 'sweetheart': 4589, 'katrina': 4590, 'fema': 4591, 'flight': 4592, 'visa': 4593, \"memory's\": 4594, 'museum': 4595, 'roam': 4596, 'lightshook': 4597, 'pictureperfect': 4598, 'chauncey': 4599, 'blackstreet': 4600, 'creeped': 4601, 'latifah': 4602, 'wintertime': 4603, 'william': 4604, 'premier': 4605, 'scratches': 4606, 'gearing': 4607, 'barbershops': 4608, 'flaring': 4609, 'baggy': 4610, 'reeboks': 4611, 'adidos': 4612, 'naacp': 4613, 'india': 4614, 'arie': 4615, 'nnigga': 4616, 'cheese': 4617, 'facts': 4618, '600': 4619, 'caskets': 4620, \"killing's\": 4621, \"'cept\": 4622, \"passin'\": 4623, 'ashland': 4624, 'tithe': 4625, 'slip': 4626, 'fifteen': 4627, 'amintro': 4628, 'goal': 4629, 'stitch': 4630, 'donatella': 4631, 'bacardi': 4632, 'limon': 4633, 'corona': 4634, 'upped': 4635, 'grade': 4636, 'dwayne': 4637, 'dwyane': 4638, 'gnarls': 4639, 'meets': 4640, 'charles': 4641, 'barkers': 4642, 'parkers': 4643, 'limbo': 4644, \"'steada\": 4645, 'wedding': 4646, 'garter': 4647, 'flash': 4648, 'yayo': 4649, 'suppose': 4650, 'ultra': 4651, 'travolta': 4652, 'tuxedo': 4653, 'guido': 4654, 'speedo': 4655, 'nodoz': 4656, 'tank': 4657, 'whipping': 4658, \"mamma's\": 4659, 'volvo': 4660, 'logos': 4661, 'goyard': 4662, \"hugo's\": 4663, 'tudor': 4664, 'tracey': 4665, 'girlfriends': 4666, \"skin'ed\": 4667, 'compare': 4668, 'pun': 4669, 'notorious': 4670, \"'till\": 4671, 'stunt': 4672, 'glorious': 4673, 'myintro': 4674, 'windy': 4675, 'straighten': 4676, 'grew': 4677, 'nighttime': 4678, \"astoundin'\": 4679, 'entertainers': 4680, 'affiliated': 4681, 'cared': 4682, 'interview': 4683, \"representin'\": 4684, 'cloud': 4685, 'spark': 4686, 'stadium': 4687, 'status': 4688, 'sellout': 4689, 'iceberg': 4690, 'spell': 4691, 'mime': 4692, 'gig': 4693, 'bob': 4694, 'blacking': 4695, \"partyin'\": 4696, \"sob's\": 4697, 'carline': 4698, 'distance': 4699, 'potent': 4700, 'totem': 4701, 'scrotum': 4702, 'shadow': 4703, 'giant': 4704, 'client': 4705, 'presidito': 4706, 'hola': 4707, 'hovito': 4708, 'peephole': 4709, 'steeple': 4710, 'remix': 4711, 'swore': 4712, 'spazzed': 4713, 'sibling': 4714, 'rivalry': 4715, 'pickandroll': 4716, 'giveandgo': 4717, \"beanie's\": 4718, 'dunk': 4719, 'singles': 4720, 'mingle': 4721, 'heh': 4722, 'translate': 4723, 'espaol': 4724, 'jos': 4725, 'admire': 4726, 'toomp': 4727, 'peeped': 4728, 'watered': 4729, 'awful': 4730, 'blasted': 4731, 'fictions': 4732, 'addictions': 4733, 'gather': 4734, 'zip': 4735, 'fantasized': 4736, 'murcielago': 4737, 'sorrow': 4738, 'diablo': 4739, 'bravery': 4740, 'bravado': 4741, 'serato': 4742, 'phoebe': 4743, 'philo': 4744, 'sleepy': 4745, 'hollow': 4746, 'celine': 4747, 'dion': 4748, 'leona': 4749, 'lewis': 4750, 'beyond': 4751, 'truest': 4752, 'respond': 4753, 'students': 4754, 'refresh': 4755, 'restart': 4756, 'respark': 4757, 'rebuild': 4758, 'urkels': 4759, 'wins': 4760, 'noise': 4761, 'seance': 4762, 'herons': 4763, 'chrysler': 4764, 'lebaron': 4765, 'spare': 4766, 'declare': 4767, 'pills': 4768, 'kissed': 4769, 'heiress': 4770, 'ohhook': 4771, 'foreseen': 4772, 'penitentiary': 4773, 'dances': 4774, 'autumn': 4775, 'fallin': 4776, 'ballin': 4777, 'alec': 4778, 'baldwin': 4779, 'inter': 4780, 'anthems': 4781, 'tantrums': 4782, 'branded': 4783, 'jerome': 4784, 'brandon': 4785, 'random': 4786, 'fitted': 4787, 'opportunities': 4788, 'lucrative': 4789, 'treats': 4790, 'euphemism': 4791, 'youth': 4792, 'redemption': 4793, 'attention': 4794, 'sack': 4795, 'mount': 4796, 'olympus': 4797, 'olympics': 4798, 'pimpish': 4799, 'choke': 4800, 'writer': 4801, 'fishstick': 4802, 'insisted': 4803, 'offa': 4804, 'resist': 4805, 'ali': 4806, 'enlisted': 4807, 'greatest': 4808, 'apparel': 4809, 'tights': 4810, 'director': 4811, 'pool': 4812, 'tube': 4813, 'crip': 4814, 'resume': 4815, 'rewrite': 4816, 'beatle': 4817, 'roach': 4818, 'coach': 4819, 'approach': 4820, 'sniffing': 4821, 'hug': 4822, 'dramatic': 4823, \"blowin'\": 4824, 'fantastic': 4825, 'raekwon': 4826, \"timb's\": 4827, 'lenses': 4828, 'armani': 4829, 'fruits': 4830, 'bally': 4831, 'cuff': 4832, 'grabbing': 4833, \"l's\": 4834, 'kites': 4835, 'jails': 4836, 'buying': 4837, 'sweats': 4838, 'stetson': 4839, 'matched': 4840, 'nikes': 4841, 'decimals': 4842, 'bent': 4843, 'skunk': 4844, 'dutch': 4845, 'grinding': 4846, 'shining': 4847, 'rae': 4848, 'forseen': 4849, 'dripping': 4850, '21st': 4851, 'superhero': 4852, \"prison's\": 4853, 'rowlands': 4854, 'chosen': 4855, 'goodnight': 4856, 'cruel': 4857, 'snl': 4858, 'cast': 4859, 'specifically': 4860, 'shortminded': 4861, 'napoleon': 4862, 'mongolian': 4863, 'goalies': 4864, 'embody': 4865, 'characteristic': 4866, 'egotistic': 4867, 'hes': 4868, 'treasures': 4869, 'childlike': 4870, 'creativity': 4871, 'purity': 4872, 'honesty': 4873, 'honestly': 4874, 'crowded': 4875, 'custody': 4876, 'responsibilities': 4877, 'entrusted': 4878, 'encrusted': 4879, 'powder': 4880, 'colin': 4881, 'powells': 4882, 'translation': 4883, 'abomination': 4884, 'obamas': 4885, 'conversation': 4886, 'surviving': 4887, 'drinking': 4888, 'earlier': 4889, 'exciting': 4890, 'shooting': 4891, 'everywhere': 4892, 'slapped': 4893, 'stairs': 4894, 'replacing': 4895, 'restraining': 4896, 'grandmother': 4897, 'visitation': 4898, 'borders': 4899, 'supportive': 4900, 'bumped': 4901, 'courts': 4902, 'dry': 4903, 'fergie': 4904, 'drake': 4905, 'unemployment': 4906, 'declined': 4907, 'elton': 4908, 'sayintro': 4909, 'nogood': 4910, 'bloodsucker': 4911, 'trouble': 4912, 'rumbles': 4913, 'samples': 4914, 'example': 4915, 'triple': 4916, 'assists': 4917, 'accent': 4918, 'dial': 4919, 'mix': 4920, 'malibu': 4921, 'malibooyah': 4922, 'pharaoh': 4923, 'sarcophagus': 4924, 'bruised': 4925, 'esophagus': 4926, 'swallowship': 4927, 'sasquatch': 4928, 'godzilla': 4929, 'loch': 4930, 'ness': 4931, 'goblin': 4932, 'ghoul': 4933, 'zombie': 4934, 'conscience': 4935, 'stomp': 4936, 'silly': 4937, 'swamp': 4938, 'carnage': 4939, 'convertibles': 4940, 'avenues': 4941, 'rape': 4942, 'pillage': 4943, 'village': 4944, 'achilles': 4945, 'vampires': 4946, 'bloodsuckers': 4947, 'millionaires': 4948, 'milling': 4949, 'spilling': 4950, 'fucks': 4951, 'draw': 4952, 'icecold': 4953, 'veins': 4954, 'massacre': 4955, 'bastards': 4956, 'automobile': 4957, 'sri': 4958, 'lanka': 4959, 'tonka': 4960, 'willy': 4961, 'wonka': 4962, 'rocking': 4963, 'dresser': 4964, 'milan': 4965, \"'do\": 4966, 'roster': 4967, 'notice': 4968, '50k': 4969, 'barbiez': 4970, 'climb': 4971, 'hotter': 4972, 'eastern': 4973, 'violent': 4974, 'matterhorn': 4975, \"wylin'\": 4976, 'onetrackminded': 4977, 'barbie': 4978, 'diet': 4979, 'bride': 4980, 'chucky': 4981, \"child's\": 4982, 'mild': 4983, 'wig': 4984, 'whiplash': 4985, 'aaaah': 4986, 'homebridge': 4987, 'spalding': 4988, 'balding': 4989, 'donald': 4990, 'trump': 4991, 'dollars': 4992, 'chew': 4993, 'hole': 4994, 'covers': 4995, 'housekeeping': 4996, 'sweeping': 4997, 'cheerios': 4998, 'voila': 4999, 'allah': 5000, 'tada': 5001, 'address': 5002, '30000': 5003, \"purp'\": 5004, 'offended': 5005, 'mentioned': 5006, 'beginners': 5007, 'pause': 5008, 'villain': 5009, 'underpaid': 5010, 'overrated': 5011, 'moral': 5012, 'victories': 5013, 'minor': 5014, 'coaches': 5015, 'cockroaches': 5016, 'testarossas': 5017, 'insane': 5018, 'britches': 5019, 'bridges': 5020, 'twenties': 5021, 'billion': 5022, 'cnn': 5023, 'twentyone': 5024, 'blackjack': 5025, 'shape': 5026, 'lacks': 5027, 'rove': 5028, \"baker's\": 5029, 'dozen': 5030, \"city's\": 5031, 'brightest': 5032, 'slightest': 5033, 'disappoints': 5034, 'hostile': 5035, 'nostrils': 5036, 'watchful': 5037, 'aspire': 5038, 'similar': 5039, 'legends': 5040, 'cyhi': 5041, 'prynce': 5042, 'outrageous': 5043, 'ipod': 5044, 'playlist': 5045, 'phrases': 5046, 'amazes': 5047, 'overrunneth': 5048, 'commandment': 5049, 'shalt': 5050, 'ralph': 5051, 'abernathy': 5052, 'rosa': 5053, 'parks': 5054, 'marks': 5055, \"valentine's\": 5056, 'april': 5057, \"noah's\": 5058, 'ark': 5059, 'trojan': 5060, 'leinart': 5061, 'gat': 5062, 'pathfinder': 5063, 'phds': 5064, 'minors': 5065, 'iron': 5066, 'missus': 5067, 'mistress': 5068, 'ridiculousintro': 5069, 'gods': 5070, 'rash': 5071, 'decisions': 5072, 'casually': 5073, 'allure': 5074, 'casualty': 5075, 'phenomenon': 5076, 'humble': 5077, 'stunting': 5078, 'jumbotron': 5079, 'colors': 5080, 'humor': 5081, 'lyor': 5082, 'cohen': 5083, 'scarface': 5084, 'dean': 5085, 'limousine': 5086, 'sipping': 5087, 'ros': 5088, 'doubleheaded': 5089, 'cherry': 5090, 'excess': 5091, 'lavender': 5092, 'acceptance': 5093, 'outsiders': 5094, 'cyphers': 5095, 'shattered': 5096, 'climbing': 5097, \"lord's\": 5098, 'ladder': 5099, 'speeding': 5100, 'papertag': 5101, 'therefore': 5102, \"g4's\": 5103, 'clearport': 5104, 'tools': 5105, 'pep': 5106, 'export': 5107, 'sedan': 5108, 'lex': 5109, 'dmv': 5110, 'fraud': 5111, 'traps': 5112, 'polk': 5113, 'county': 5114, 'jacksonville': 5115, 'melbourne': 5116, \"clique's\": 5117, 'tapeworms': 5118, 'vinyl': 5119, 'burns': 5120, \"night's\": 5121, 'sweater': 5122, 'roller': 5123, 'stumble': 5124, 'retracing': 5125, 'stepsintro': 5126, 'email': 5127, 'females': 5128, 'hoodrats': 5129, 'starts': 5130, '247': 5131, '365': 5132, 'iiii': 5133, 'ichabod': 5134, 'crane': 5135, 'wearing': 5136, 'knockoffs': 5137, \"neiman's\": 5138, 'mai': 5139, 'tais': 5140, 'vultures': 5141, 'freddy': 5142, 'sofas': 5143, 'basics': 5144, 'ballanigga': 5145, 'matrix': 5146, 'invisibly': 5147, 'rolex': 5148, 'faceless': 5149, 'tasteless': 5150, 'romantic': 5151, 'intimacy': 5152, 'damage': 5153, 'corners': 5154, 'coroners': 5155, 'cpr': 5156, 'ulcer': 5157, 'ache': 5158, 'faint': 5159, 'nun': 5160, 'cum': 5161, 'cremate': 5162, 'sweepstakes': 5163, 'heavens': 5164, 'sakes': 5165, 'levitate': 5166, 'loudest': 5167, 'comin': 5168, 'anal': 5169, 'gangbang': 5170, 'considered': 5171, 'trains': 5172, 'runaway': 5173, 'bigass': 5174, 'yard': 5175, 'maids': 5176, 'rolled': 5177, 'de': 5178, 'renta': 5179, 'shame': 5180, 'honeymoon': 5181, 'mmmintro': 5182, 'harvesting': 5183, 'hang': 5184, 'gripping': 5185, 'choking': 5186, 'emotional': 5187, \"strokin'\": 5188, 'consoling': 5189, 'provoking': 5190, 'grateful': 5191, 'noticed': 5192, 'noticeable': 5193, '1am': 5194, \"brother's\": 5195, 'certain': 5196, 'wrestlers': 5197, 'blackmailed': 5198, 'arttype': 5199, 'shewascaughtinthehype': 5200, 'poured': 5201, 'disguising': 5202, \"we've\": 5203, 'strangers': 5204, 'eternity': 5205, 'erased': 5206, 'visual': 5207, 'empathy': 5208, 'equates': 5209, 'meaning': 5210, 'entirely': 5211, 'chloe': 5212, 'accidentally': 5213, 'neighborhood': 5214, 'disgusting': 5215, \"where'd\": 5216, 'butt': 5217, 'cirque': 5218, 'du': 5219, 'soleil': 5220, 'porno': 5221, 'parts': 5222, 'download': 5223, 'bootlegger': 5224, 'oww': 5225, 'exact': 5226, 'bezel': 5227, 'wellintro': 5228, 'masseuse': 5229, 'ku': 5230, 'sa': 5231, 'plastic': 5232, 'classic': 5233, 'afterlife': 5234, 'heron': 5235, 'heyheyverse': 5236, 'upsidedown': 5237, 'preacher': 5238, 'spiel': 5239, 'thoroughly': 5240, 'piqued': 5241, 'youngsters': 5242, 'programmed': 5243, 'revere': 5244, 'nat': 5245, 'turner': 5246, 'stripped': 5247, 'entered': 5248, 'vagina': 5249, 'amazement': 5250, 'untold': 5251, 'scandal': 5252, 'musty': 5253, 'gagging': 5254, 'perfume': 5255, 'bastard': 5256, 'illegitimate': 5257, 'spread': 5258, 'rapist': 5259, 'freedoom': 5260, 'democracy': 5261, 'revolutionary': 5262, 'preceded': 5263, \"country's\": 5264, 'crotch': 5265, 'webster': 5266, 'route': 5267, 'china': 5268, 'claps': 5269, 'applausehook': 5270, 'mausoleum': 5271, 'stains': 5272, 'colosseum': 5273, 'disguised': 5274, 'feast': 5275, 'royce': 5276, 'corniche': 5277, 'chic': 5278, 'prayers': 5279, 'socrates': 5280, 'bias': 5281, 'plato': 5282, 'screech': 5283, 'balling': 5284, 'sneaks': 5285, 'carpenter': 5286, 'desire': 5287, 'scripture': 5288, 'encryption': 5289, 'stripe': 5290, 'zebra': 5291, 'fever': 5292, 'threesome': 5293, 'formed': 5294, 'theres': 5295, 'deception': 5296, 'felony': 5297, 'sunglasses': 5298, 'advil': 5299, 'cabs': 5300, 'leopard': 5301, 'kiki': 5302, 'shepard': 5303, 'apologies': 5304, 'cursed': 5305, 'monogamy': 5306, 'wildspoken': 5307, 'aisle': 5308, 'pissed': 5309, 'earnhardt': 5310, '5432': 5311, 'fuel': 5312, 'minus': 5313, 'internal': 5314, '11': 5315, 'ignition': 5316, 'sequence': 5317, 'gonnaintro': 5318, 'blades': 5319, 'grand': 5320, 'mothafucker': 5321, 'faze': 5322, '82': 5323, 'gravy': 5324, 'weird': 5325, 'psycho': 5326, 'liable': 5327, 'clock': 5328, 'rollies': 5329, 'tick': 5330, 'tock': 5331, 'audemars': 5332, 'hidden': 5333, 'shocked': 5334, 'faded': 5335, 'le': 5336, 'meurice': 5337, 'scold': 5338, 'spillin': 5339, 'js': 5340, 'behave': 5341, \"town's\": 5342, 'crawl': 5343, 'stall': 5344, 'fish': 5345, 'fillet': 5346, 'france': 5347, 'ashley': 5348, 'margiela': 5349, 'illest': 5350, 'suffering': 5351, 'realness': 5352, 'gorillas': 5353, 'provocative': 5354, 'gross': 5355, 'zoneintro': 5356, 'otis': 5357, 'redding': 5358, 'bear': 5359, 'regret': 5360, 'happiness': 5361, 'squeeze': 5362, 'supermodels': 5363, 'swagger': 5364, 'alert': 5365, 'hublots': 5366, 'rollie': 5367, 'maneuver': 5368, 'stuntmen': 5369, 'phillip': 5370, 'drummond': 5371, \"'gain\": 5372, 'mercer': 5373, 'murk': 5374, 'flee': 5375, 'g450': 5376, 'political': 5377, 'refugee': 5378, 'asylum': 5379, 'purchased': 5380, 'passports': 5381, 'sophisticated': 5382, 'cursive': 5383, 'customer': 5384, 'accustomed': 5385, 'customs': 5386, 'maanah': 5387, 'havana': 5388, 'cubanas': 5389, 'castro': 5390, 'cabanas': 5391, 'viva': 5392, 'cubano': 5393, 'dominicano': 5394, 'plugs': 5395, 'benefits': 5396, 'immigrants': 5397, 'fences': 5398, 'tunnels': 5399, 'gettin': 5400, 'flying': 5401, 'bumper': 5402, 'sticker': 5403, 'reads': 5404, 'campaign': 5405, 'bodied': 5406, \"screamin'intro\": 5407, 'headphones': 5408, 'assassinate': 5409, 'marriage': 5410, 'embarrass': 5411, 'ferris': 5412, 'bueller': 5413, 'muller': 5414, 'mille': 5415, 'richer': 5416, 'prior': 5417, 'rico': 5418, 'poli': 5419, 'pds': 5420, 'replay': 5421, 'pajamas': 5422, 'pj': 5423, 'prive': 5424, \"muh'fucka\": 5425, 'mummywrap': 5426, 'hunnid': 5427, 'stackhow': 5428, 'layin': 5429, 'planking': 5430, 'nostrand': 5431, 'ave': 5432, 'remain': 5433, 'brooklyn': 5434, 'huhintro': 5435, 'republican': 5436, 'whirlwind': 5437, 'telethon': 5438, 'dyin': 5439, 'judged': 5440, 'budge': 5441, 'knowin': 5442, 'pursuin': 5443, 'barber': 5444, 'bondin': 5445, 'charters': 5446, 'values': 5447, 'cherish': 5448, '26': 5449, '13': 5450, 'mitzvahs': 5451, 'mazel': 5452, 'tov': 5453, 'weekend': 5454, 'conceived': 5455, 'tweakin': 5456, 'himintro': 5457, 'realest': 5458, 'basquions': 5459, 'basquiats': 5460, 'yacht': 5461, 'blew': 5462, 'actors': 5463, 'players': 5464, 'magdalene': 5465, 'riddle': 5466, 'perv': 5467, 'fiddle': 5468, 'belittle': 5469, 'monie': 5470, 'swilling': 5471, 'mixes': 5472, \"yearnin'\": 5473, 'dab': 5474, 'motion': 5475, 'blazer': 5476, 'slippers': 5477, 'marilyn': 5478, 'monroe': 5479, 'icons': 5480, 'willona': 5481, 'thelma': 5482, 'penlope': 5483, 'salma': 5484, 'beyoncs': 5485, 'gagosian': 5486, 'museums': 5487, 'vintage': 5488, 'crushing': 5489, 'civilians': 5490, 'shoo': 5491, 'highintro': 5492, 'axl': 5493, 'halves': 5494, 'wholes': 5495, 'blocks': 5496, 'apples': 5497, 'pears': 5498, 'pots': 5499, 'pans': 5500, 'paralyzed': 5501, 'nephew': 5502, 'torn': 5503, 'que': 5504, 'ser': 5505, 'syrah': 5506, 'chase': 5507, 'automatic': 5508, 'tortured': 5509, \"pimpin'\": 5510, 'tatted': 5511, 'rag': 5512, 'opponent': 5513, 'press': 5514, 'pres': 5515, 'depressed': 5516, 'judges': 5517, 'risking': 5518, 'goddammiti': 5519, 'stopopopop': 5520, 'farm': 5521, 'charms': 5522, 'bitchmade': 5523, 'ixnay': 5524, 'dicksnay': 5525, 'pig': 5526, 'latin': 5527, 'itchbay': 5528, 'freaky': 5529, 'albert': 5530, 'howard': 5531, 'cosell': 5532, 'commentator': 5533, 'relations': 5534, 'doorman': 5535, 'racist': 5536, 'urkel': 5537, \"oprah's\": 5538, 'odds': 5539, 'against': 5540, 'wearin': 5541, 'socks': 5542, 'removed': 5543, 'wynn': 5544, 'gamblin': 5545, 'lucky': 5546, 'lefty': 5547, 'expectin': 5548, 'owed': 5549, 'gcode': 5550, 'hare': 5551, 'karats': 5552, 'allergic': 5553, 'havin': 5554, 'bunny': 5555, 'noah': 5556, '911': 5557, 'ham': 5558, 'backyard': 5559, 'growing': 5560, 'filthy': 5561, 'rothkos': 5562, 'rilkes': 5563, 'diploma': 5564, 'muthafuckin': 5565, 'streetsmart': 5566, 'chemist': 5567, 'fori': 5568, 'bloody': 5569, 'danroy': 5570, 'henry': 5571, 'friendly': 5572, 'strays': 5573, 'allblack': 5574, 'increase': 5575, 'load': 5576, 'killings': 5577, 'tool': 5578, 'daytype': 5579, 'repping': 5580, 'avenue': 5581, 'redefine': 5582, '41': 5583, 'murdered': 5584, 'fifty': 5585, 'genocide': 5586, 'traumatized': 5587, 'piranhasized': 5588, 'casket': 5589, 'tombs': 5590, '314': 5591, 'iraq': 5592, '509': 5593, 'fred': 5594, 'multiply': 5595, 'celebrating': 5596, 'postdemise': 5597, 'crabs': 5598, 'barrel': 5599, 'survival': 5600, 'pulling': 5601, 'ii': 5602, 'opulence': 5603, 'decadence': 5604, 'tuxes': 5605, 'dries': 5606, 'boutique': 5607, 'stores': 5608, 'sheepskin': 5609, 'silence': 5610, 'lambs': 5611, 'clarice': 5612, 'shhshh': 5613, 'smelled': 5614, 'stink': 5615, 'elite': 5616, 'bears': 5617, 'beast': 5618, 'parolees': 5619, 'gs': 5620, 'ogs': 5621, 'events': 5622, 'expectancy': 5623, 'systems': 5624, 'effectively': 5625, 'savor': 5626, 'truly': 5627, 'yourshook': 5628, 'hummer': 5629, 'rapping': 5630, 'supply': 5631, 'mixing': 5632, 'fabrics': 5633, 'blog': 5634, 'folksll': 5635, 'web': 5636, 'crashes': 5637, 'designing': 5638, 'swaggin': 5639, 'ignore': 5640, 'critics': 5641, 'pudding': 5642, 'americana': 5643, 'supplied': 5644, 'shh': 5645, 'nana': 5646, 'stands': 5647, 'lead': 5648, 'scales': 5649, 'lopsided': 5650, 'restoring': 5651, 'yaya': 5652, 'agua': 5653, 'papa': 5654, 'santa': 5655, 'chopping': 5656, 'grams': 5657, 'scramblers': 5658, 'spangled': 5659, 'banner': 5660, 'jesushook': 5661, \"throne's\": 5662, \"rome's\": 5663, 'determine': 5664, 'july': 5665, 'grief': 5666, 'easters': 5667, 'kings': 5668, 'uniform': 5669, 'smaller': 5670, 'castle': 5671, 'taller': 5672, 'stepped': 5673, 'swept': 5674, 'whatevers': 5675, 'pelican': 5676, 'digress': 5677, 'loyal': 5678, 'loyalty': 5679, 'royalty': 5680, 'royalties': 5681, \"niggas'\": 5682, 'fees': 5683, \"rewardin'\": 5684, 'bbbbussin': 5685, 'bullet': 5686, 'armor': 5687, 'turns': 5688, 'separate': 5689, 'fuckin': 5690, 'fakes': 5691, 'ceased': 5692, 'exist': 5693, 'keeper': 5694, 'creep': 5695, 'pistol': 5696, 'pillow': 5697, 'sleeper': 5698, 'pppparanoia': 5699, 'blast': 5700, 'blastin': 5701, 'theyll': 5702, 'oohintro': 5703, 'samoria': 5704, 'serenity': 5705, 'oppression': 5706, 'blessings': 5707, 'persecute': 5708, 'strength': 5709, 'shield': 5710, 'foot': 5711, 'drifted': 5712, 'pangaea': 5713, 'chatham': 5714, 'zambia': 5715, 'arthur': 5716, 'anteater': 5717, 'wap': 5718, 'photos': 5719, 'familia': 5720, 'braille': 5721, 'tubman': 5722, 'trail': 5723, 'darn': 5724, 'raincoats': 5725, 'rainbow': 5726, 'fun': 5727, 'pillar': 5728, 'salt': 5729, 'script': 5730, 'wesley': 5731, 'spike': 5732, 'chano': 5733, 'kirk': 5734, 'franklin': 5735, 'prayer': 5736, \"prayer's\": 5737, \"they've\": 5738, 'warintro': 5739, 'tl': 5740, 'metro': 5741, 'bleach': 5742, 'tshirt': 5743, 'tribeca': 5744, 'youuh': 5745, 'iintro': 5746, 'faaaaaaaah': 5747, 'market': 5748, 'drops': 5749, 'pops': 5750, 'twisting': 5751, 'hitting': 5752, 'bando': 5753, 'swole': 5754, 'danny': 5755, 'selling': 5756, 'macho': 5757, 'randy': 5758, 'choppa': 5759, 'panty': 5760, 'killas': 5761, 'lavish': 5762, 'round': 5763, \"clappin'\": 5764, 'pullin': 5765, 'ship': 5766, 'bugatti': 5767, 'caroline': 5768, 'shaw': 5769, 'bind': 5770, 'handsintro': 5771, 'nameless': 5772, 'rican': 5773, 'parade': 5774, 'marina': 5775, 'del': 5776, 'rey': 5777, \"coastin'\": 5778, 'estate': 5779, 'payment': 5780, 'nancy': 5781, \"bam'ey\": 5782, 'knowhook': 5783, 'rolie': 5784, 'rottweiler': 5785, 'wilder': 5786, 'genius': 5787, 'borrow': 5788, 'motto': 5789, 'shouldnt': 5790, 'bother': 5791, 'gossiping': 5792, 'nopussygetting': 5793, 'bloggers': 5794, 'gotham': 5795, 'costume': 5796, \"peta's\": 5797, 'possum': 5798, 'slave': 5799, 'fabric': 5800, 'rodman': 5801, 'urrr': 5802, 'oprah': 5803, 'wooyou': 5804, 'testimony': 5805, 'accepting': 5806, 'accepted': 5807, 'lifeintro': 5808, 'gopro': 5809, 'slomo': 5810, 'amateur': 5811, 'pro': 5812, 'el': 5813, 'debarge': 5814, 'superstar': 5815, 'jacksons': 5816, 'farrakhan': 5817, 'marathon': 5818, \"coach's\": 5819, 'diddy': 5820, 'idiot': 5821, 'bridget': 5822, 'islam': 5823, 'trenches': 5824, 'blac': 5825, 'chyna': 5826, 'rob': 5827, 'trainer': 5828, 'overate': 5829, 'vacay': 5830, 'lordintro': 5831, 'rip': 5832, 'tweaking': 5833, 'dig': 5834, 'boosie': 5835, 'wipe': 5836, 'woozy': 5837, \"mothafuckin'\": 5838, 'dinner': 5839, 'vogue': 5840, 'smack': 5841, 'versailles': 5842, 'goals': 5843, 'mood': 5844, 'kanyeintro': 5845, 'fistfight': 5846, 'cage': 5847, 'lieverse': 5848, 'jeopardize': 5849, 'limits': 5850, 'crazier': 5851, 'lexapro': 5852, 'episode': 5853, 'selfcontrol': 5854, 'raising': 5855, 'voice': 5856, 'feelingverse': 5857, 'bothered': 5858, 'angle': 5859, 'deadbeat': 5860, 'reunions': 5861, \"drinkin'\": 5862, \"spillin'\": 5863, \"blamin'\": 5864, 'remembered': 5865, 'gametime': 5866, 'facetime': 5867, 'busy': 5868, 'jr': 5869, 'yams': 5870, 'merry': 5871, \"defendin'\": 5872, 'pretend': 5873, 'reel': 5874, 'immediate': 5875, 'extended': 5876, 'argument': 5877, \"media'll\": 5878, '250': 5879, 'himhook': 5880, 'vic': 5881, 'mensa': 5882, 'burned': 5883, 'heartache': 5884, 'unseasoned': 5885, 'gaze': 5886, 'partial': 5887, 'tea': 5888, 'slippery': 5889, 'fridge': 5890, 'sandwich': 5891, \"clubbin'\": 5892, \"thuggin'\": 5893, \"hustlin'\": 5894, 'wolves': 5895, 'wolvesverse': 5896, 'cave': 5897, 'blackened': 5898, 'fleshed': 5899, 'cooled': 5900, 'outmax': 5901, 'official': 5902, 'hollering': 5903, 'tsunami': 5904, 'joint': 5905, 'ahh': 5906, 'bigavelli': 5907, 'honor': 5908, 'yeahsample': 5909, 'lion': 5910, 'islands': 5911, 'renovations': 5912, 'recent': 5913, \"assessin'\": 5914, 'damages': 5915, 'mediatakeout': 5916, 'blurry': 5917, 'veggies': 5918, 'eggs': 5919, 'gym': 5920, 'smoothie': 5921, 'uhoh': 5922, 'flows': 5923, \"victoria's\": 5924, 'pictured': 5925, 'expedition': 5926, 'eddie': 5927, 'bauer': 5928, 'tires': 5929, \"popeye's\": 5930, \"beginnin'\": 5931, \"endin'\": 5932, 'omelet': 5933, 'doubletree': 5934, 'aria': 5935, 'waffle': 5936, 'western': 5937, 'prob': 5938, \"suckin'\": 5939, \"blowjob's\": 5940, 'unsaid': 5941, '3000': 5942, 'stunna': 5943, 'duhduhduhduhduhduhduhduh': 5944, 'duhduh': 5945, 'woop': 5946, 'joints': 5947, 'garden': 5948, 'flyest': 5949, 'pyramids': 5950, \"flowin'\": 5951, 'dads': 5952, 'families': 5953, 'shared': 5954, 'design': 5955, \"block'd\": 5956, 'yasiin': 5957, 'africa': 5958, 'adlib': 5959, 'hoursintro': 5960, 'johnny': 5961, 'watson': 5962, 'flavor': 5963, 'laa': 5964, 'bod': 5965, 'kendrick': 5966, 'bans': 5967, 'orange': 5968, 'tan': 5969, 'kman': 5970, 'sprinter': 5971, 'grape': 5972, 'uhm': 5973, 'erykah': 5974, 'badu': 5975, 'repertoire': 5976, 'wrestler': 5977, 'ropes': 5978, 'dots': 5979, 'rice': 5980, \"denny's\": 5981, 'swarming': 5982, 'erection': 5983, 'direction': 5984, 'pedestrians': 5985, 'singers': 5986, 'managers': 5987, 'unanimous': 5988, 'damaging': 5989, 'exclusive': 5990, 'flew': 5991, 'divide': 5992, 'yam': 5993, 'equate': 5994, 'alist': 5995, 'alphabet': 5996, 'malpractice': 5997, 'nerd': 5998, 'condom': 5999, 'nam': 6000, 'myoho': 6001, 'renge': 6002, 'kyo': 6003, 'miracles': 6004, 'buddhist': 6005, 'monks': 6006, \"cap'n\": 6007, 'crunch': 6008, 'buddies': 6009, 'herded': 6010, 'bottle': 6011, 'opportunity': 6012, 'proper': 6013, 'breast': 6014, 'cheek': 6015, 'fee': 6016, 'units': 6017, 'consumer': 6018, 'released': 6019, 'kicking': 6020, 'gratuity': 6021, 'poet': 6022, 'promote': 6023, 'breakneck': 6024, 'speeds': 6025, 'passenger': 6026, 'buds': 6027, 'stubs': 6028, 'uninspired': 6029, 'retired': 6030, 'rumor': 6031, 'lewinsky': 6032, 'secretaries': 6033, 'babies': 6034, 'meal': 6035, 'disconnect': 6036, 'generation': 6037, 'amber': 6038, 'happens': 6039, 'regularly': 6040, 'scheduled': 6041, \"programmin'\": 6042, 'content': 6043, 'barricades': 6044, 'psychiatrist': 6045, '405': 6046, 'threatened': 6047, 'intents': 6048, 'bulletproof': 6049, 'tints': 6050, 'agents': 6051, 'vocal': 6052, 'flagrant': 6053, 'fragrance': 6054, 'yeezys': 6055, 'vans': 6056, 'xans': 6057, \"writer's\": 6058, 'cancel': 6059, '38yearold': 6060, '8yearold': 6061, 'matted': 6062, 'assistant': 6063, 'backed': 6064, 'bald': 6065, \"dressin'\": 6066, 'e': 6067, 'disrespectful': 6068, \"party's\": 6069, 'dropdrodrodrodrop': 6070, 'brace': 6071, 'graham': 6072, 'swishintro': 6073, 'grime': 6074, 'filth': 6075, 'cheating': 6076, 'stealing': 6077, 'accomplished': 6078, 'herzog': 6079, 'drizzy': 6080, 'fallon': 6081, \"spazzin'\": 6082, 'overreckless': 6083, 'odell': 6084, 'beckham': 6085, '2020': 6086, 'election': 6087, 'yah': 6088, 'trending': 6089, 'appraised': 6090, 'employees': 6091, \"billi'\": 6092, 'tenthousand': 6093, \"shoppin'\": 6094, 'designers': 6095, 'grey': 6096, 'poupon': 6097, 'mustard': 6098, 'haaan': 6099, 'kimoji': 6100, 'app': 6101, 'cosby': 6102, 'harvey': 6103, 'infrastructure': 6104, 'discussion': 6105, 'harden': 6106, 'swaggy': 6107, 'budget': 6108, 'yoga': 6109, 'mano': 6110, 'twilite': 6111, 'tone': 6112, 'blessed': 6113, 'celebrate': 6114, 'perfectintro': 6115, 'awayayayay': 6116, 'post': 6117, 'malone': 6118, 'ms': 6119, 'barbara': 6120, 'tucker': 6121, \"fadin'intro\": 6122, '908': 6123, 'lab': 6124, 'twitter': 6125, \"friends'\": 6126, 'decipher': 6127, 'payroll': 6128, 'outlandish': 6129, 'influential': 6130, 'confirmation': 6131, \"generation's\": 6132, 'einstein': 6133, 'troll': 6134, 'conventional': 6135, 'antiquated': 6136, 'electra': 6137, 'conditions': 6138, 'beaten': 6139, 'submission': 6140, 'stare': 6141, 'ultimate': 6142, 'gemini': 6143, 'spirits': 6144, 'illegally': 6145, 'downloaded': 6146, 'bro': 6147, \"ringin'\": 6148, 'muhammad': 6149, 'presentation': 6150, 'sat': 6151, 'smiled': 6152, 'crime': 6153, 'jews': 6154, 'share': 6155, 'dime': 6156, 'balance': 6157, 'checkbook': 6158, \"buyin'\": 6159, 'mirage': 6160, 'perceptions': 6161, 'false': 6162, 'owner': 6163, 'salary': 6164, 'woken': 6165, 'enlightened': 6166, 'comments': 6167, 'crowdsource': 6168, 'esteem': 6169, \"prayin'\": 6170, 'outofbody': 6171, 'humbled': 6172, \"buryin'\": 6173, \"negotiatin'\": 6174, 'stayed': 6175, 'billionaire': 6176, 'waldo': 6177, 'aldo': 6178, 'modern': 6179, \"deliverin'\": 6180, 'anywhere': 6181, \"treatin'\": 6182, 'visible': 6183, 'truths': 6184, 'games': 6185, \"standin'\": 6186, 'oath': 6187, 'stood': 6188, 'anyone': 6189}\n",
      "total Words: 6190\n"
     ]
    }
   ],
   "source": [
    "tokenizer = Tokenizer()\n",
    "\n",
    "tokenizer.fit_on_texts(corpus)\n",
    "\n",
    "total_words = len(tokenizer.word_index)+1\n",
    "\n",
    "print(f'Word index dictionart: {tokenizer.word_index}')\n",
    "print(f'total Words: {total_words}')"
   ]
  },
  {
   "cell_type": "code",
   "execution_count": null,
   "metadata": {
    "colab": {
     "base_uri": "https://localhost:8080/"
    },
    "id": "3odu7SMy9a0q",
    "outputId": "9e18cea0-125a-426f-ef0b-3629018ed300"
   },
   "outputs": [
    {
     "name": "stdout",
     "output_type": "stream",
     "text": [
      "139\n"
     ]
    }
   ],
   "source": [
    "print(tokenizer.word_index['look'])"
   ]
  },
  {
   "cell_type": "code",
   "execution_count": null,
   "metadata": {
    "id": "pCIOnleLwJbY"
   },
   "outputs": [],
   "source": [
    "input_sequences = []\n",
    "\n",
    "for line in corpus:\n",
    "  token_list = tokenizer.texts_to_sequences([line])[0]\n",
    "\n",
    "  for i in range(len(token_list)):\n",
    "    n_gram=token_list[:i+1]\n",
    "\n",
    "    input_sequences.append(n_gram)\n",
    "\n",
    "max_length = max([len(j) for j in input_sequences])\n",
    "\n",
    "input_sequences = np.array(pad_sequences(input_sequences, padding='pre', maxlen=max_length))\n",
    "\n",
    "xs, labels = input_sequences[:,:-1],input_sequences[:,-1]\n",
    "\n",
    "ys = tf.keras.utils.to_categorical(labels, num_classes=total_words)"
   ]
  },
  {
   "cell_type": "code",
   "execution_count": null,
   "metadata": {
    "colab": {
     "base_uri": "https://localhost:8080/"
    },
    "id": "O-NFbCVpEfX9",
    "outputId": "7cecec16-ed05-41f6-c287-f9e6f4d13f93"
   },
   "outputs": [
    {
     "name": "stdout",
     "output_type": "stream",
     "text": [
      "235\n"
     ]
    }
   ],
   "source": [
    "print(max_length)"
   ]
  },
  {
   "cell_type": "code",
   "execution_count": null,
   "metadata": {
    "colab": {
     "base_uri": "https://localhost:8080/"
    },
    "id": "Ophodv5p0P9z",
    "outputId": "902f3e90-5b66-4dfa-81f2-6af371ce82fc"
   },
   "outputs": [
    {
     "name": "stdout",
     "output_type": "stream",
     "text": [
      "sample sentence: \n",
      "['kanye', 'can', 'i', 'talk', 'to', 'you', 'for', 'a', 'minute', 'me', 'and', 'the', 'other', 'faculty', 'members', 'was', \"wonderin'\", 'could', 'you', 'do', 'a', 'lil', 'som', \"somethin'\", 'beautiful', \"somethin'\", 'that', 'the', 'kids', 'is', \"gon'\", 'love', 'when', 'they', 'hear', 'it', \"tha's\", 'gon', 'make', 'them', 'start', \"jumpin'\", 'up', 'and', 'down', 'and', \"sharin'\", 'candy', \"an'\", 'stuff', 'think', 'you', 'could', 'probably', 'do', \"somethin'\", 'for', 'the', 'kids', 'for', 'graduation', 'to', 'singintro']\n",
      "[33, 52, 1, 187, 4, 3, 21, 6, 889, 9, 5, 2, 303, 2819, 1992, 36, 890, 100, 3, 53, 6, 585, 2820, 375, 632, 375, 11, 2, 244, 25, 121, 55, 42, 29, 234, 8, 2821, 376, 78, 101, 287, 2822, 16, 5, 41, 5, 1993, 985, 1113, 986, 156, 3, 100, 800, 53, 375, 21, 2, 244, 21, 1540, 4, 2823]\n"
     ]
    }
   ],
   "source": [
    "sentence = corpus[0].lower().split()\n",
    "print(f'sample sentence: \\n{sentence}')\n",
    "\n",
    "token_list = []\n",
    "\n",
    "for word in sentence: \n",
    "  token_list.append(tokenizer.word_index[word])\n",
    "\n",
    "print(token_list)"
   ]
  },
  {
   "cell_type": "code",
   "execution_count": null,
   "metadata": {
    "colab": {
     "base_uri": "https://localhost:8080/"
    },
    "id": "XgZWtm4O1FhN",
    "outputId": "328c90c2-41d6-4178-add9-8b27b1a4f3ab"
   },
   "outputs": [
    {
     "name": "stdout",
     "output_type": "stream",
     "text": [
      "token list: [  0   0   0   0   0   0   0   0   0   0   0   0   0   0   0   0   0   0\n",
      "   0   0   0   0   0   0   0   0   0   0   0   0   0   0   0   0   0   0\n",
      "   0   0   0   0   0   0   0   0   0   0   0   0   0   0   0   0   0   0\n",
      "   0   0   0   0   0   0   0   0   0   0   0   0   0   0   0   0   0   0\n",
      "   0   0   0   0   0   0   0   0   0   0   0   0   0   0   0   0   0   0\n",
      "   0   0   0   0   0   0   0   0   0   0   0   0   0   0   0   0   0   0\n",
      "   0   0   0   0   0   0   0   0   0   0   0   0   0   0   0   0   0   0\n",
      "   0   0   0   0   0   0   0   0   0   0   0   0   0   0   0   0   0   0\n",
      "   0   0   0   0   0   0   0   0   0   0   0   0   0   0   0   0   0   0\n",
      "   0   0   0   0   0   0   0   0   0   0   0   0   0   0   0   0   0   0\n",
      "   0   0   0   0   0   0   0   0   0   0   0   0   0   0   0   0   0   0\n",
      "   0   0   0   0   0   0   0   0   0   0   0   0   0   0   0   0   0   0\n",
      "   0   0   0   0   0   0   0   0   0   0   0   0  33  52   1 187   4   3]\n",
      "decoded to text: ['kanye can i talk to you']\n"
     ]
    }
   ],
   "source": [
    "elem_number = 6\n",
    "\n",
    "print(f'token list: {xs[elem_number]}')\n",
    "print(f'decoded to text: {tokenizer.sequences_to_texts([xs[elem_number]])}')\n"
   ]
  },
  {
   "cell_type": "code",
   "execution_count": null,
   "metadata": {
    "colab": {
     "base_uri": "https://localhost:8080/"
    },
    "id": "YVYmDEVF27Qh",
    "outputId": "f8da67f6-aba5-4bc8-b1d6-8950d0c58245"
   },
   "outputs": [
    {
     "name": "stdout",
     "output_type": "stream",
     "text": [
      "one-hot label: [0. 0. 0. ... 0. 0. 0.]\n",
      "index of label: 21\n"
     ]
    }
   ],
   "source": [
    "print(f'one-hot label: {ys[elem_number]}')\n",
    "print(f'index of label: {np.argmax(ys[elem_number])}')"
   ]
  },
  {
   "cell_type": "code",
   "execution_count": null,
   "metadata": {
    "colab": {
     "base_uri": "https://localhost:8080/"
    },
    "id": "dn6vC71V3BhJ",
    "outputId": "fb2a43c3-7954-47c7-f0b8-32323d865cc8"
   },
   "outputs": [
    {
     "name": "stdout",
     "output_type": "stream",
     "text": [
      "token list: [  0   0   0   0   0   0   0   0   0   0   0   0   0   0   0   0   0   0\n",
      "   0   0   0   0   0   0   0   0   0   0   0   0   0   0   0   0   0   0\n",
      "   0   0   0   0   0   0   0   0   0   0   0   0   0   0   0   0   0   0\n",
      "   0   0   0   0   0   0   0   0   0   0   0   0   0   0   0   0   0   0\n",
      "   0   0   0   0   0   0   0   0   0   0   0   0   0   0   0   0   0   0\n",
      "   0   0   0   0   0   0   0   0   0   0   0   0   0   0   0   0   0   0\n",
      "   0   0   0   0   0   0   0   0   0   0   0   0   0   0   0   0   0   0\n",
      "   0   0   0   0   0   0   0   0   0   0   0   0   0   0   0   0   0   0\n",
      "   0   0   0   0   0   0   0   0   0   0   0   0   0   0   0   0   0   0\n",
      "   0   0   0   0   0   0   0   0   0   0   0   0   0   0   0   0   0   0\n",
      "   0   0   0   0   0   0   0   0   0   0   0   0   0   0   0   0   0   0\n",
      "   0   0   0   0   0   0   0   0   0   0   0   0   0   0   0   0   0   0\n",
      "   0   0   0   0   0   0   0   0   0   0   0   0   0  33  52   1 187   4]\n",
      "decoded to text: ['kanye can i talk to']\n",
      "one-hot label: [0. 0. 0. ... 0. 0. 0.]\n",
      "index of label: 3\n"
     ]
    }
   ],
   "source": [
    "elem_number = 5\n",
    "\n",
    "print(f'token list: {xs[elem_number]}')\n",
    "print(f'decoded to text: {tokenizer.sequences_to_texts([xs[elem_number]])}')\n",
    "\n",
    "print(f'one-hot label: {ys[elem_number]}')\n",
    "print(f'index of label: {np.argmax(ys[elem_number])}')"
   ]
  },
  {
   "cell_type": "code",
   "execution_count": null,
   "metadata": {
    "colab": {
     "base_uri": "https://localhost:8080/"
    },
    "id": "ly4kqD0XyKKw",
    "outputId": "e4d7cd60-d99e-4247-809a-cce9deab6e63"
   },
   "outputs": [
    {
     "name": "stdout",
     "output_type": "stream",
     "text": [
      "6190\n",
      "235\n",
      "62860\n"
     ]
    }
   ],
   "source": [
    "print(total_words)\n",
    "print(max_length)\n",
    "print(len(xs))"
   ]
  },
  {
   "cell_type": "code",
   "execution_count": null,
   "metadata": {
    "colab": {
     "base_uri": "https://localhost:8080/"
    },
    "id": "aEKrqh0U3Ygx",
    "outputId": "9e8813fb-4a02-4c82-a418-0c1e3a29a31f"
   },
   "outputs": [
    {
     "name": "stdout",
     "output_type": "stream",
     "text": [
      "Model: \"sequential_1\"\n",
      "_________________________________________________________________\n",
      " Layer (type)                Output Shape              Param #   \n",
      "=================================================================\n",
      " embedding_1 (Embedding)     (None, 234, 100)          619000    \n",
      "                                                                 \n",
      " bidirectional_1 (Bidirectio  (None, 300)              301200    \n",
      " nal)                                                            \n",
      "                                                                 \n",
      " dense_1 (Dense)             (None, 6190)              1863190   \n",
      "                                                                 \n",
      "=================================================================\n",
      "Total params: 2,783,390\n",
      "Trainable params: 2,783,390\n",
      "Non-trainable params: 0\n",
      "_________________________________________________________________\n"
     ]
    }
   ],
   "source": [
    "embedding_dim = 100\n",
    "lstm_units = 150\n",
    "learning_rate = 0.01\n",
    "\n",
    "model = tf.keras.models.Sequential([\n",
    "    tf.keras.layers.Embedding(total_words, embedding_dim, input_length=max_length-1),\n",
    "    tf.keras.layers.Bidirectional(tf.keras.layers.LSTM(lstm_units)),\n",
    "    tf.keras.layers.Dense(total_words, activation='softmax')\n",
    "])\n",
    "\n",
    "\n",
    "model.compile(loss='categorical_crossentropy', optimizer=tf.keras.optimizers.Adam(learning_rate=learning_rate), metrics=['accuracy'])\n",
    "\n",
    "model.summary()"
   ]
  },
  {
   "cell_type": "code",
   "execution_count": null,
   "metadata": {
    "colab": {
     "base_uri": "https://localhost:8080/"
    },
    "id": "IajKJziw4JF8",
    "outputId": "53d5c84f-22f6-4d37-8de5-61b1c8f92357"
   },
   "outputs": [
    {
     "name": "stdout",
     "output_type": "stream",
     "text": [
      "Epoch 1/100\n",
      "1965/1965 [==============================] - 60s 28ms/step - loss: 6.0767 - accuracy: 0.1060\n",
      "Epoch 2/100\n",
      "1965/1965 [==============================] - 55s 28ms/step - loss: 5.0892 - accuracy: 0.1785\n",
      "Epoch 3/100\n",
      "1965/1965 [==============================] - 56s 28ms/step - loss: 4.5033 - accuracy: 0.2144\n",
      "Epoch 4/100\n",
      "1965/1965 [==============================] - 55s 28ms/step - loss: 4.0744 - accuracy: 0.2461\n",
      "Epoch 5/100\n",
      "1965/1965 [==============================] - 56s 29ms/step - loss: 3.7768 - accuracy: 0.2723\n",
      "Epoch 6/100\n",
      "1965/1965 [==============================] - 55s 28ms/step - loss: 3.5878 - accuracy: 0.2934\n",
      "Epoch 7/100\n",
      "1965/1965 [==============================] - 55s 28ms/step - loss: 3.4479 - accuracy: 0.3091\n",
      "Epoch 8/100\n",
      "1965/1965 [==============================] - 55s 28ms/step - loss: 3.3610 - accuracy: 0.3212\n",
      "Epoch 9/100\n",
      "1965/1965 [==============================] - 55s 28ms/step - loss: 3.2877 - accuracy: 0.3307\n",
      "Epoch 10/100\n",
      "1965/1965 [==============================] - 55s 28ms/step - loss: 3.2468 - accuracy: 0.3369\n",
      "Epoch 11/100\n",
      "1965/1965 [==============================] - 55s 28ms/step - loss: 3.1862 - accuracy: 0.3444\n",
      "Epoch 12/100\n",
      "1965/1965 [==============================] - 55s 28ms/step - loss: 3.1529 - accuracy: 0.3504\n",
      "Epoch 13/100\n",
      "1965/1965 [==============================] - 56s 29ms/step - loss: 3.1468 - accuracy: 0.3503\n",
      "Epoch 14/100\n",
      "1965/1965 [==============================] - 56s 29ms/step - loss: 3.1248 - accuracy: 0.3580\n",
      "Epoch 15/100\n",
      "1965/1965 [==============================] - 56s 29ms/step - loss: 3.0942 - accuracy: 0.3602\n",
      "Epoch 16/100\n",
      "1965/1965 [==============================] - 56s 28ms/step - loss: 3.0796 - accuracy: 0.3644\n",
      "Epoch 17/100\n",
      "1965/1965 [==============================] - 55s 28ms/step - loss: 3.0820 - accuracy: 0.3635\n",
      "Epoch 18/100\n",
      "1965/1965 [==============================] - 56s 29ms/step - loss: 3.0585 - accuracy: 0.3658\n",
      "Epoch 19/100\n",
      "1965/1965 [==============================] - 57s 29ms/step - loss: 3.0223 - accuracy: 0.3720\n",
      "Epoch 20/100\n",
      "1965/1965 [==============================] - 56s 29ms/step - loss: 3.0191 - accuracy: 0.3737\n",
      "Epoch 21/100\n",
      "1965/1965 [==============================] - 56s 28ms/step - loss: 3.0264 - accuracy: 0.3730\n",
      "Epoch 22/100\n",
      "1965/1965 [==============================] - 56s 28ms/step - loss: 3.0264 - accuracy: 0.3733\n",
      "Epoch 23/100\n",
      "1965/1965 [==============================] - 56s 29ms/step - loss: 3.0142 - accuracy: 0.3744\n",
      "Epoch 24/100\n",
      "1965/1965 [==============================] - 57s 29ms/step - loss: 3.0467 - accuracy: 0.3701\n",
      "Epoch 25/100\n",
      "1965/1965 [==============================] - 56s 28ms/step - loss: 3.0201 - accuracy: 0.3742\n",
      "Epoch 26/100\n",
      "1965/1965 [==============================] - 55s 28ms/step - loss: 2.9915 - accuracy: 0.3781\n",
      "Epoch 27/100\n",
      "1965/1965 [==============================] - 55s 28ms/step - loss: 2.9785 - accuracy: 0.3810\n",
      "Epoch 28/100\n",
      "1965/1965 [==============================] - 55s 28ms/step - loss: 3.0416 - accuracy: 0.3767\n",
      "Epoch 29/100\n",
      "1965/1965 [==============================] - 55s 28ms/step - loss: 3.0112 - accuracy: 0.3794\n",
      "Epoch 30/100\n",
      "1965/1965 [==============================] - 55s 28ms/step - loss: 2.9910 - accuracy: 0.3812\n",
      "Epoch 31/100\n",
      "1965/1965 [==============================] - 55s 28ms/step - loss: 3.0117 - accuracy: 0.3785\n",
      "Epoch 32/100\n",
      "1965/1965 [==============================] - 55s 28ms/step - loss: 2.9857 - accuracy: 0.3830\n",
      "Epoch 33/100\n",
      "1965/1965 [==============================] - 55s 28ms/step - loss: 2.9600 - accuracy: 0.3864\n",
      "Epoch 34/100\n",
      "1965/1965 [==============================] - 54s 28ms/step - loss: 2.9708 - accuracy: 0.3860\n",
      "Epoch 35/100\n",
      "1965/1965 [==============================] - 55s 28ms/step - loss: 2.9525 - accuracy: 0.3902\n",
      "Epoch 36/100\n",
      "1965/1965 [==============================] - 56s 28ms/step - loss: 2.9479 - accuracy: 0.3904\n",
      "Epoch 37/100\n",
      "1965/1965 [==============================] - 54s 28ms/step - loss: 2.9385 - accuracy: 0.3914\n",
      "Epoch 38/100\n",
      "1965/1965 [==============================] - 55s 28ms/step - loss: 2.9346 - accuracy: 0.3916\n",
      "Epoch 39/100\n",
      "1965/1965 [==============================] - 55s 28ms/step - loss: 3.0601 - accuracy: 0.3818\n",
      "Epoch 40/100\n",
      "1965/1965 [==============================] - 55s 28ms/step - loss: 3.0149 - accuracy: 0.3884\n",
      "Epoch 41/100\n",
      "1965/1965 [==============================] - 56s 29ms/step - loss: 2.9913 - accuracy: 0.3895\n",
      "Epoch 42/100\n",
      "1965/1965 [==============================] - 55s 28ms/step - loss: 2.9851 - accuracy: 0.3884\n",
      "Epoch 43/100\n",
      "1965/1965 [==============================] - 55s 28ms/step - loss: 2.9417 - accuracy: 0.3914\n",
      "Epoch 44/100\n",
      "1965/1965 [==============================] - 56s 28ms/step - loss: 2.9311 - accuracy: 0.3960\n",
      "Epoch 45/100\n",
      "1965/1965 [==============================] - 55s 28ms/step - loss: 2.9340 - accuracy: 0.3946\n",
      "Epoch 46/100\n",
      "1965/1965 [==============================] - 55s 28ms/step - loss: 2.9221 - accuracy: 0.3971\n",
      "Epoch 47/100\n",
      "1965/1965 [==============================] - 55s 28ms/step - loss: 2.9108 - accuracy: 0.3989\n",
      "Epoch 48/100\n",
      "1965/1965 [==============================] - 55s 28ms/step - loss: 2.9290 - accuracy: 0.3957\n",
      "Epoch 49/100\n",
      "1965/1965 [==============================] - 55s 28ms/step - loss: 2.9607 - accuracy: 0.3991\n",
      "Epoch 50/100\n",
      "1965/1965 [==============================] - 56s 29ms/step - loss: 3.0028 - accuracy: 0.3964\n",
      "Epoch 51/100\n",
      "1965/1965 [==============================] - 56s 28ms/step - loss: 2.9913 - accuracy: 0.3960\n",
      "Epoch 52/100\n",
      "1965/1965 [==============================] - 56s 28ms/step - loss: 2.9467 - accuracy: 0.3982\n",
      "Epoch 53/100\n",
      "1965/1965 [==============================] - 55s 28ms/step - loss: 2.9221 - accuracy: 0.3983\n",
      "Epoch 54/100\n",
      "1965/1965 [==============================] - 55s 28ms/step - loss: 2.9469 - accuracy: 0.3988\n",
      "Epoch 55/100\n",
      "1965/1965 [==============================] - 55s 28ms/step - loss: 2.9558 - accuracy: 0.3975\n",
      "Epoch 56/100\n",
      "1965/1965 [==============================] - 54s 28ms/step - loss: 2.9035 - accuracy: 0.4042\n",
      "Epoch 57/100\n",
      "1965/1965 [==============================] - 55s 28ms/step - loss: 2.9093 - accuracy: 0.4019\n",
      "Epoch 58/100\n",
      "1965/1965 [==============================] - 54s 28ms/step - loss: 2.8930 - accuracy: 0.4040\n",
      "Epoch 59/100\n",
      "1965/1965 [==============================] - 56s 29ms/step - loss: 2.9102 - accuracy: 0.4037\n",
      "Epoch 60/100\n",
      "1965/1965 [==============================] - 56s 28ms/step - loss: 2.8804 - accuracy: 0.4065\n",
      "Epoch 61/100\n",
      "1965/1965 [==============================] - 56s 28ms/step - loss: 2.8996 - accuracy: 0.4054\n",
      "Epoch 62/100\n",
      "1965/1965 [==============================] - 55s 28ms/step - loss: 2.8738 - accuracy: 0.4092\n",
      "Epoch 63/100\n",
      "1965/1965 [==============================] - 56s 28ms/step - loss: 2.8966 - accuracy: 0.4059\n",
      "Epoch 64/100\n",
      "1965/1965 [==============================] - 57s 29ms/step - loss: 2.8581 - accuracy: 0.4116\n",
      "Epoch 65/100\n",
      "1965/1965 [==============================] - 56s 28ms/step - loss: 2.8556 - accuracy: 0.4126\n",
      "Epoch 66/100\n",
      "1965/1965 [==============================] - 55s 28ms/step - loss: 2.8648 - accuracy: 0.4114\n",
      "Epoch 67/100\n",
      "1965/1965 [==============================] - 55s 28ms/step - loss: 2.8618 - accuracy: 0.4121\n",
      "Epoch 68/100\n",
      "1965/1965 [==============================] - 56s 28ms/step - loss: 2.8641 - accuracy: 0.4140\n",
      "Epoch 69/100\n",
      "1965/1965 [==============================] - 56s 29ms/step - loss: 2.8414 - accuracy: 0.4166\n",
      "Epoch 70/100\n",
      "1965/1965 [==============================] - 56s 28ms/step - loss: 2.8325 - accuracy: 0.4188\n",
      "Epoch 71/100\n",
      "1965/1965 [==============================] - 56s 28ms/step - loss: 2.9276 - accuracy: 0.4102\n",
      "Epoch 72/100\n",
      "1965/1965 [==============================] - 56s 29ms/step - loss: 2.8762 - accuracy: 0.4146\n",
      "Epoch 73/100\n",
      "1965/1965 [==============================] - 57s 29ms/step - loss: 2.8415 - accuracy: 0.4191\n",
      "Epoch 74/100\n",
      "1965/1965 [==============================] - 56s 28ms/step - loss: 2.8270 - accuracy: 0.4199\n",
      "Epoch 75/100\n",
      "1965/1965 [==============================] - 56s 28ms/step - loss: 2.8789 - accuracy: 0.4149\n",
      "Epoch 76/100\n",
      "1965/1965 [==============================] - 55s 28ms/step - loss: 2.8374 - accuracy: 0.4186\n",
      "Epoch 77/100\n",
      "1965/1965 [==============================] - 56s 28ms/step - loss: 2.8149 - accuracy: 0.4210\n",
      "Epoch 78/100\n",
      "1965/1965 [==============================] - 56s 28ms/step - loss: 2.8208 - accuracy: 0.4219\n",
      "Epoch 79/100\n",
      "1965/1965 [==============================] - 55s 28ms/step - loss: 2.8168 - accuracy: 0.4240\n",
      "Epoch 80/100\n",
      "1965/1965 [==============================] - 55s 28ms/step - loss: 2.8068 - accuracy: 0.4247\n",
      "Epoch 81/100\n",
      "1965/1965 [==============================] - 57s 29ms/step - loss: 2.8585 - accuracy: 0.4185\n",
      "Epoch 82/100\n",
      "1965/1965 [==============================] - 55s 28ms/step - loss: 2.8837 - accuracy: 0.4172\n",
      "Epoch 83/100\n",
      "1965/1965 [==============================] - 55s 28ms/step - loss: 2.8672 - accuracy: 0.4181\n",
      "Epoch 84/100\n",
      "1965/1965 [==============================] - 55s 28ms/step - loss: 2.9243 - accuracy: 0.4165\n",
      "Epoch 85/100\n",
      "1965/1965 [==============================] - 54s 28ms/step - loss: 2.9066 - accuracy: 0.4174\n",
      "Epoch 86/100\n",
      "1965/1965 [==============================] - 56s 29ms/step - loss: 2.9202 - accuracy: 0.4144\n",
      "Epoch 87/100\n",
      "1965/1965 [==============================] - 54s 28ms/step - loss: 2.8981 - accuracy: 0.4156\n",
      "Epoch 88/100\n",
      "1965/1965 [==============================] - 54s 28ms/step - loss: 2.8981 - accuracy: 0.4157\n",
      "Epoch 89/100\n",
      "1965/1965 [==============================] - 55s 28ms/step - loss: 2.9464 - accuracy: 0.4127\n",
      "Epoch 90/100\n",
      "1965/1965 [==============================] - 55s 28ms/step - loss: 2.9052 - accuracy: 0.4159\n",
      "Epoch 91/100\n",
      "1965/1965 [==============================] - 54s 28ms/step - loss: 2.9061 - accuracy: 0.4171\n",
      "Epoch 92/100\n",
      "1965/1965 [==============================] - 54s 27ms/step - loss: 2.8728 - accuracy: 0.4203\n",
      "Epoch 93/100\n",
      "1965/1965 [==============================] - 54s 27ms/step - loss: 2.8567 - accuracy: 0.4216\n",
      "Epoch 94/100\n",
      "1965/1965 [==============================] - 53s 27ms/step - loss: 2.8562 - accuracy: 0.4217\n",
      "Epoch 95/100\n",
      "1965/1965 [==============================] - 55s 28ms/step - loss: 2.8614 - accuracy: 0.4217\n",
      "Epoch 96/100\n",
      "1965/1965 [==============================] - 54s 27ms/step - loss: 2.9733 - accuracy: 0.4142\n",
      "Epoch 97/100\n",
      "1965/1965 [==============================] - 54s 27ms/step - loss: 3.0100 - accuracy: 0.4057\n",
      "Epoch 98/100\n",
      "1965/1965 [==============================] - 54s 27ms/step - loss: 3.0642 - accuracy: 0.4049\n",
      "Epoch 99/100\n",
      "1965/1965 [==============================] - 55s 28ms/step - loss: 2.9213 - accuracy: 0.4150\n",
      "Epoch 100/100\n",
      "1965/1965 [==============================] - 54s 27ms/step - loss: 2.8940 - accuracy: 0.4185\n"
     ]
    }
   ],
   "source": [
    "history = model.fit(xs, ys, epochs=100)"
   ]
  },
  {
   "cell_type": "code",
   "execution_count": null,
   "metadata": {
    "id": "KlfHmAyGeaYv"
   },
   "outputs": [],
   "source": [
    "# path='saved_models/model_lyrics_gen_eminem'\n",
    "# model.save(path)"
   ]
  },
  {
   "cell_type": "code",
   "execution_count": null,
   "metadata": {
    "colab": {
     "base_uri": "https://localhost:8080/",
     "height": 279
    },
    "id": "f1Jma0St4XnK",
    "outputId": "ea264ff6-a6f8-42df-99c0-191de8c238ab"
   },
   "outputs": [
    {
     "data": {
      "image/png": "[encoded data removed]",
      "text/plain": [
       "<Figure size 432x288 with 1 Axes>"
      ]
     },
     "metadata": {
      "needs_background": "light"
     },
     "output_type": "display_data"
    }
   ],
   "source": [
    "import matplotlib.pyplot as plt\n",
    "\n",
    "# Plot utility\n",
    "def plot_graphs(history, string):\n",
    "  plt.plot(history.history[string])\n",
    "  plt.xlabel(\"Epochs\")\n",
    "  plt.ylabel(string)\n",
    "  plt.show()\n",
    "\n",
    "# Visualize the accuracy\n",
    "plot_graphs(history, 'accuracy')"
   ]
  },
  {
   "cell_type": "code",
   "execution_count": null,
   "metadata": {
    "colab": {
     "base_uri": "https://localhost:8080/"
    },
    "id": "MOTWlInSyPP3",
    "outputId": "7b9cf738-13cc-474b-924e-0df68d5f5b28"
   },
   "outputs": [
    {
     "name": "stdout",
     "output_type": "stream",
     "text": [
      "  adding: content/saved_models/model_lyrics_gen_eminem/ (stored 0%)\n",
      "  adding: content/saved_models/model_lyrics_gen_eminem/assets/ (stored 0%)\n",
      "  adding: content/saved_models/model_lyrics_gen_eminem/variables/ (stored 0%)\n",
      "  adding: content/saved_models/model_lyrics_gen_eminem/variables/variables.index (deflated 64%)\n",
      "  adding: content/saved_models/model_lyrics_gen_eminem/variables/variables.data-00000-of-00001 (deflated 23%)\n",
      "  adding: content/saved_models/model_lyrics_gen_eminem/keras_metadata.pb (deflated 89%)\n",
      "  adding: content/saved_models/model_lyrics_gen_eminem/saved_model.pb (deflated 90%)\n"
     ]
    }
   ],
   "source": [
    "# !zip -r /content/saved_models/model_eminem.zip /content/saved_models/model_lyrics_gen_eminem"
   ]
  },
  {
   "cell_type": "code",
   "execution_count": null,
   "metadata": {
    "id": "Ur0UF5i-ysri"
   },
   "outputs": [],
   "source": [
    "# from google.colab import files\n",
    "# files.download('/content/saved_models/model_eminem.zip')"
   ]
  },
  {
   "cell_type": "code",
   "execution_count": null,
   "metadata": {
    "id": "8DOmv-pL1lDs"
   },
   "outputs": [],
   "source": [
    "# from zipfile import ZipFile\n",
    "\n",
    "# with ZipFile(\"/content/model_kanye.zip\", 'r') as zObject:\n",
    "#   zObject.extractall(path=\"/\")"
   ]
  },
  {
   "cell_type": "code",
   "execution_count": null,
   "metadata": {
    "id": "ThRHoXCrzLrz"
   },
   "outputs": [],
   "source": [
    "model2 = tf.keras.models.load_model('saved_models/model_lyrics_gen_kanye')"
   ]
  },
  {
   "cell_type": "code",
   "execution_count": null,
   "metadata": {
    "colab": {
     "base_uri": "https://localhost:8080/"
    },
    "id": "siTVyJqv0zH0",
    "outputId": "7b93a70b-4569-43da-b80b-bc0d75ab9924"
   },
   "outputs": [
    {
     "name": "stdout",
     "output_type": "stream",
     "text": [
      "Model: \"sequential\"\n",
      "_________________________________________________________________\n",
      " Layer (type)                Output Shape              Param #   \n",
      "=================================================================\n",
      " embedding (Embedding)       (None, 234, 100)          619000    \n",
      "                                                                 \n",
      " bidirectional (Bidirectiona  (None, 300)              301200    \n",
      " l)                                                              \n",
      "                                                                 \n",
      " dense (Dense)               (None, 6190)              1863190   \n",
      "                                                                 \n",
      "=================================================================\n",
      "Total params: 2,783,390\n",
      "Trainable params: 2,783,390\n",
      "Non-trainable params: 0\n",
      "_________________________________________________________________\n"
     ]
    }
   ],
   "source": [
    "model2.summary()"
   ]
  },
  {
   "cell_type": "code",
   "execution_count": null,
   "metadata": {
    "colab": {
     "base_uri": "https://localhost:8080/"
    },
    "id": "37s_sye4418D",
    "outputId": "4a5f4a6d-f6d7-4858-bce1-6acd641b1e39"
   },
   "outputs": [
    {
     "name": "stdout",
     "output_type": "stream",
     "text": [
      "1/1 [==============================] - 2s 2s/step\n",
      "1/1 [==============================] - 0s 28ms/step\n",
      "1/1 [==============================] - 0s 29ms/step\n",
      "1/1 [==============================] - 0s 26ms/step\n",
      "1/1 [==============================] - 0s 26ms/step\n",
      "1/1 [==============================] - 0s 26ms/step\n",
      "1/1 [==============================] - 0s 25ms/step\n",
      "1/1 [==============================] - 0s 28ms/step\n",
      "1/1 [==============================] - 0s 27ms/step\n",
      "1/1 [==============================] - 0s 28ms/step\n",
      "1/1 [==============================] - 0s 28ms/step\n",
      "1/1 [==============================] - 0s 25ms/step\n",
      "1/1 [==============================] - 0s 27ms/step\n",
      "1/1 [==============================] - 0s 25ms/step\n",
      "1/1 [==============================] - 0s 28ms/step\n",
      "1/1 [==============================] - 0s 31ms/step\n",
      "1/1 [==============================] - 0s 31ms/step\n",
      "1/1 [==============================] - 0s 33ms/step\n",
      "1/1 [==============================] - 0s 27ms/step\n",
      "1/1 [==============================] - 0s 27ms/step\n",
      "1/1 [==============================] - 0s 28ms/step\n",
      "1/1 [==============================] - 0s 27ms/step\n",
      "1/1 [==============================] - 0s 28ms/step\n",
      "1/1 [==============================] - 0s 31ms/step\n",
      "1/1 [==============================] - 0s 27ms/step\n",
      "1/1 [==============================] - 0s 27ms/step\n",
      "1/1 [==============================] - 0s 27ms/step\n",
      "1/1 [==============================] - 0s 29ms/step\n",
      "1/1 [==============================] - 0s 30ms/step\n",
      "1/1 [==============================] - 0s 29ms/step\n",
      "1/1 [==============================] - 0s 28ms/step\n",
      "1/1 [==============================] - 0s 29ms/step\n",
      "1/1 [==============================] - 0s 29ms/step\n",
      "1/1 [==============================] - 0s 40ms/step\n",
      "1/1 [==============================] - 0s 32ms/step\n",
      "1/1 [==============================] - 0s 30ms/step\n",
      "1/1 [==============================] - 0s 26ms/step\n",
      "1/1 [==============================] - 0s 28ms/step\n",
      "1/1 [==============================] - 0s 26ms/step\n",
      "1/1 [==============================] - 0s 28ms/step\n",
      "1/1 [==============================] - 0s 29ms/step\n",
      "1/1 [==============================] - 0s 26ms/step\n",
      "1/1 [==============================] - 0s 28ms/step\n",
      "1/1 [==============================] - 0s 30ms/step\n",
      "1/1 [==============================] - 0s 27ms/step\n",
      "1/1 [==============================] - 0s 27ms/step\n",
      "1/1 [==============================] - 0s 27ms/step\n",
      "1/1 [==============================] - 0s 27ms/step\n",
      "1/1 [==============================] - 0s 32ms/step\n",
      "1/1 [==============================] - 0s 29ms/step\n",
      "1/1 [==============================] - 0s 30ms/step\n",
      "1/1 [==============================] - 0s 26ms/step\n",
      "1/1 [==============================] - 0s 35ms/step\n",
      "1/1 [==============================] - 0s 28ms/step\n",
      "1/1 [==============================] - 0s 27ms/step\n",
      "1/1 [==============================] - 0s 27ms/step\n",
      "1/1 [==============================] - 0s 32ms/step\n",
      "1/1 [==============================] - 0s 33ms/step\n",
      "1/1 [==============================] - 0s 29ms/step\n",
      "1/1 [==============================] - 0s 27ms/step\n",
      "1/1 [==============================] - 0s 28ms/step\n",
      "1/1 [==============================] - 0s 28ms/step\n",
      "1/1 [==============================] - 0s 32ms/step\n",
      "1/1 [==============================] - 0s 33ms/step\n",
      "1/1 [==============================] - 0s 28ms/step\n",
      "1/1 [==============================] - 0s 26ms/step\n",
      "1/1 [==============================] - 0s 28ms/step\n",
      "1/1 [==============================] - 0s 26ms/step\n",
      "1/1 [==============================] - 0s 30ms/step\n",
      "1/1 [==============================] - 0s 27ms/step\n",
      "1/1 [==============================] - 0s 93ms/step\n",
      "1/1 [==============================] - 0s 72ms/step\n",
      "1/1 [==============================] - 0s 30ms/step\n",
      "1/1 [==============================] - 0s 26ms/step\n",
      "1/1 [==============================] - 0s 28ms/step\n",
      "1/1 [==============================] - 0s 26ms/step\n",
      "1/1 [==============================] - 0s 28ms/step\n",
      "1/1 [==============================] - 0s 28ms/step\n",
      "1/1 [==============================] - 0s 36ms/step\n",
      "1/1 [==============================] - 0s 30ms/step\n",
      "1/1 [==============================] - 0s 28ms/step\n",
      "1/1 [==============================] - 0s 28ms/step\n",
      "1/1 [==============================] - 0s 33ms/step\n",
      "1/1 [==============================] - 0s 32ms/step\n",
      "1/1 [==============================] - 0s 29ms/step\n",
      "1/1 [==============================] - 0s 29ms/step\n",
      "1/1 [==============================] - 0s 29ms/step\n",
      "1/1 [==============================] - 0s 26ms/step\n",
      "1/1 [==============================] - 0s 43ms/step\n",
      "1/1 [==============================] - 0s 50ms/step\n",
      "1/1 [==============================] - 0s 73ms/step\n",
      "1/1 [==============================] - 0s 53ms/step\n",
      "1/1 [==============================] - 0s 51ms/step\n",
      "1/1 [==============================] - 0s 26ms/step\n",
      "1/1 [==============================] - 0s 25ms/step\n",
      "1/1 [==============================] - 0s 30ms/step\n",
      "1/1 [==============================] - 0s 28ms/step\n",
      "1/1 [==============================] - 0s 39ms/step\n",
      "1/1 [==============================] - 0s 46ms/step\n",
      "1/1 [==============================] - 0s 47ms/step\n"
     ]
    }
   ],
   "source": [
    "seed_text = \"i am\"\n",
    "\n",
    "next_words = 100\n",
    "\n",
    "for _ in range(next_words):\n",
    "  token_list = tokenizer.texts_to_sequences([seed_text])[0]\n",
    "\n",
    "  token_list = pad_sequences([token_list], padding='pre', maxlen=max_length-1)\n",
    "\n",
    "  probabilities = model2.predict(token_list)\n",
    "\n",
    "  predicted = np.argmax(probabilities, axis=-1)[0]\n",
    "\n",
    "  if predicted != 0:\n",
    "\n",
    "    predicted_word = tokenizer.index_word[predicted]\n",
    "\n",
    "    seed_text = seed_text+\" \"+predicted_word"
   ]
  },
  {
   "cell_type": "code",
   "execution_count": null,
   "metadata": {
    "colab": {
     "base_uri": "https://localhost:8080/"
    },
    "id": "cAud9T-J5xS4",
    "outputId": "93ae6854-0469-4afa-8e78-fcfcc4f4b8ab"
   },
   "outputs": [
    {
     "name": "stdout",
     "output_type": "stream",
     "text": [
      "i am a god dream 'round children zip it real makes the call now throw yo' hands up in the sky and baby do it faster makes us stronger harder better faster stronger big face control for the stars or wrong i been me 2 mr west your cares away we left off the wall and comes to being true at least true to me down who will shield your level mine will be with no visa destroy us then flop dreams of y'all gon' leave get down free a pretty girl energy bam'ey from black on black though oh he's if\n"
     ]
    }
   ],
   "source": [
    "print(seed_text)"
   ]
  },
  {
   "cell_type": "code",
   "execution_count": null,
   "metadata": {
    "id": "cmmdpBvT3IU9"
   },
   "outputs": [],
   "source": []
  },
  {
   "cell_type": "code",
   "execution_count": null,
   "metadata": {
    "id": "6nFK5hSc3IX8"
   },
   "outputs": [],
   "source": []
  },
  {
   "cell_type": "code",
   "execution_count": null,
   "metadata": {
    "id": "QO7Km-wN3Iai"
   },
   "outputs": [],
   "source": []
  },
  {
   "cell_type": "code",
   "execution_count": null,
   "metadata": {
    "id": "HlB61GCK3IeQ"
   },
   "outputs": [],
   "source": []
  },
  {
   "cell_type": "code",
   "execution_count": null,
   "metadata": {
    "id": "gcsnKiMQ3Ip6"
   },
   "outputs": [],
   "source": []
  },
  {
   "cell_type": "code",
   "execution_count": null,
   "metadata": {
    "colab": {
     "base_uri": "https://localhost:8080/"
    },
    "id": "BVE6dN5n6Vkm",
    "outputId": "9dafb655-f36d-440d-fba8-34b692aace27"
   },
   "outputs": [
    {
     "name": "stdout",
     "output_type": "stream",
     "text": [
      "40/40 [==============================] - 1s 16ms/step\n",
      "[[0.00016247 0.00016251 0.00016118 ... 0.00016166 0.00016114 0.00016162]\n",
      " [0.00016262 0.00016221 0.00016125 ... 0.00016181 0.00016117 0.00016186]\n",
      " [0.00016258 0.00016231 0.00016139 ... 0.00016179 0.00016122 0.00016169]\n",
      " ...\n",
      " [0.00016262 0.00016221 0.00016125 ... 0.00016181 0.00016117 0.00016186]\n",
      " [0.00016204 0.00016238 0.00016132 ... 0.00016169 0.00016119 0.00016156]\n",
      " [0.00016164 0.00016248 0.00016144 ... 0.00016163 0.00016123 0.00016131]]\n"
     ]
    }
   ],
   "source": [
    "test_x = np.array(xs[-1280:])\n",
    "test_y = np.array(ys[-1280:])\n",
    "predictions_probabilities = model.predict(test_x) \n",
    "print(predictions_probabilities)"
   ]
  },
  {
   "cell_type": "code",
   "execution_count": null,
   "metadata": {
    "id": "4motcrqb1cdu"
   },
   "outputs": [],
   "source": [
    "log_p = np.log(predictions_probabilities)"
   ]
  },
  {
   "cell_type": "code",
   "execution_count": null,
   "metadata": {
    "colab": {
     "base_uri": "https://localhost:8080/"
    },
    "id": "15M3OdBIs2YI",
    "outputId": "c0c99444-ea1f-40c8-c308-076754004b99"
   },
   "outputs": [
    {
     "data": {
      "text/plain": [
       "(1280, 6190)"
      ]
     },
     "execution_count": 74,
     "metadata": {},
     "output_type": "execute_result"
    }
   ],
   "source": [
    "log_p.shape"
   ]
  },
  {
   "cell_type": "code",
   "execution_count": null,
   "metadata": {
    "colab": {
     "base_uri": "https://localhost:8080/"
    },
    "id": "Zbn22Xuk1klf",
    "outputId": "b21de885-7d1e-4715-b827-b3592b7b1662"
   },
   "outputs": [
    {
     "data": {
      "text/plain": [
       "(1280, 6190)"
      ]
     },
     "execution_count": 75,
     "metadata": {},
     "output_type": "execute_result"
    }
   ],
   "source": [
    "test_y.shape"
   ]
  },
  {
   "cell_type": "code",
   "execution_count": null,
   "metadata": {
    "id": "pP9nyqFq1k-T"
   },
   "outputs": [],
   "source": [
    "log_ppx = np.sum(log_p * test_y, axis=-1)"
   ]
  },
  {
   "cell_type": "code",
   "execution_count": null,
   "metadata": {
    "colab": {
     "base_uri": "https://localhost:8080/"
    },
    "id": "8YmhMtYa1lF6",
    "outputId": "b94cf571-99dc-44b1-eda1-6a5591315a55"
   },
   "outputs": [
    {
     "data": {
      "text/plain": [
       "1.0001616"
      ]
     },
     "execution_count": 87,
     "metadata": {},
     "output_type": "execute_result"
    }
   ],
   "source": [
    "np.exp(log_ppx)"
   ]
  }
 ],
 "metadata": {
  "accelerator": "GPU",
  "colab": {
   "provenance": []
  },
  "gpuClass": "standard",
  "kernelspec": {
   "display_name": "Python 3 (ipykernel)",
   "language": "python",
   "name": "python3"
  },
  "language_info": {
   "codemirror_mode": {
    "name": "ipython",
    "version": 3
   },
   "file_extension": ".py",
   "mimetype": "text/x-python",
   "name": "python",
   "nbconvert_exporter": "python",
   "pygments_lexer": "ipython3",
   "version": "3.10.5"
  }
 },
 "nbformat": 4,
 "nbformat_minor": 1
}
